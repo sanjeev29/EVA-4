{
  "nbformat": 4,
  "nbformat_minor": 0,
  "metadata": {
    "colab": {
      "name": "dataset_creation.ipynb",
      "provenance": [],
      "collapsed_sections": [],
      "machine_shape": "hm",
      "include_colab_link": true
    },
    "kernelspec": {
      "name": "python3",
      "display_name": "Python 3"
    }
  },
  "cells": [
    {
      "cell_type": "markdown",
      "metadata": {
        "id": "view-in-github",
        "colab_type": "text"
      },
      "source": [
        "<a href=\"https://colab.research.google.com/github/sanjeev29/EVA-4/blob/master/S14-S15/dataset_creation.ipynb\" target=\"_parent\"><img src=\"https://colab.research.google.com/assets/colab-badge.svg\" alt=\"Open In Colab\"/></a>"
      ]
    },
    {
      "cell_type": "code",
      "metadata": {
        "id": "20Smm_cD-LSh",
        "colab_type": "code",
        "outputId": "1c0abe43-26a6-443f-83f5-8797abf21e13",
        "colab": {
          "base_uri": "https://localhost:8080/",
          "height": 71
        }
      },
      "source": [
        "from google.colab import drive\n",
        "drive.mount('/content/gdrive')\n",
        "%cd /content/gdrive/My\\ Drive/Assignment1"
      ],
      "execution_count": 0,
      "outputs": [
        {
          "output_type": "stream",
          "text": [
            "Drive already mounted at /content/gdrive; to attempt to forcibly remount, call drive.mount(\"/content/gdrive\", force_remount=True).\n",
            "/content/gdrive/.shortcut-targets-by-id/19ygnkTtKI59eR5CwYk-s8Ap1wiFEMfto/Output\n"
          ],
          "name": "stdout"
        }
      ]
    },
    {
      "cell_type": "markdown",
      "metadata": {
        "id": "OBZXMY-7cYYM",
        "colab_type": "text"
      },
      "source": [
        "#Code for flipping Foreground Images"
      ]
    },
    {
      "cell_type": "code",
      "metadata": {
        "id": "ukYa7Oc7ccf9",
        "colab_type": "code",
        "colab": {}
      },
      "source": [
        "from PIL import Image\n",
        "import cv2\n",
        "import numpy as np\n",
        "import tqdm\n",
        "count = 1\n",
        "for i in range(1,101):\n",
        "    image = cv2.imread('Foreground/People_'+str(i)+'.png', cv2.IMREAD_UNCHANGED)\n",
        "    flipped = cv2.flip(image, 1)\n",
        "    cv2.imwrite('D:/EVA4/Week14/flipForeground/People_'+str(i)+'.png', flipped)"
      ],
      "execution_count": 0,
      "outputs": []
    },
    {
      "cell_type": "markdown",
      "metadata": {
        "id": "gbrDjsGFcJEF",
        "colab_type": "text"
      },
      "source": [
        "#Code for Mask Image Generation"
      ]
    },
    {
      "cell_type": "code",
      "metadata": {
        "id": "kEmxSz5McNeZ",
        "colab_type": "code",
        "colab": {}
      },
      "source": [
        "import cv2\n",
        "import numpy as np\n",
        "import tqdm\n",
        "count = 1\n",
        "for i in range(1,101):\n",
        "    image = cv2.imread('Foreground/People_'+str(i)+'.png', cv2.IMREAD_UNCHANGED)\n",
        "    imagealpha = image[:,:,3]\n",
        "    cv2.imwrite('ForegroundMask/People_'+str(i)+'.png', imagealpha)\n"
      ],
      "execution_count": 0,
      "outputs": []
    },
    {
      "cell_type": "markdown",
      "metadata": {
        "id": "NjgaV5AUan1q",
        "colab_type": "text"
      },
      "source": [
        "#Code for Overlaying Foreground on Background\n",
        "flipped images are overlayed post 20 iterations"
      ]
    },
    {
      "cell_type": "code",
      "metadata": {
        "id": "B7HPM_02_23e",
        "colab_type": "code",
        "colab": {}
      },
      "source": [
        "from random import seed\n",
        "from random import random\n",
        "import numpy as np\n",
        "import cv2\n",
        "from tqdm.notebook import tqdm\n",
        "for x in tqdm(range(40)):\n",
        "  seed(x)\n",
        "  initx = int(np.floor(random()*79))\n",
        "  inity = int(np.floor(random()*79))\n",
        "  for mx in tqdm(range(1,101)): \n",
        "    overlay = cv2.imread('/content/gdrive/My Drive/Assignment1/Foreground/People_'+str(mx)+'.png', cv2.IMREAD_UNCHANGED)\n",
        "    overlay1 = cv2.imread('/content/gdrive/My Drive/Assignment1/ForegroundMask/People_'+str(mx)+'.png', cv2.IMREAD_UNCHANGED)\n",
        "    \n",
        "    flipoverlay = cv2.imread('/content/gdrive/My Drive/Assignment1/flipForeground/People_'+str(mx)+'.png', cv2.IMREAD_UNCHANGED)\n",
        "    flipoverlay1 = cv2.imread('/content/gdrive/My Drive/Assignment1/flipForegroundMask/People_'+str(mx)+'.png', cv2.IMREAD_UNCHANGED)\n",
        "    for k in (range(1,101)):\n",
        "        background = cv2.imread('/content/gdrive/My Drive/Assignment1/Background/Shelves_'+str(k)+'.png', cv2.IMREAD_UNCHANGED)\n",
        "        emptyimage = np.zeros((160,160), dtype = \"uint8\")\n",
        "        for i in range(initx,initx+overlay.shape[0]):\n",
        "            for j in range(inity,inity+overlay.shape[1]):\n",
        "                if x<20:\n",
        "                    if overlay[i-initx,j-inity,3]!=0:\n",
        "                        background[i,j,0:3] = overlay[i-initx,j-inity,0:3]\n",
        "                else:\n",
        "                    if flipoverlay[i-initx,j-inity,3]!=0:\n",
        "                        background[i,j,0:3] = flipoverlay[i-initx,j-inity,0:3]\n",
        "        if x<20:\n",
        "                 emptyimage[initx:initx+overlay.shape[0],inity:inity+overlay.shape[1]] = overlay1[0:overlay.shape[0],0:overlay.shape[1]]\n",
        "        else:\n",
        "                 emptyimage[initx:initx+overlay.shape[0],inity:inity+overlay.shape[1]] = flipoverlay1[0:overlay.shape[0],0:overlay.shape[1]]\n",
        "        cv2.imwrite('/content/gdrive/My Drive/Assignment1/Output/OverlayedImages/'+str(x)+'/combined_s'+str(k)+'_p'+str(mx)+'_it'+str(x)+'.jpg', background)\n",
        "        cv2.imwrite('/content/gdrive/My Drive/Assignment1/Output/OverlayedMasks/'+str(x)+'/combined_s'+str(k)+'_p'+str(mx)+'_it'+str(x)+'.jpg', emptyimage)"
      ],
      "execution_count": 0,
      "outputs": []
    },
    {
      "cell_type": "markdown",
      "metadata": {
        "id": "pG18IJdFazRi",
        "colab_type": "text"
      },
      "source": [
        "Needed for flushing data to drive"
      ]
    },
    {
      "cell_type": "code",
      "metadata": {
        "id": "vjVtpOO5BbMB",
        "colab_type": "code",
        "colab": {}
      },
      "source": [
        "drive.flush_and_unmount()"
      ],
      "execution_count": 0,
      "outputs": []
    },
    {
      "cell_type": "markdown",
      "metadata": {
        "id": "8qQX_Mb0bagi",
        "colab_type": "text"
      },
      "source": [
        "#Downloading DenseDepth Generation code in drive"
      ]
    },
    {
      "cell_type": "code",
      "metadata": {
        "id": "CeFXu2LB1FcS",
        "colab_type": "code",
        "colab": {}
      },
      "source": [
        "!rm -rf DenseDepth/\n",
        "!git clone https://github.com/csharpshooter/DenseDepth.git"
      ],
      "execution_count": 0,
      "outputs": []
    },
    {
      "cell_type": "markdown",
      "metadata": {
        "id": "mLWHkiXhbhwE",
        "colab_type": "text"
      },
      "source": [
        "#Downloading and saving model"
      ]
    },
    {
      "cell_type": "code",
      "metadata": {
        "id": "wOdiHasIpmj5",
        "colab_type": "code",
        "colab": {}
      },
      "source": [
        "!wget https://s3-eu-west-1.amazonaws.com/densedepth/nyu.h5 -O ./DenseDepth/nyu.h5"
      ],
      "execution_count": 0,
      "outputs": []
    },
    {
      "cell_type": "markdown",
      "metadata": {
        "id": "yiL7tIZWbsPE",
        "colab_type": "text"
      },
      "source": [
        "#Running test.py in above code for generating and saving images"
      ]
    },
    {
      "cell_type": "code",
      "metadata": {
        "id": "Fq4NTpmtqZkC",
        "colab_type": "code",
        "colab": {}
      },
      "source": [
        "!cd DenseDepth; python test.py"
      ],
      "execution_count": 0,
      "outputs": []
    },
    {
      "cell_type": "markdown",
      "metadata": {
        "id": "P5rFqxE_b3Qe",
        "colab_type": "text"
      },
      "source": [
        "#Flushing saved images"
      ]
    },
    {
      "cell_type": "code",
      "metadata": {
        "id": "DUizIQCF-yvh",
        "colab_type": "code",
        "colab": {}
      },
      "source": [
        "drive.flush_and_unmount()"
      ],
      "execution_count": 0,
      "outputs": []
    }
  ]
}