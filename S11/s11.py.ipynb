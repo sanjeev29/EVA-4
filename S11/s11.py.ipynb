{
 "cells": [
  {
   "cell_type": "code",
   "execution_count": 1,
   "metadata": {},
   "outputs": [],
   "source": [
    "%matplotlib inline\n",
    "import torch\n",
    "import torchvision\n",
    "import matplotlib.pyplot as plt\n",
    "import numpy as np"
   ]
  },
  {
   "cell_type": "code",
   "execution_count": 2,
   "metadata": {},
   "outputs": [
    {
     "name": "stdout",
     "output_type": "stream",
     "text": [
      "Files already downloaded and verified\n",
      "Files already downloaded and verified\n",
      "Files already downloaded and verified\n",
      "CUDA Available? True\n"
     ]
    }
   ],
   "source": [
    "from models.utils import loader\n",
    "\n",
    "# Initialize CIFAR-10 classes\n",
    "classes = ('plane', 'car', 'bird', 'cat',\n",
    "           'deer', 'dog', 'frog', 'horse', 'ship', 'truck')"
   ]
  },
  {
   "cell_type": "code",
   "execution_count": 3,
   "metadata": {},
   "outputs": [
    {
     "name": "stderr",
     "output_type": "stream",
     "text": [
      "Clipping input data to the valid range for imshow with RGB data ([0..1] for floats or [0..255] for integers).\n"
     ]
    },
    {
     "name": "stdout",
     "output_type": "stream",
     "text": [
      "plane   dog  deer  deer\n"
     ]
    },
    {
     "data": {
      "image/png": "[encoded data removed]",
      "text/plain": [
       "<Figure size 432x288 with 1 Axes>"
      ]
     },
     "metadata": {
      "needs_background": "light"
     },
     "output_type": "display_data"
    }
   ],
   "source": [
    "# functions to show an image\n",
    "def imshow(img):\n",
    "    img = img / 2 + 0.5     # unnormalize\n",
    "    npimg = img.numpy()\n",
    "    plt.imshow(np.transpose(npimg, (1, 2, 0)))\n",
    "\n",
    "# get some random training images\n",
    "dataiter = iter(loader.trainloader_for_plot_alb)\n",
    "images, labels = dataiter.next()\n",
    "\n",
    "# show images\n",
    "imshow(torchvision.utils.make_grid(images))\n",
    "\n",
    "# print labels\n",
    "print(' '.join('%5s' % classes[labels[j]] for j in range(4)))"
   ]
  },
  {
   "cell_type": "code",
   "execution_count": 4,
   "metadata": {},
   "outputs": [],
   "source": [
    "from models.A11 import Net"
   ]
  },
  {
   "cell_type": "code",
   "execution_count": 5,
   "metadata": {},
   "outputs": [
    {
     "name": "stdout",
     "output_type": "stream",
     "text": [
      "Device: cuda\n",
      "----------------------------------------------------------------\n",
      "        Layer (type)               Output Shape         Param #\n",
      "================================================================\n",
      "            Conv2d-1           [-1, 64, 32, 32]           1,728\n",
      "       BatchNorm2d-2           [-1, 64, 32, 32]             128\n",
      "              ReLU-3           [-1, 64, 32, 32]               0\n",
      "            Conv2d-4          [-1, 128, 32, 32]          73,728\n",
      "         MaxPool2d-5          [-1, 128, 16, 16]               0\n",
      "       BatchNorm2d-6          [-1, 128, 16, 16]             256\n",
      "              ReLU-7          [-1, 128, 16, 16]               0\n",
      "            Conv2d-8          [-1, 128, 16, 16]         147,456\n",
      "       BatchNorm2d-9          [-1, 128, 16, 16]             256\n",
      "             ReLU-10          [-1, 128, 16, 16]               0\n",
      "           Conv2d-11          [-1, 128, 16, 16]         147,456\n",
      "      BatchNorm2d-12          [-1, 128, 16, 16]             256\n",
      "           Conv2d-13          [-1, 256, 16, 16]         294,912\n",
      "        MaxPool2d-14            [-1, 256, 8, 8]               0\n",
      "      BatchNorm2d-15            [-1, 256, 8, 8]             512\n",
      "             ReLU-16            [-1, 256, 8, 8]               0\n",
      "           Conv2d-17            [-1, 512, 8, 8]       1,179,648\n",
      "        MaxPool2d-18            [-1, 512, 4, 4]               0\n",
      "      BatchNorm2d-19            [-1, 512, 4, 4]           1,024\n",
      "             ReLU-20            [-1, 512, 4, 4]               0\n",
      "           Conv2d-21            [-1, 512, 4, 4]       2,359,296\n",
      "      BatchNorm2d-22            [-1, 512, 4, 4]           1,024\n",
      "             ReLU-23            [-1, 512, 4, 4]               0\n",
      "           Conv2d-24            [-1, 512, 4, 4]       2,359,296\n",
      "      BatchNorm2d-25            [-1, 512, 4, 4]           1,024\n",
      "        MaxPool2d-26            [-1, 512, 1, 1]               0\n",
      "           Linear-27                   [-1, 10]           5,130\n",
      "================================================================\n",
      "Total params: 6,573,130\n",
      "Trainable params: 6,573,130\n",
      "Non-trainable params: 0\n",
      "----------------------------------------------------------------\n",
      "Input size (MB): 0.01\n",
      "Forward/backward pass size (MB): 6.13\n",
      "Params size (MB): 25.07\n",
      "Estimated Total Size (MB): 31.22\n",
      "----------------------------------------------------------------\n"
     ]
    }
   ],
   "source": [
    "from torchsummary import summary\n",
    "use_cuda = torch.cuda.is_available()\n",
    "device = torch.device(\"cuda\" if use_cuda else \"cpu\")\n",
    "print(f\"Device: {device}\")\n",
    "net = Net().to(device)\n",
    "summary(net, input_size=(3, 32, 32))"
   ]
  },
  {
   "cell_type": "code",
   "execution_count": 6,
   "metadata": {},
   "outputs": [],
   "source": [
    "import torch.nn as nn\n",
    "import torch.optim as optim\n",
    "\n",
    "criterion = nn.CrossEntropyLoss()\n",
    "optimizer = optim.SGD(net.parameters(), lr=1e-7, momentum=0.9, weight_decay=0.01)"
   ]
  },
  {
   "cell_type": "code",
   "execution_count": 7,
   "metadata": {},
   "outputs": [
    {
     "name": "stderr",
     "output_type": "stream",
     "text": [
      "WARNING:models.utils.lr_finder:To enable mixed precision training, please install `apex`. Or you can re-install this package by the following command:\n",
      "  pip install torch-lr-finder -v --global-option=\"amp\"\n"
     ]
    },
    {
     "data": {
      "application/vnd.jupyter.widget-view+json": {
       "model_id": "efd17e5f80994d94b9cfa94092cb8ca6",
       "version_major": 2,
       "version_minor": 0
      },
      "text/plain": [
       "HBox(children=(FloatProgress(value=0.0, max=10.0), HTML(value='')))"
      ]
     },
     "metadata": {},
     "output_type": "display_data"
    },
    {
     "name": "stdout",
     "output_type": "stream",
     "text": [
      "\n",
      "Learning rate search finished. See the graph with {finder_name}.plot()\n"
     ]
    }
   ],
   "source": [
    "from models.utils import lr_finder\n",
    "\n",
    "lr_finder = lr_finder.LRFinder(\n",
    "    model=net,\n",
    "    optimizer=optimizer,\n",
    "    criterion=criterion,\n",
    "    metric='accuracy',\n",
    "    device=device)\n",
    "\n",
    "lr_finder.range_test(\n",
    "    train_loader=loader.trainloader_alb,\n",
    "    end_lr=0.02,\n",
    "    mode='epochs',\n",
    "    num_iter=10,\n",
    "    step_mode=\"linear\")"
   ]
  },
  {
   "cell_type": "code",
   "execution_count": 8,
   "metadata": {},
   "outputs": [
    {
     "data": {
      "image/png": "[encoded data removed]",
      "text/plain": [
       "<Figure size 432x288 with 1 Axes>"
      ]
     },
     "metadata": {
      "needs_background": "light"
     },
     "output_type": "display_data"
    },
    {
     "name": "stdout",
     "output_type": "stream",
     "text": [
      "Best LR: 0.021999990000000004\n",
      "Best Accuracy: 37.08%\n"
     ]
    }
   ],
   "source": [
    "lr_finder.plot()\n",
    "\n",
    "best_accuracy = lr_finder.best_accuracy\n",
    "best_lr = lr_finder.best_lr\n",
    "\n",
    "print(f\"Best LR: {best_lr}\")\n",
    "print(f\"Best Accuracy: {best_accuracy * 100:0.2f}%\")\n",
    "\n",
    "lr_finder.reset()"
   ]
  },
  {
   "cell_type": "code",
   "execution_count": 9,
   "metadata": {},
   "outputs": [],
   "source": [
    "from models.utils import train\n",
    "from models.utils import test"
   ]
  },
  {
   "cell_type": "code",
   "execution_count": 10,
   "metadata": {},
   "outputs": [
    {
     "name": "stderr",
     "output_type": "stream",
     "text": [
      "Epoch= 0 Loss=2.0696353912353516 Batch_id=97 Accuracy=29.49: 100%|█████████████████████| 98/98 [00:51<00:00,  1.91it/s]\n",
      "  0%|                                                                                           | 0/98 [00:00<?, ?it/s]"
     ]
    },
    {
     "name": "stdout",
     "output_type": "stream",
     "text": [
      "\n",
      "Validation set: Average loss: 0.0041, Accuracy: 3865/10000 (38.65%)\n",
      "\n"
     ]
    },
    {
     "name": "stderr",
     "output_type": "stream",
     "text": [
      "Epoch= 1 Loss=1.9788835048675537 Batch_id=97 Accuracy=44.92: 100%|█████████████████████| 98/98 [00:51<00:00,  1.90it/s]\n",
      "  0%|                                                                                           | 0/98 [00:00<?, ?it/s]"
     ]
    },
    {
     "name": "stdout",
     "output_type": "stream",
     "text": [
      "\n",
      "Validation set: Average loss: 0.0039, Accuracy: 4905/10000 (49.05%)\n",
      "\n"
     ]
    },
    {
     "name": "stderr",
     "output_type": "stream",
     "text": [
      "Epoch= 2 Loss=1.8833539485931396 Batch_id=97 Accuracy=53.24: 100%|█████████████████████| 98/98 [00:51<00:00,  1.92it/s]\n",
      "  0%|                                                                                           | 0/98 [00:00<?, ?it/s]"
     ]
    },
    {
     "name": "stdout",
     "output_type": "stream",
     "text": [
      "\n",
      "Validation set: Average loss: 0.0037, Accuracy: 5909/10000 (59.09%)\n",
      "\n"
     ]
    },
    {
     "name": "stderr",
     "output_type": "stream",
     "text": [
      "Epoch= 3 Loss=1.806513786315918 Batch_id=97 Accuracy=60.94: 100%|██████████████████████| 98/98 [00:51<00:00,  1.91it/s]\n",
      "  0%|                                                                                           | 0/98 [00:00<?, ?it/s]"
     ]
    },
    {
     "name": "stdout",
     "output_type": "stream",
     "text": [
      "\n",
      "Validation set: Average loss: 0.0036, Accuracy: 6492/10000 (64.92%)\n",
      "\n"
     ]
    },
    {
     "name": "stderr",
     "output_type": "stream",
     "text": [
      "Epoch= 4 Loss=1.8241864442825317 Batch_id=97 Accuracy=65.70: 100%|█████████████████████| 98/98 [00:51<00:00,  1.91it/s]\n",
      "  0%|                                                                                           | 0/98 [00:00<?, ?it/s]"
     ]
    },
    {
     "name": "stdout",
     "output_type": "stream",
     "text": [
      "\n",
      "Validation set: Average loss: 0.0036, Accuracy: 6796/10000 (67.96%)\n",
      "\n"
     ]
    },
    {
     "name": "stderr",
     "output_type": "stream",
     "text": [
      "Epoch= 5 Loss=1.780549168586731 Batch_id=97 Accuracy=69.37: 100%|██████████████████████| 98/98 [00:51<00:00,  1.92it/s]\n",
      "  0%|                                                                                           | 0/98 [00:00<?, ?it/s]"
     ]
    },
    {
     "name": "stdout",
     "output_type": "stream",
     "text": [
      "\n",
      "Validation set: Average loss: 0.0035, Accuracy: 7247/10000 (72.47%)\n",
      "\n"
     ]
    },
    {
     "name": "stderr",
     "output_type": "stream",
     "text": [
      "Epoch= 6 Loss=1.75436532497406 Batch_id=97 Accuracy=72.01: 100%|███████████████████████| 98/98 [00:51<00:00,  1.90it/s]\n",
      "  0%|                                                                                           | 0/98 [00:00<?, ?it/s]"
     ]
    },
    {
     "name": "stdout",
     "output_type": "stream",
     "text": [
      "\n",
      "Validation set: Average loss: 0.0035, Accuracy: 7233/10000 (72.33%)\n",
      "\n"
     ]
    },
    {
     "name": "stderr",
     "output_type": "stream",
     "text": [
      "Epoch= 7 Loss=1.7121260166168213 Batch_id=97 Accuracy=74.21: 100%|█████████████████████| 98/98 [00:51<00:00,  1.91it/s]\n",
      "  0%|                                                                                           | 0/98 [00:00<?, ?it/s]"
     ]
    },
    {
     "name": "stdout",
     "output_type": "stream",
     "text": [
      "\n",
      "Validation set: Average loss: 0.0034, Accuracy: 7493/10000 (74.93%)\n",
      "\n"
     ]
    },
    {
     "name": "stderr",
     "output_type": "stream",
     "text": [
      "Epoch= 8 Loss=1.7708895206451416 Batch_id=97 Accuracy=75.49: 100%|█████████████████████| 98/98 [00:51<00:00,  1.90it/s]\n",
      "  0%|                                                                                           | 0/98 [00:00<?, ?it/s]"
     ]
    },
    {
     "name": "stdout",
     "output_type": "stream",
     "text": [
      "\n",
      "Validation set: Average loss: 0.0034, Accuracy: 7701/10000 (77.01%)\n",
      "\n"
     ]
    },
    {
     "name": "stderr",
     "output_type": "stream",
     "text": [
      "Epoch= 9 Loss=1.684656023979187 Batch_id=97 Accuracy=77.32: 100%|██████████████████████| 98/98 [00:51<00:00,  1.91it/s]\n",
      "  0%|                                                                                           | 0/98 [00:00<?, ?it/s]"
     ]
    },
    {
     "name": "stdout",
     "output_type": "stream",
     "text": [
      "\n",
      "Validation set: Average loss: 0.0034, Accuracy: 7747/10000 (77.47%)\n",
      "\n"
     ]
    },
    {
     "name": "stderr",
     "output_type": "stream",
     "text": [
      "Epoch= 10 Loss=1.6701583862304688 Batch_id=97 Accuracy=78.45: 100%|████████████████████| 98/98 [00:51<00:00,  1.90it/s]\n",
      "  0%|                                                                                           | 0/98 [00:00<?, ?it/s]"
     ]
    },
    {
     "name": "stdout",
     "output_type": "stream",
     "text": [
      "\n",
      "Validation set: Average loss: 0.0034, Accuracy: 7872/10000 (78.72%)\n",
      "\n"
     ]
    },
    {
     "name": "stderr",
     "output_type": "stream",
     "text": [
      "Epoch= 11 Loss=1.698854684829712 Batch_id=97 Accuracy=79.82: 100%|█████████████████████| 98/98 [00:51<00:00,  1.90it/s]\n",
      "  0%|                                                                                           | 0/98 [00:00<?, ?it/s]"
     ]
    },
    {
     "name": "stdout",
     "output_type": "stream",
     "text": [
      "\n",
      "Validation set: Average loss: 0.0033, Accuracy: 8073/10000 (80.73%)\n",
      "\n"
     ]
    },
    {
     "name": "stderr",
     "output_type": "stream",
     "text": [
      "Epoch= 12 Loss=1.7200742959976196 Batch_id=97 Accuracy=80.75: 100%|████████████████████| 98/98 [00:51<00:00,  1.92it/s]\n",
      "  0%|                                                                                           | 0/98 [00:00<?, ?it/s]"
     ]
    },
    {
     "name": "stdout",
     "output_type": "stream",
     "text": [
      "\n",
      "Validation set: Average loss: 0.0033, Accuracy: 8050/10000 (80.50%)\n",
      "\n"
     ]
    },
    {
     "name": "stderr",
     "output_type": "stream",
     "text": [
      "Epoch= 13 Loss=1.6679353713989258 Batch_id=97 Accuracy=81.69: 100%|████████████████████| 98/98 [00:51<00:00,  1.90it/s]\n",
      "  0%|                                                                                           | 0/98 [00:00<?, ?it/s]"
     ]
    },
    {
     "name": "stdout",
     "output_type": "stream",
     "text": [
      "\n",
      "Validation set: Average loss: 0.0033, Accuracy: 8238/10000 (82.38%)\n",
      "\n"
     ]
    },
    {
     "name": "stderr",
     "output_type": "stream",
     "text": [
      "Epoch= 14 Loss=1.656949520111084 Batch_id=97 Accuracy=82.16: 100%|█████████████████████| 98/98 [00:51<00:00,  1.89it/s]\n",
      "  0%|                                                                                           | 0/98 [00:00<?, ?it/s]"
     ]
    },
    {
     "name": "stdout",
     "output_type": "stream",
     "text": [
      "\n",
      "Validation set: Average loss: 0.0034, Accuracy: 7899/10000 (78.99%)\n",
      "\n"
     ]
    },
    {
     "name": "stderr",
     "output_type": "stream",
     "text": [
      "Epoch= 15 Loss=1.666682243347168 Batch_id=97 Accuracy=83.13: 100%|█████████████████████| 98/98 [00:51<00:00,  1.89it/s]\n",
      "  0%|                                                                                           | 0/98 [00:00<?, ?it/s]"
     ]
    },
    {
     "name": "stdout",
     "output_type": "stream",
     "text": [
      "\n",
      "Validation set: Average loss: 0.0033, Accuracy: 8275/10000 (82.75%)\n",
      "\n"
     ]
    },
    {
     "name": "stderr",
     "output_type": "stream",
     "text": [
      "Epoch= 16 Loss=1.6210618019104004 Batch_id=97 Accuracy=83.46: 100%|████████████████████| 98/98 [00:51<00:00,  1.91it/s]\n",
      "  0%|                                                                                           | 0/98 [00:00<?, ?it/s]"
     ]
    },
    {
     "name": "stdout",
     "output_type": "stream",
     "text": [
      "\n",
      "Validation set: Average loss: 0.0033, Accuracy: 8325/10000 (83.25%)\n",
      "\n"
     ]
    },
    {
     "name": "stderr",
     "output_type": "stream",
     "text": [
      "Epoch= 17 Loss=1.611371397972107 Batch_id=97 Accuracy=84.43: 100%|█████████████████████| 98/98 [00:51<00:00,  1.90it/s]\n",
      "  0%|                                                                                           | 0/98 [00:00<?, ?it/s]"
     ]
    },
    {
     "name": "stdout",
     "output_type": "stream",
     "text": [
      "\n",
      "Validation set: Average loss: 0.0033, Accuracy: 8231/10000 (82.31%)\n",
      "\n"
     ]
    },
    {
     "name": "stderr",
     "output_type": "stream",
     "text": [
      "Epoch= 18 Loss=1.6490856409072876 Batch_id=97 Accuracy=85.22: 100%|████████████████████| 98/98 [00:51<00:00,  1.91it/s]\n",
      "  0%|                                                                                           | 0/98 [00:00<?, ?it/s]"
     ]
    },
    {
     "name": "stdout",
     "output_type": "stream",
     "text": [
      "\n",
      "Validation set: Average loss: 0.0033, Accuracy: 8405/10000 (84.05%)\n",
      "\n"
     ]
    },
    {
     "name": "stderr",
     "output_type": "stream",
     "text": [
      "Epoch= 19 Loss=1.5985746383666992 Batch_id=97 Accuracy=85.49: 100%|████████████████████| 98/98 [00:51<00:00,  1.90it/s]\n",
      "  0%|                                                                                           | 0/98 [00:00<?, ?it/s]"
     ]
    },
    {
     "name": "stdout",
     "output_type": "stream",
     "text": [
      "\n",
      "Validation set: Average loss: 0.0033, Accuracy: 8428/10000 (84.28%)\n",
      "\n"
     ]
    },
    {
     "name": "stderr",
     "output_type": "stream",
     "text": [
      "Epoch= 20 Loss=1.6171839237213135 Batch_id=97 Accuracy=86.02: 100%|████████████████████| 98/98 [00:51<00:00,  1.90it/s]\n",
      "  0%|                                                                                           | 0/98 [00:00<?, ?it/s]"
     ]
    },
    {
     "name": "stdout",
     "output_type": "stream",
     "text": [
      "\n",
      "Validation set: Average loss: 0.0033, Accuracy: 8415/10000 (84.15%)\n",
      "\n"
     ]
    },
    {
     "name": "stderr",
     "output_type": "stream",
     "text": [
      "Epoch= 21 Loss=1.6097911596298218 Batch_id=97 Accuracy=86.61: 100%|████████████████████| 98/98 [00:51<00:00,  1.90it/s]\n",
      "  0%|                                                                                           | 0/98 [00:00<?, ?it/s]"
     ]
    },
    {
     "name": "stdout",
     "output_type": "stream",
     "text": [
      "\n",
      "Validation set: Average loss: 0.0032, Accuracy: 8520/10000 (85.20%)\n",
      "\n"
     ]
    },
    {
     "name": "stderr",
     "output_type": "stream",
     "text": [
      "Epoch= 22 Loss=1.6233516931533813 Batch_id=97 Accuracy=86.93: 100%|████████████████████| 98/98 [00:51<00:00,  1.90it/s]\n",
      "  0%|                                                                                           | 0/98 [00:00<?, ?it/s]"
     ]
    },
    {
     "name": "stdout",
     "output_type": "stream",
     "text": [
      "\n",
      "Validation set: Average loss: 0.0032, Accuracy: 8584/10000 (85.84%)\n",
      "\n"
     ]
    },
    {
     "name": "stderr",
     "output_type": "stream",
     "text": [
      "Epoch= 23 Loss=1.6028398275375366 Batch_id=97 Accuracy=87.23: 100%|████████████████████| 98/98 [00:51<00:00,  1.91it/s]\n"
     ]
    },
    {
     "name": "stdout",
     "output_type": "stream",
     "text": [
      "\n",
      "Validation set: Average loss: 0.0033, Accuracy: 8439/10000 (84.39%)\n",
      "\n"
     ]
    }
   ],
   "source": [
    "from torch.optim.lr_scheduler import OneCycleLR\n",
    "\n",
    "epochs = 24\n",
    "\n",
    "optimizer = optim.SGD(net.parameters(), lr=best_lr, momentum=0.9, weight_decay=0.01)\n",
    "\n",
    "scheduler = OneCycleLR(\n",
    "    optimizer=optimizer,\n",
    "    max_lr=best_lr,\n",
    "    epochs=epochs,\n",
    "    steps_per_epoch=len(loader.trainloader_alb),\n",
    "    pct_start=5/epochs,\n",
    "    div_factor=10,\n",
    "    final_div_factor=10\n",
    ")\n",
    "\n",
    "last_epoch = False\n",
    "\n",
    "train_losses = []\n",
    "train_acc = []\n",
    "test_acc = []\n",
    "test_losses = []\n",
    "\n",
    "for epoch in range(epochs):\n",
    "    train.train(net, device, loader.trainloader_alb, optimizer, criterion, epoch, train_acc , train_losses)\n",
    "    if epoch == epochs - 1:\n",
    "        last_epoch = True\n",
    "    test.test(net, device, loader.testloader, criterion, last_epoch, test_acc, test_losses)\n",
    "    scheduler.step(test_losses[-1])"
   ]
  },
  {
   "cell_type": "code",
   "execution_count": 11,
   "metadata": {},
   "outputs": [
    {
     "data": {
      "image/png": "[encoded data removed]",
      "text/plain": [
       "<Figure size 720x216 with 1 Axes>"
      ]
     },
     "metadata": {
      "needs_background": "light"
     },
     "output_type": "display_data"
    }
   ],
   "source": [
    "from models.utils.cyclic_lr import CustomCyclicLR\n",
    "\n",
    "triangular_lr = CustomCyclicLR(\n",
    "    base_lr=best_lr/10, \n",
    "    max_lr=best_lr,\n",
    "    step_size=len(loader.trainloader_alb),\n",
    "    iterations=len(loader.trainloader_alb) * 10)\n",
    "\n",
    "triangular_lr.cyclic_lr(plot=True)"
   ]
  },
  {
   "cell_type": "code",
   "execution_count": 12,
   "metadata": {},
   "outputs": [
    {
     "data": {
      "image/png": "[encoded data removed]",
      "text/plain": [
       "<Figure size 720x504 with 1 Axes>"
      ]
     },
     "metadata": {
      "needs_background": "light"
     },
     "output_type": "display_data"
    }
   ],
   "source": [
    "acc_fig, axs = plt.subplots(1,1,figsize=(10,7))\n",
    "axs.set_xlim([-1, 50])\n",
    "axs.plot(train_acc, label='Train Accuracy')\n",
    "axs.plot(test_acc, label='Test Accuracy')\n",
    "axs.set_title(\"Accuracy Change Plot\")\n",
    "axs.set_xlabel(\"Epoch\")\n",
    "axs.set_ylabel(\"Accuracy\")\n",
    "axs.legend(loc='lower right', prop={'size': 18})\n",
    "\n",
    "acc_fig.savefig('accuracy_change_plot.jpg')"
   ]
  },
  {
   "cell_type": "code",
   "execution_count": null,
   "metadata": {},
   "outputs": [],
   "source": []
  }
 ],
 "metadata": {
  "kernelspec": {
   "display_name": "Python 3",
   "language": "python",
   "name": "python3"
  },
  "language_info": {
   "codemirror_mode": {
    "name": "ipython",
    "version": 3
   },
   "file_extension": ".py",
   "mimetype": "text/x-python",
   "name": "python",
   "nbconvert_exporter": "python",
   "pygments_lexer": "ipython3",
   "version": "3.7.6"
  }
 },
 "nbformat": 4,
 "nbformat_minor": 4
}
