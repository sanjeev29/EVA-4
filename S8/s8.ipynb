{
  "nbformat": 4,
  "nbformat_minor": 0,
  "metadata": {
    "accelerator": "GPU",
    "colab": {
      "name": "s8.ipynb",
      "provenance": [],
      "include_colab_link": true
    },
    "kernelspec": {
      "display_name": "Python 3",
      "language": "python",
      "name": "python3"
    },
    "language_info": {
      "codemirror_mode": {
        "name": "ipython",
        "version": 3
      },
      "file_extension": ".py",
      "mimetype": "text/x-python",
      "name": "python",
      "nbconvert_exporter": "python",
      "pygments_lexer": "ipython3",
      "version": "3.7.6"
    }
  },
  "cells": [
    {
      "cell_type": "markdown",
      "metadata": {
        "id": "view-in-github",
        "colab_type": "text"
      },
      "source": [
        "<a href=\"https://colab.research.google.com/github/sanjeev29/EVA-4/blob/master/S8/s8.ipynb\" target=\"_parent\"><img src=\"https://colab.research.google.com/assets/colab-badge.svg\" alt=\"Open In Colab\"/></a>"
      ]
    },
    {
      "cell_type": "code",
      "metadata": {
        "id": "9fjhmSppcUBc",
        "colab_type": "code",
        "outputId": "f0e96fe9-b97e-49e4-f5b9-389330d4f07c",
        "colab": {
          "base_uri": "https://localhost:8080/",
          "height": 139
        }
      },
      "source": [
        "from google.colab import drive\n",
        "\n",
        "drive.mount('/content/gdrive')\n",
        "%cd /content/gdrive/My\\ Drive/Colab\\ Notebooks/S8_modules/"
      ],
      "execution_count": 1,
      "outputs": [
        {
          "output_type": "stream",
          "text": [
            "Go to this URL in a browser: https://accounts.google.com/o/oauth2/auth?client_id=947318989803-6bn6qk8qdgf4n4g3pfee6491hc0brc4i.apps.googleusercontent.com&redirect_uri=urn%3aietf%3awg%3aoauth%3a2.0%3aoob&response_type=code&scope=email%20https%3a%2f%2fwww.googleapis.com%2fauth%2fdocs.test%20https%3a%2f%2fwww.googleapis.com%2fauth%2fdrive%20https%3a%2f%2fwww.googleapis.com%2fauth%2fdrive.photos.readonly%20https%3a%2f%2fwww.googleapis.com%2fauth%2fpeopleapi.readonly\n",
            "\n",
            "Enter your authorization code:\n",
            "··········\n",
            "Mounted at /content/gdrive\n",
            "/content/gdrive/My Drive/Colab Notebooks/S8_modules\n"
          ],
          "name": "stdout"
        }
      ]
    },
    {
      "cell_type": "markdown",
      "metadata": {
        "colab_type": "text",
        "id": "p7iN7u3rr8DD"
      },
      "source": [
        "# Import Libraries"
      ]
    },
    {
      "cell_type": "code",
      "metadata": {
        "colab_type": "code",
        "id": "G6a3wCYdr3cd",
        "colab": {}
      },
      "source": [
        "%matplotlib inline\n",
        "import torch\n",
        "import torchvision\n",
        "import matplotlib.pyplot as plt\n",
        "import numpy as np"
      ],
      "execution_count": 0,
      "outputs": []
    },
    {
      "cell_type": "markdown",
      "metadata": {
        "colab_type": "text",
        "id": "5kjt4e2TpoCk"
      },
      "source": [
        "# Import loader\n",
        "\n",
        "* Initialize train and test loaders from train and test dataset respectively\n",
        "\n",
        "* CUDA check"
      ]
    },
    {
      "cell_type": "code",
      "metadata": {
        "colab_type": "code",
        "id": "D8Tjigo2poCl",
        "outputId": "91f75805-4569-48b1-a683-222019ecd760",
        "colab": {
          "base_uri": "https://localhost:8080/",
          "height": 68
        }
      },
      "source": [
        "import loader\n",
        "\n",
        "# Initialize CIFAR-10 classes\n",
        "classes = ('plane', 'car', 'bird', 'cat',\n",
        "           'deer', 'dog', 'frog', 'horse', 'ship', 'truck') "
      ],
      "execution_count": 3,
      "outputs": [
        {
          "output_type": "stream",
          "text": [
            "Files already downloaded and verified\n",
            "Files already downloaded and verified\n",
            "CUDA Available? True\n"
          ],
          "name": "stdout"
        }
      ]
    },
    {
      "cell_type": "markdown",
      "metadata": {
        "colab_type": "text",
        "id": "_cj433rtpoCn"
      },
      "source": [
        "# Plot training images"
      ]
    },
    {
      "cell_type": "code",
      "metadata": {
        "colab_type": "code",
        "id": "daA7bADhpoCo",
        "outputId": "cc7c5163-d6ea-4a7f-d61b-8cc23808d50c",
        "colab": {
          "base_uri": "https://localhost:8080/",
          "height": 172
        }
      },
      "source": [
        "# functions to show an image\n",
        "def imshow(img):\n",
        "    img = img / 2 + 0.5     # unnormalize\n",
        "    npimg = img.numpy()\n",
        "    plt.imshow(np.transpose(npimg, (1, 2, 0)))\n",
        "\n",
        "# get some random training images\n",
        "dataiter = iter(loader.trainloader_for_plot)\n",
        "images, labels = dataiter.next()\n",
        "\n",
        "# show images\n",
        "imshow(torchvision.utils.make_grid(images))\n",
        "\n",
        "# print labels\n",
        "print(' '.join('%5s' % classes[labels[j]] for j in range(4)))"
      ],
      "execution_count": 4,
      "outputs": [
        {
          "output_type": "stream",
          "text": [
            "Clipping input data to the valid range for imshow with RGB data ([0..1] for floats or [0..255] for integers).\n"
          ],
          "name": "stderr"
        },
        {
          "output_type": "stream",
          "text": [
            "plane   dog  deer  deer\n"
          ],
          "name": "stdout"
        },
        {
          "output_type": "display_data",
          "data": {
            "image/png": "[encoded data removed]",
            "text/plain": [
              "<Figure size 432x288 with 1 Axes>"
            ]
          },
          "metadata": {
            "tags": []
          }
        }
      ]
    },
    {
      "cell_type": "markdown",
      "metadata": {
        "colab_type": "text",
        "id": "28OpHA_LpoCq"
      },
      "source": [
        "# Import model\n",
        "\n",
        "Initialize network for the model"
      ]
    },
    {
      "cell_type": "code",
      "metadata": {
        "colab_type": "code",
        "id": "0jjLwLLQpoCr",
        "colab": {}
      },
      "source": [
        "import model"
      ],
      "execution_count": 0,
      "outputs": []
    },
    {
      "cell_type": "markdown",
      "metadata": {
        "colab_type": "text",
        "id": "33lFWPTXw43l"
      },
      "source": [
        "# Model parameters"
      ]
    },
    {
      "cell_type": "code",
      "metadata": {
        "colab_type": "code",
        "id": "YVHE1Rc-xEVa",
        "outputId": "983b2ba7-5844-4b6a-d9d8-ff734092bb1a",
        "colab": {
          "base_uri": "https://localhost:8080/",
          "height": 1000
        }
      },
      "source": [
        "from torchsummary import summary\n",
        "use_cuda = torch.cuda.is_available()\n",
        "device = torch.device(\"cuda\" if use_cuda else \"cpu\")\n",
        "print(f\"Device: {device}\")\n",
        "net = model.ResNet18().to(device)\n",
        "summary(net, input_size=(3, 32, 32))"
      ],
      "execution_count": 6,
      "outputs": [
        {
          "output_type": "stream",
          "text": [
            "Device: cuda\n",
            "----------------------------------------------------------------\n",
            "        Layer (type)               Output Shape         Param #\n",
            "================================================================\n",
            "            Conv2d-1           [-1, 64, 32, 32]           1,728\n",
            "       BatchNorm2d-2           [-1, 64, 32, 32]             128\n",
            "            Conv2d-3           [-1, 64, 32, 32]          36,864\n",
            "       BatchNorm2d-4           [-1, 64, 32, 32]             128\n",
            "           Dropout-5           [-1, 64, 32, 32]               0\n",
            "            Conv2d-6           [-1, 64, 32, 32]          36,864\n",
            "       BatchNorm2d-7           [-1, 64, 32, 32]             128\n",
            "        BasicBlock-8           [-1, 64, 32, 32]               0\n",
            "            Conv2d-9           [-1, 64, 32, 32]          36,864\n",
            "      BatchNorm2d-10           [-1, 64, 32, 32]             128\n",
            "          Dropout-11           [-1, 64, 32, 32]               0\n",
            "           Conv2d-12           [-1, 64, 32, 32]          36,864\n",
            "      BatchNorm2d-13           [-1, 64, 32, 32]             128\n",
            "       BasicBlock-14           [-1, 64, 32, 32]               0\n",
            "           Conv2d-15          [-1, 128, 16, 16]          73,728\n",
            "      BatchNorm2d-16          [-1, 128, 16, 16]             256\n",
            "          Dropout-17          [-1, 128, 16, 16]               0\n",
            "           Conv2d-18          [-1, 128, 16, 16]         147,456\n",
            "      BatchNorm2d-19          [-1, 128, 16, 16]             256\n",
            "           Conv2d-20          [-1, 128, 16, 16]           8,192\n",
            "      BatchNorm2d-21          [-1, 128, 16, 16]             256\n",
            "       BasicBlock-22          [-1, 128, 16, 16]               0\n",
            "           Conv2d-23          [-1, 128, 16, 16]         147,456\n",
            "      BatchNorm2d-24          [-1, 128, 16, 16]             256\n",
            "          Dropout-25          [-1, 128, 16, 16]               0\n",
            "           Conv2d-26          [-1, 128, 16, 16]         147,456\n",
            "      BatchNorm2d-27          [-1, 128, 16, 16]             256\n",
            "       BasicBlock-28          [-1, 128, 16, 16]               0\n",
            "           Conv2d-29            [-1, 256, 8, 8]         294,912\n",
            "      BatchNorm2d-30            [-1, 256, 8, 8]             512\n",
            "          Dropout-31            [-1, 256, 8, 8]               0\n",
            "           Conv2d-32            [-1, 256, 8, 8]         589,824\n",
            "      BatchNorm2d-33            [-1, 256, 8, 8]             512\n",
            "           Conv2d-34            [-1, 256, 8, 8]          32,768\n",
            "      BatchNorm2d-35            [-1, 256, 8, 8]             512\n",
            "       BasicBlock-36            [-1, 256, 8, 8]               0\n",
            "           Conv2d-37            [-1, 256, 8, 8]         589,824\n",
            "      BatchNorm2d-38            [-1, 256, 8, 8]             512\n",
            "          Dropout-39            [-1, 256, 8, 8]               0\n",
            "           Conv2d-40            [-1, 256, 8, 8]         589,824\n",
            "      BatchNorm2d-41            [-1, 256, 8, 8]             512\n",
            "       BasicBlock-42            [-1, 256, 8, 8]               0\n",
            "           Conv2d-43            [-1, 512, 4, 4]       1,179,648\n",
            "      BatchNorm2d-44            [-1, 512, 4, 4]           1,024\n",
            "          Dropout-45            [-1, 512, 4, 4]               0\n",
            "           Conv2d-46            [-1, 512, 4, 4]       2,359,296\n",
            "      BatchNorm2d-47            [-1, 512, 4, 4]           1,024\n",
            "           Conv2d-48            [-1, 512, 4, 4]         131,072\n",
            "      BatchNorm2d-49            [-1, 512, 4, 4]           1,024\n",
            "       BasicBlock-50            [-1, 512, 4, 4]               0\n",
            "           Conv2d-51            [-1, 512, 4, 4]       2,359,296\n",
            "      BatchNorm2d-52            [-1, 512, 4, 4]           1,024\n",
            "          Dropout-53            [-1, 512, 4, 4]               0\n",
            "           Conv2d-54            [-1, 512, 4, 4]       2,359,296\n",
            "      BatchNorm2d-55            [-1, 512, 4, 4]           1,024\n",
            "       BasicBlock-56            [-1, 512, 4, 4]               0\n",
            "           Linear-57                   [-1, 10]           5,130\n",
            "================================================================\n",
            "Total params: 11,173,962\n",
            "Trainable params: 11,173,962\n",
            "Non-trainable params: 0\n",
            "----------------------------------------------------------------\n",
            "Input size (MB): 0.01\n",
            "Forward/backward pass size (MB): 13.13\n",
            "Params size (MB): 42.63\n",
            "Estimated Total Size (MB): 55.76\n",
            "----------------------------------------------------------------\n"
          ],
          "name": "stdout"
        }
      ]
    },
    {
      "cell_type": "markdown",
      "metadata": {
        "colab_type": "text",
        "id": "Wdw2NNCUpoCu"
      },
      "source": [
        "# Loss function and optimizer\n",
        "\n"
      ]
    },
    {
      "cell_type": "code",
      "metadata": {
        "colab_type": "code",
        "id": "M4xBbDROpoCv",
        "colab": {}
      },
      "source": [
        "import torch.nn as nn\n",
        "import torch.optim as optim\n",
        "\n",
        "from torch.optim.lr_scheduler import StepLR\n",
        "\n",
        "criterion = nn.CrossEntropyLoss()\n",
        "optimizer = optim.SGD(net.parameters(), lr=0.01, momentum=0.9, weight_decay=0.0001)\n",
        "scheduler = StepLR(optimizer, step_size=6, gamma=0.2)"
      ],
      "execution_count": 0,
      "outputs": []
    },
    {
      "cell_type": "markdown",
      "metadata": {
        "colab_type": "text",
        "id": "O-odOrhdpoC2"
      },
      "source": [
        "# Training and Testing"
      ]
    },
    {
      "cell_type": "code",
      "metadata": {
        "colab_type": "code",
        "id": "kkuRfo1IpoC3",
        "colab": {}
      },
      "source": [
        "import train\n",
        "import test"
      ],
      "execution_count": 0,
      "outputs": []
    },
    {
      "cell_type": "markdown",
      "metadata": {
        "colab_type": "text",
        "id": "YLrvL_fHpoC5"
      },
      "source": [
        "# Training and testing our model"
      ]
    },
    {
      "cell_type": "code",
      "metadata": {
        "colab_type": "code",
        "id": "tRZhzMc60Tgz",
        "outputId": "0db31053-ee2a-42fa-a14f-44006a6647f4",
        "colab": {
          "base_uri": "https://localhost:8080/",
          "height": 1000
        }
      },
      "source": [
        "epochs = 20\n",
        "\n",
        "for epoch in range(epochs):\n",
        "  train.train(net, device, loader.trainloader, optimizer, criterion, epoch)\n",
        "  scheduler.step()\n",
        "  test.test(net, device, loader.testloader, criterion)"
      ],
      "execution_count": 9,
      "outputs": [
        {
          "output_type": "stream",
          "text": [
            "Epoch= 0 Loss=1.0736314058303833 Batch_id=781 Accuracy=51.05: 100%|██████████| 782/782 [00:31<00:00, 24.87it/s]\n",
            "  0%|          | 0/782 [00:00<?, ?it/s]"
          ],
          "name": "stderr"
        },
        {
          "output_type": "stream",
          "text": [
            "\n",
            "Validation set: Average loss: 0.0161, Accuracy: 6375/10000 (63.75%)\n",
            "\n"
          ],
          "name": "stdout"
        },
        {
          "output_type": "stream",
          "text": [
            "Epoch= 1 Loss=1.1647428274154663 Batch_id=781 Accuracy=70.94: 100%|██████████| 782/782 [00:31<00:00, 24.97it/s]\n",
            "  0%|          | 0/782 [00:00<?, ?it/s]"
          ],
          "name": "stderr"
        },
        {
          "output_type": "stream",
          "text": [
            "\n",
            "Validation set: Average loss: 0.0143, Accuracy: 7014/10000 (70.14%)\n",
            "\n"
          ],
          "name": "stdout"
        },
        {
          "output_type": "stream",
          "text": [
            "Epoch= 2 Loss=0.6032612919807434 Batch_id=781 Accuracy=77.87: 100%|██████████| 782/782 [00:30<00:00, 25.37it/s]\n",
            "  0%|          | 0/782 [00:00<?, ?it/s]"
          ],
          "name": "stderr"
        },
        {
          "output_type": "stream",
          "text": [
            "\n",
            "Validation set: Average loss: 0.0099, Accuracy: 7811/10000 (78.11%)\n",
            "\n"
          ],
          "name": "stdout"
        },
        {
          "output_type": "stream",
          "text": [
            "Epoch= 3 Loss=0.5559483766555786 Batch_id=781 Accuracy=81.40: 100%|██████████| 782/782 [00:31<00:00, 24.75it/s]\n",
            "  0%|          | 0/782 [00:00<?, ?it/s]"
          ],
          "name": "stderr"
        },
        {
          "output_type": "stream",
          "text": [
            "\n",
            "Validation set: Average loss: 0.0091, Accuracy: 8040/10000 (80.40%)\n",
            "\n"
          ],
          "name": "stdout"
        },
        {
          "output_type": "stream",
          "text": [
            "Epoch= 4 Loss=0.4075036942958832 Batch_id=781 Accuracy=83.97: 100%|██████████| 782/782 [00:31<00:00, 24.69it/s]\n",
            "  0%|          | 0/782 [00:00<?, ?it/s]"
          ],
          "name": "stderr"
        },
        {
          "output_type": "stream",
          "text": [
            "\n",
            "Validation set: Average loss: 0.0093, Accuracy: 8038/10000 (80.38%)\n",
            "\n"
          ],
          "name": "stdout"
        },
        {
          "output_type": "stream",
          "text": [
            "Epoch= 5 Loss=0.5117745399475098 Batch_id=781 Accuracy=85.86: 100%|██████████| 782/782 [00:31<00:00, 24.92it/s]\n",
            "  0%|          | 0/782 [00:00<?, ?it/s]"
          ],
          "name": "stderr"
        },
        {
          "output_type": "stream",
          "text": [
            "\n",
            "Validation set: Average loss: 0.0081, Accuracy: 8285/10000 (82.85%)\n",
            "\n"
          ],
          "name": "stdout"
        },
        {
          "output_type": "stream",
          "text": [
            "Epoch= 6 Loss=0.40888285636901855 Batch_id=781 Accuracy=91.08: 100%|██████████| 782/782 [00:31<00:00, 24.83it/s]\n",
            "  0%|          | 0/782 [00:00<?, ?it/s]"
          ],
          "name": "stderr"
        },
        {
          "output_type": "stream",
          "text": [
            "\n",
            "Validation set: Average loss: 0.0060, Accuracy: 8718/10000 (87.18%)\n",
            "\n"
          ],
          "name": "stdout"
        },
        {
          "output_type": "stream",
          "text": [
            "Epoch= 7 Loss=0.7897129058837891 Batch_id=781 Accuracy=92.02: 100%|██████████| 782/782 [00:30<00:00, 25.57it/s]\n",
            "  0%|          | 0/782 [00:00<?, ?it/s]"
          ],
          "name": "stderr"
        },
        {
          "output_type": "stream",
          "text": [
            "\n",
            "Validation set: Average loss: 0.0059, Accuracy: 8765/10000 (87.65%)\n",
            "\n"
          ],
          "name": "stdout"
        },
        {
          "output_type": "stream",
          "text": [
            "Epoch= 8 Loss=0.2672734260559082 Batch_id=781 Accuracy=92.92: 100%|██████████| 782/782 [00:30<00:00, 25.32it/s]\n",
            "  0%|          | 0/782 [00:00<?, ?it/s]"
          ],
          "name": "stderr"
        },
        {
          "output_type": "stream",
          "text": [
            "\n",
            "Validation set: Average loss: 0.0059, Accuracy: 8760/10000 (87.60%)\n",
            "\n"
          ],
          "name": "stdout"
        },
        {
          "output_type": "stream",
          "text": [
            "Epoch= 9 Loss=0.13770148158073425 Batch_id=781 Accuracy=93.64: 100%|██████████| 782/782 [00:31<00:00, 24.92it/s]\n",
            "  0%|          | 0/782 [00:00<?, ?it/s]"
          ],
          "name": "stderr"
        },
        {
          "output_type": "stream",
          "text": [
            "\n",
            "Validation set: Average loss: 0.0060, Accuracy: 8787/10000 (87.87%)\n",
            "\n"
          ],
          "name": "stdout"
        },
        {
          "output_type": "stream",
          "text": [
            "Epoch= 10 Loss=0.014724016189575195 Batch_id=781 Accuracy=94.32: 100%|██████████| 782/782 [00:31<00:00, 24.98it/s]\n",
            "  0%|          | 0/782 [00:00<?, ?it/s]"
          ],
          "name": "stderr"
        },
        {
          "output_type": "stream",
          "text": [
            "\n",
            "Validation set: Average loss: 0.0059, Accuracy: 8782/10000 (87.82%)\n",
            "\n"
          ],
          "name": "stdout"
        },
        {
          "output_type": "stream",
          "text": [
            "Epoch= 11 Loss=0.3965541124343872 Batch_id=781 Accuracy=94.77: 100%|██████████| 782/782 [00:31<00:00, 24.80it/s]\n",
            "  0%|          | 0/782 [00:00<?, ?it/s]"
          ],
          "name": "stderr"
        },
        {
          "output_type": "stream",
          "text": [
            "\n",
            "Validation set: Average loss: 0.0060, Accuracy: 8818/10000 (88.18%)\n",
            "\n"
          ],
          "name": "stdout"
        },
        {
          "output_type": "stream",
          "text": [
            "Epoch= 12 Loss=0.054011017084121704 Batch_id=781 Accuracy=96.00: 100%|██████████| 782/782 [00:31<00:00, 25.16it/s]\n",
            "  0%|          | 0/782 [00:00<?, ?it/s]"
          ],
          "name": "stderr"
        },
        {
          "output_type": "stream",
          "text": [
            "\n",
            "Validation set: Average loss: 0.0058, Accuracy: 8843/10000 (88.43%)\n",
            "\n"
          ],
          "name": "stdout"
        },
        {
          "output_type": "stream",
          "text": [
            "Epoch= 13 Loss=0.20998775959014893 Batch_id=781 Accuracy=96.50: 100%|██████████| 782/782 [00:31<00:00, 25.21it/s]\n",
            "  0%|          | 0/782 [00:00<?, ?it/s]"
          ],
          "name": "stderr"
        },
        {
          "output_type": "stream",
          "text": [
            "\n",
            "Validation set: Average loss: 0.0058, Accuracy: 8854/10000 (88.54%)\n",
            "\n"
          ],
          "name": "stdout"
        },
        {
          "output_type": "stream",
          "text": [
            "Epoch= 14 Loss=0.047305166721343994 Batch_id=781 Accuracy=96.55: 100%|██████████| 782/782 [00:31<00:00, 24.94it/s]\n",
            "  0%|          | 0/782 [00:00<?, ?it/s]"
          ],
          "name": "stderr"
        },
        {
          "output_type": "stream",
          "text": [
            "\n",
            "Validation set: Average loss: 0.0059, Accuracy: 8864/10000 (88.64%)\n",
            "\n"
          ],
          "name": "stdout"
        },
        {
          "output_type": "stream",
          "text": [
            "Epoch= 15 Loss=0.031533628702163696 Batch_id=781 Accuracy=96.81: 100%|██████████| 782/782 [00:31<00:00, 24.94it/s]\n",
            "  0%|          | 0/782 [00:00<?, ?it/s]"
          ],
          "name": "stderr"
        },
        {
          "output_type": "stream",
          "text": [
            "\n",
            "Validation set: Average loss: 0.0060, Accuracy: 8838/10000 (88.38%)\n",
            "\n"
          ],
          "name": "stdout"
        },
        {
          "output_type": "stream",
          "text": [
            "Epoch= 16 Loss=0.047734856605529785 Batch_id=781 Accuracy=97.04: 100%|██████████| 782/782 [00:31<00:00, 25.01it/s]\n",
            "  0%|          | 0/782 [00:00<?, ?it/s]"
          ],
          "name": "stderr"
        },
        {
          "output_type": "stream",
          "text": [
            "\n",
            "Validation set: Average loss: 0.0060, Accuracy: 8855/10000 (88.55%)\n",
            "\n"
          ],
          "name": "stdout"
        },
        {
          "output_type": "stream",
          "text": [
            "Epoch= 17 Loss=0.28878793120384216 Batch_id=781 Accuracy=97.02: 100%|██████████| 782/782 [00:31<00:00, 24.72it/s]\n",
            "  0%|          | 0/782 [00:00<?, ?it/s]"
          ],
          "name": "stderr"
        },
        {
          "output_type": "stream",
          "text": [
            "\n",
            "Validation set: Average loss: 0.0059, Accuracy: 8880/10000 (88.80%)\n",
            "\n"
          ],
          "name": "stdout"
        },
        {
          "output_type": "stream",
          "text": [
            "Epoch= 18 Loss=0.11687950789928436 Batch_id=781 Accuracy=97.31: 100%|██████████| 782/782 [00:31<00:00, 24.77it/s]\n",
            "  0%|          | 0/782 [00:00<?, ?it/s]"
          ],
          "name": "stderr"
        },
        {
          "output_type": "stream",
          "text": [
            "\n",
            "Validation set: Average loss: 0.0059, Accuracy: 8873/10000 (88.73%)\n",
            "\n"
          ],
          "name": "stdout"
        },
        {
          "output_type": "stream",
          "text": [
            "Epoch= 19 Loss=0.18559473752975464 Batch_id=781 Accuracy=97.43: 100%|██████████| 782/782 [00:31<00:00, 25.16it/s]\n"
          ],
          "name": "stderr"
        },
        {
          "output_type": "stream",
          "text": [
            "\n",
            "Validation set: Average loss: 0.0060, Accuracy: 8883/10000 (88.83%)\n",
            "\n"
          ],
          "name": "stdout"
        }
      ]
    },
    {
      "cell_type": "markdown",
      "metadata": {
        "colab_type": "text",
        "id": "nxYuUEDA5iV4"
      },
      "source": [
        "# Result visualization"
      ]
    },
    {
      "cell_type": "code",
      "metadata": {
        "colab_type": "code",
        "id": "x5YklhJu5nQc",
        "colab": {
          "base_uri": "https://localhost:8080/",
          "height": 458
        },
        "outputId": "c906c430-0153-4191-d707-1cab15173254"
      },
      "source": [
        "val_acc_fig, axs = plt.subplots(1,1,figsize=(10,7))\n",
        "axs.plot(test.test_acc)\n",
        "axs.set_title(\"Validation Accuracy\")\n",
        "axs.set_xlabel(\"Epoch\")\n",
        "axs.set_ylabel(\"Accuracy\")\n",
        "val_acc_fig.savefig('/content/gdrive/My Drive/Colab Notebooks/S8/validation_accuracy_change_plot.jpg')"
      ],
      "execution_count": 10,
      "outputs": [
        {
          "output_type": "display_data",
          "data": {
            "image/png": "[encoded data removed]",
            "text/plain": [
              "<Figure size 720x504 with 1 Axes>"
            ]
          },
          "metadata": {
            "tags": []
          }
        }
      ]
    },
    {
      "cell_type": "code",
      "metadata": {
        "colab_type": "code",
        "id": "LIkAWvNewpcm",
        "colab": {
          "base_uri": "https://localhost:8080/",
          "height": 458
        },
        "outputId": "7489b3e1-3861-4738-a509-8e9d31fd09ae"
      },
      "source": [
        "val_loss_fig, axs = plt.subplots(1,1,figsize=(10,7))\n",
        "\n",
        "axs.plot(test.test_losses)\n",
        "axs.set_title(\"Validation loss\")\n",
        "axs.set_xlabel(\"Epoch\")\n",
        "axs.set_ylabel(\"Loss\")\n",
        "val_loss_fig.savefig('/content/gdrive/My Drive/Colab Notebooks/S8/validation_loss_change_plot.jpg')"
      ],
      "execution_count": 11,
      "outputs": [
        {
          "output_type": "display_data",
          "data": {
            "image/png": "[encoded data removed]",
            "text/plain": [
              "<Figure size 720x504 with 1 Axes>"
            ]
          },
          "metadata": {
            "tags": []
          }
        }
      ]
    },
    {
      "cell_type": "code",
      "metadata": {
        "colab_type": "code",
        "id": "nizbsvw9poC6",
        "colab": {
          "base_uri": "https://localhost:8080/",
          "height": 172
        },
        "outputId": "ca640e60-7495-4fb8-bead-1613af77bd46"
      },
      "source": [
        "dataiter = iter(loader.testloader_for_plot)\n",
        "images, labels = dataiter.next()\n",
        "\n",
        "# print images\n",
        "imshow(torchvision.utils.make_grid(images))\n",
        "print('GroundTruth: ', ' '.join('%5s' % classes[labels[j]] for j in range(4)))"
      ],
      "execution_count": 12,
      "outputs": [
        {
          "output_type": "stream",
          "text": [
            "Clipping input data to the valid range for imshow with RGB data ([0..1] for floats or [0..255] for integers).\n"
          ],
          "name": "stderr"
        },
        {
          "output_type": "stream",
          "text": [
            "GroundTruth:  horse   car  deer  ship\n"
          ],
          "name": "stdout"
        },
        {
          "output_type": "display_data",
          "data": {
            "image/png": "[encoded data removed]",
            "text/plain": [
              "<Figure size 432x288 with 1 Axes>"
            ]
          },
          "metadata": {
            "tags": []
          }
        }
      ]
    },
    {
      "cell_type": "markdown",
      "metadata": {
        "colab_type": "text",
        "id": "DAx4QPHVpoC8"
      },
      "source": [
        "Okay, now let us see what the neural network thinks these examples above are:\n",
        "\n"
      ]
    },
    {
      "cell_type": "code",
      "metadata": {
        "colab_type": "code",
        "id": "HVLjlssWpoC9",
        "colab": {}
      },
      "source": [
        "outputs = net(images.cuda())"
      ],
      "execution_count": 0,
      "outputs": []
    },
    {
      "cell_type": "markdown",
      "metadata": {
        "colab_type": "text",
        "id": "u8OTHZEApoC_"
      },
      "source": [
        "The outputs are energies for the 10 classes.\n",
        "Higher the energy for a class, the more the network\n",
        "thinks that the image is of the particular class.\n",
        "So, let's get the index of the highest energy:\n",
        "\n"
      ]
    },
    {
      "cell_type": "code",
      "metadata": {
        "colab_type": "code",
        "id": "ABRIDW3lpoDA",
        "colab": {
          "base_uri": "https://localhost:8080/",
          "height": 34
        },
        "outputId": "7f91d922-9c54-42c2-f9ca-170434da4cc2"
      },
      "source": [
        "_, predicted = torch.max(outputs, 1)\n",
        "\n",
        "print('Predicted: ', ' '.join('%5s' % classes[predicted[j]]\n",
        "                              for j in range(4)))"
      ],
      "execution_count": 14,
      "outputs": [
        {
          "output_type": "stream",
          "text": [
            "Predicted:  horse   car  deer  ship\n"
          ],
          "name": "stdout"
        }
      ]
    },
    {
      "cell_type": "markdown",
      "metadata": {
        "colab_type": "text",
        "id": "eDdwPBl8poDF"
      },
      "source": [
        "That looks waaay better than chance, which is 10% accuracy (randomly picking\n",
        "a class out of 10 classes).\n",
        "Seems like the network learnt something.\n",
        "\n",
        "Hmmm, what are the classes that performed well, and the classes that did\n",
        "not perform well:\n",
        "\n"
      ]
    },
    {
      "cell_type": "code",
      "metadata": {
        "colab_type": "code",
        "id": "pDNFuDEDpoDG",
        "colab": {
          "base_uri": "https://localhost:8080/",
          "height": 204
        },
        "outputId": "308c9165-207f-4edb-d06b-db191eae2666"
      },
      "source": [
        "from tqdm import tqdm\n",
        "\n",
        "class_correct = list(0. for i in range(10))\n",
        "class_total = list(0. for i in range(10))\n",
        "with torch.no_grad():\n",
        "  pbar = tqdm(loader.testloader)\n",
        "  for i, (data, target) in enumerate(pbar):\n",
        "    data, target = data.to(device), target.to(device)\n",
        "    outputs = net(data)\n",
        "    _, predicted = torch.max(outputs, 1)\n",
        "    c = (predicted == target).squeeze()\n",
        "    for i in range(4):\n",
        "        label = target[i]\n",
        "        class_correct[label] += c[i].item()\n",
        "        class_total[label] += 1\n",
        "\n",
        "\n",
        "for i in range(10):\n",
        "  print('Accuracy of %5s : %2d %%' % (classes[i], 100 * class_correct[i] / class_total[i]))"
      ],
      "execution_count": 15,
      "outputs": [
        {
          "output_type": "stream",
          "text": [
            "100%|██████████| 157/157 [00:02<00:00, 53.07it/s]"
          ],
          "name": "stderr"
        },
        {
          "output_type": "stream",
          "text": [
            "Accuracy of plane : 95 %\n",
            "Accuracy of   car : 96 %\n",
            "Accuracy of  bird : 88 %\n",
            "Accuracy of   cat : 84 %\n",
            "Accuracy of  deer : 93 %\n",
            "Accuracy of   dog : 85 %\n",
            "Accuracy of  frog : 88 %\n",
            "Accuracy of horse : 91 %\n",
            "Accuracy of  ship : 100 %\n",
            "Accuracy of truck : 94 %\n"
          ],
          "name": "stdout"
        },
        {
          "output_type": "stream",
          "text": [
            "\n"
          ],
          "name": "stderr"
        }
      ]
    },
    {
      "cell_type": "code",
      "metadata": {
        "id": "vYXxZVwtcQn2",
        "colab_type": "code",
        "colab": {}
      },
      "source": [
        ""
      ],
      "execution_count": 0,
      "outputs": []
    }
  ]
}