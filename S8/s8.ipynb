{
  "nbformat": 4,
  "nbformat_minor": 0,
  "metadata": {
    "accelerator": "GPU",
    "colab": {
      "name": "s8.ipynb",
      "provenance": [],
      "include_colab_link": true
    },
    "kernelspec": {
      "display_name": "Python 3",
      "language": "python",
      "name": "python3"
    },
    "language_info": {
      "codemirror_mode": {
        "name": "ipython",
        "version": 3
      },
      "file_extension": ".py",
      "mimetype": "text/x-python",
      "name": "python",
      "nbconvert_exporter": "python",
      "pygments_lexer": "ipython3",
      "version": "3.7.6"
    }
  },
  "cells": [
    {
      "cell_type": "markdown",
      "metadata": {
        "id": "view-in-github",
        "colab_type": "text"
      },
      "source": [
        "<a href=\"https://colab.research.google.com/github/sanjeev29/EVA-4/blob/master/S8/s8.ipynb\" target=\"_parent\"><img src=\"https://colab.research.google.com/assets/colab-badge.svg\" alt=\"Open In Colab\"/></a>"
      ]
    },
    {
      "cell_type": "code",
      "metadata": {
        "id": "9fjhmSppcUBc",
        "colab_type": "code",
        "outputId": "bb3ea2c3-42e2-4b78-d3cd-3fbaa7d47841",
        "colab": {
          "base_uri": "https://localhost:8080/",
          "height": 145
        }
      },
      "source": [
        "from google.colab import drive\n",
        "\n",
        "drive.mount('/content/gdrive')\n",
        "%cd /content/gdrive/My\\ Drive/Colab\\ Notebooks/S8/"
      ],
      "execution_count": 0,
      "outputs": [
        {
          "output_type": "stream",
          "text": [
            "Go to this URL in a browser: https://accounts.google.com/o/oauth2/auth?client_id=947318989803-6bn6qk8qdgf4n4g3pfee6491hc0brc4i.apps.googleusercontent.com&redirect_uri=urn%3aietf%3awg%3aoauth%3a2.0%3aoob&response_type=code&scope=email%20https%3a%2f%2fwww.googleapis.com%2fauth%2fdocs.test%20https%3a%2f%2fwww.googleapis.com%2fauth%2fdrive%20https%3a%2f%2fwww.googleapis.com%2fauth%2fdrive.photos.readonly%20https%3a%2f%2fwww.googleapis.com%2fauth%2fpeopleapi.readonly\n",
            "\n",
            "Enter your authorization code:\n",
            "··········\n",
            "Mounted at /content/gdrive\n",
            "/content/gdrive/My Drive/Colab Notebooks/S8\n"
          ],
          "name": "stdout"
        }
      ]
    },
    {
      "cell_type": "markdown",
      "metadata": {
        "colab_type": "text",
        "id": "p7iN7u3rr8DD"
      },
      "source": [
        "# Import Libraries"
      ]
    },
    {
      "cell_type": "code",
      "metadata": {
        "colab_type": "code",
        "id": "G6a3wCYdr3cd",
        "colab": {}
      },
      "source": [
        "%matplotlib inline\n",
        "import torch\n",
        "import torchvision\n",
        "import matplotlib.pyplot as plt\n",
        "import numpy as np"
      ],
      "execution_count": 0,
      "outputs": []
    },
    {
      "cell_type": "markdown",
      "metadata": {
        "colab_type": "text",
        "id": "5kjt4e2TpoCk"
      },
      "source": [
        "# Import loader\n",
        "\n",
        "* Initialize train and test loaders from train and test dataset respectively\n",
        "\n",
        "* CUDA check"
      ]
    },
    {
      "cell_type": "code",
      "metadata": {
        "colab_type": "code",
        "id": "D8Tjigo2poCl",
        "outputId": "d2da8d70-e992-4425-8e4e-2eccf2002875",
        "colab": {
          "base_uri": "https://localhost:8080/",
          "height": 71
        }
      },
      "source": [
        "import loader\n",
        "\n",
        "# Initialize CIFAR-10 classes\n",
        "classes = ('plane', 'car', 'bird', 'cat',\n",
        "           'deer', 'dog', 'frog', 'horse', 'ship', 'truck') "
      ],
      "execution_count": 0,
      "outputs": [
        {
          "output_type": "stream",
          "text": [
            "Files already downloaded and verified\n",
            "Files already downloaded and verified\n",
            "CUDA Available? True\n"
          ],
          "name": "stdout"
        }
      ]
    },
    {
      "cell_type": "markdown",
      "metadata": {
        "colab_type": "text",
        "id": "_cj433rtpoCn"
      },
      "source": [
        "# Plot training images"
      ]
    },
    {
      "cell_type": "code",
      "metadata": {
        "colab_type": "code",
        "id": "daA7bADhpoCo",
        "outputId": "9e9138ce-fca6-41ea-d837-48838fa0dacf",
        "colab": {
          "base_uri": "https://localhost:8080/",
          "height": 174
        }
      },
      "source": [
        "# functions to show an image\n",
        "def imshow(img):\n",
        "    img = img / 2 + 0.5     # unnormalize\n",
        "    npimg = img.numpy()\n",
        "    plt.imshow(np.transpose(npimg, (1, 2, 0)))\n",
        "\n",
        "# get some random training images\n",
        "dataiter = iter(loader.trainloader_for_plot)\n",
        "images, labels = dataiter.next()\n",
        "\n",
        "# show images\n",
        "imshow(torchvision.utils.make_grid(images))\n",
        "\n",
        "# print labels\n",
        "print(' '.join('%5s' % classes[labels[j]] for j in range(4)))"
      ],
      "execution_count": 0,
      "outputs": [
        {
          "output_type": "stream",
          "text": [
            "Clipping input data to the valid range for imshow with RGB data ([0..1] for floats or [0..255] for integers).\n"
          ],
          "name": "stderr"
        },
        {
          "output_type": "stream",
          "text": [
            "plane   dog  deer  deer\n"
          ],
          "name": "stdout"
        },
        {
          "output_type": "display_data",
          "data": {
            "image/png": "[encoded data removed]",
            "text/plain": [
              "<Figure size 432x288 with 1 Axes>"
            ]
          },
          "metadata": {
            "tags": []
          }
        }
      ]
    },
    {
      "cell_type": "markdown",
      "metadata": {
        "colab_type": "text",
        "id": "28OpHA_LpoCq"
      },
      "source": [
        "# Import model\n",
        "\n",
        "Initialize network for the model"
      ]
    },
    {
      "cell_type": "code",
      "metadata": {
        "colab_type": "code",
        "id": "0jjLwLLQpoCr",
        "colab": {}
      },
      "source": [
        "import model"
      ],
      "execution_count": 0,
      "outputs": []
    },
    {
      "cell_type": "markdown",
      "metadata": {
        "colab_type": "text",
        "id": "33lFWPTXw43l"
      },
      "source": [
        "# Model parameters"
      ]
    },
    {
      "cell_type": "code",
      "metadata": {
        "colab_type": "code",
        "id": "YVHE1Rc-xEVa",
        "outputId": "8bee3de3-951a-454f-a388-40bdd22b5222",
        "colab": {
          "base_uri": "https://localhost:8080/",
          "height": 1000
        }
      },
      "source": [
        "from torchsummary import summary\n",
        "use_cuda = torch.cuda.is_available()\n",
        "device = torch.device(\"cuda\" if use_cuda else \"cpu\")\n",
        "print(f\"Device: {device}\")\n",
        "net = model.ResNet18().to(device)\n",
        "summary(net, input_size=(3, 32, 32))"
      ],
      "execution_count": 0,
      "outputs": [
        {
          "output_type": "stream",
          "text": [
            "Device: cuda\n",
            "----------------------------------------------------------------\n",
            "        Layer (type)               Output Shape         Param #\n",
            "================================================================\n",
            "            Conv2d-1           [-1, 64, 32, 32]           1,728\n",
            "       BatchNorm2d-2           [-1, 64, 32, 32]             128\n",
            "            Conv2d-3           [-1, 64, 32, 32]          36,864\n",
            "       BatchNorm2d-4           [-1, 64, 32, 32]             128\n",
            "           Dropout-5           [-1, 64, 32, 32]               0\n",
            "            Conv2d-6           [-1, 64, 32, 32]          36,864\n",
            "       BatchNorm2d-7           [-1, 64, 32, 32]             128\n",
            "        BasicBlock-8           [-1, 64, 32, 32]               0\n",
            "            Conv2d-9           [-1, 64, 32, 32]          36,864\n",
            "      BatchNorm2d-10           [-1, 64, 32, 32]             128\n",
            "          Dropout-11           [-1, 64, 32, 32]               0\n",
            "           Conv2d-12           [-1, 64, 32, 32]          36,864\n",
            "      BatchNorm2d-13           [-1, 64, 32, 32]             128\n",
            "       BasicBlock-14           [-1, 64, 32, 32]               0\n",
            "           Conv2d-15          [-1, 128, 16, 16]          73,728\n",
            "      BatchNorm2d-16          [-1, 128, 16, 16]             256\n",
            "          Dropout-17          [-1, 128, 16, 16]               0\n",
            "           Conv2d-18          [-1, 128, 16, 16]         147,456\n",
            "      BatchNorm2d-19          [-1, 128, 16, 16]             256\n",
            "           Conv2d-20          [-1, 128, 16, 16]           8,192\n",
            "      BatchNorm2d-21          [-1, 128, 16, 16]             256\n",
            "       BasicBlock-22          [-1, 128, 16, 16]               0\n",
            "           Conv2d-23          [-1, 128, 16, 16]         147,456\n",
            "      BatchNorm2d-24          [-1, 128, 16, 16]             256\n",
            "          Dropout-25          [-1, 128, 16, 16]               0\n",
            "           Conv2d-26          [-1, 128, 16, 16]         147,456\n",
            "      BatchNorm2d-27          [-1, 128, 16, 16]             256\n",
            "       BasicBlock-28          [-1, 128, 16, 16]               0\n",
            "           Conv2d-29            [-1, 256, 8, 8]         294,912\n",
            "      BatchNorm2d-30            [-1, 256, 8, 8]             512\n",
            "          Dropout-31            [-1, 256, 8, 8]               0\n",
            "           Conv2d-32            [-1, 256, 8, 8]         589,824\n",
            "      BatchNorm2d-33            [-1, 256, 8, 8]             512\n",
            "           Conv2d-34            [-1, 256, 8, 8]          32,768\n",
            "      BatchNorm2d-35            [-1, 256, 8, 8]             512\n",
            "       BasicBlock-36            [-1, 256, 8, 8]               0\n",
            "           Conv2d-37            [-1, 256, 8, 8]         589,824\n",
            "      BatchNorm2d-38            [-1, 256, 8, 8]             512\n",
            "          Dropout-39            [-1, 256, 8, 8]               0\n",
            "           Conv2d-40            [-1, 256, 8, 8]         589,824\n",
            "      BatchNorm2d-41            [-1, 256, 8, 8]             512\n",
            "       BasicBlock-42            [-1, 256, 8, 8]               0\n",
            "           Conv2d-43            [-1, 512, 4, 4]       1,179,648\n",
            "      BatchNorm2d-44            [-1, 512, 4, 4]           1,024\n",
            "          Dropout-45            [-1, 512, 4, 4]               0\n",
            "           Conv2d-46            [-1, 512, 4, 4]       2,359,296\n",
            "      BatchNorm2d-47            [-1, 512, 4, 4]           1,024\n",
            "           Conv2d-48            [-1, 512, 4, 4]         131,072\n",
            "      BatchNorm2d-49            [-1, 512, 4, 4]           1,024\n",
            "       BasicBlock-50            [-1, 512, 4, 4]               0\n",
            "           Conv2d-51            [-1, 512, 4, 4]       2,359,296\n",
            "      BatchNorm2d-52            [-1, 512, 4, 4]           1,024\n",
            "          Dropout-53            [-1, 512, 4, 4]               0\n",
            "           Conv2d-54            [-1, 512, 4, 4]       2,359,296\n",
            "      BatchNorm2d-55            [-1, 512, 4, 4]           1,024\n",
            "       BasicBlock-56            [-1, 512, 4, 4]               0\n",
            "           Linear-57                   [-1, 10]           5,130\n",
            "================================================================\n",
            "Total params: 11,173,962\n",
            "Trainable params: 11,173,962\n",
            "Non-trainable params: 0\n",
            "----------------------------------------------------------------\n",
            "Input size (MB): 0.01\n",
            "Forward/backward pass size (MB): 13.13\n",
            "Params size (MB): 42.63\n",
            "Estimated Total Size (MB): 55.76\n",
            "----------------------------------------------------------------\n"
          ],
          "name": "stdout"
        }
      ]
    },
    {
      "cell_type": "markdown",
      "metadata": {
        "colab_type": "text",
        "id": "Wdw2NNCUpoCu"
      },
      "source": [
        "# Loss function and optimizer\n",
        "\n"
      ]
    },
    {
      "cell_type": "code",
      "metadata": {
        "colab_type": "code",
        "id": "M4xBbDROpoCv",
        "colab": {}
      },
      "source": [
        "import torch.nn as nn\n",
        "import torch.optim as optim\n",
        "\n",
        "from torch.optim.lr_scheduler import StepLR\n",
        "\n",
        "criterion = nn.CrossEntropyLoss()\n",
        "optimizer = optim.SGD(net.parameters(), lr=0.001, momentum=0.9, weight_decay=0.0001)\n",
        "scheduler = StepLR(optimizer, step_size=8, gamma=0.2)"
      ],
      "execution_count": 0,
      "outputs": []
    },
    {
      "cell_type": "markdown",
      "metadata": {
        "colab_type": "text",
        "id": "O-odOrhdpoC2"
      },
      "source": [
        "# Training and Testing"
      ]
    },
    {
      "cell_type": "code",
      "metadata": {
        "colab_type": "code",
        "id": "kkuRfo1IpoC3",
        "colab": {}
      },
      "source": [
        "import train\n",
        "import test"
      ],
      "execution_count": 0,
      "outputs": []
    },
    {
      "cell_type": "markdown",
      "metadata": {
        "colab_type": "text",
        "id": "YLrvL_fHpoC5"
      },
      "source": [
        "# Training and testing our model"
      ]
    },
    {
      "cell_type": "code",
      "metadata": {
        "colab_type": "code",
        "id": "tRZhzMc60Tgz",
        "outputId": "0ed4fd94-6878-4a36-b43b-f9d36db93b90",
        "colab": {
          "base_uri": "https://localhost:8080/",
          "height": 1000
        }
      },
      "source": [
        "epochs = 50\n",
        "\n",
        "for epoch in range(epochs):\n",
        "  train.train(net, device, loader.trainloader, optimizer, criterion, epoch)\n",
        "  test.test(net, device, loader.testloader, criterion)"
      ],
      "execution_count": 0,
      "outputs": [
        {
          "output_type": "stream",
          "text": [
            "Epoch= 0 Loss=1.3550525903701782 Batch_id=390 Accuracy=36.32: 100%|██████████| 391/391 [00:29<00:00, 14.30it/s]\n",
            "  0%|          | 0/391 [00:00<?, ?it/s]"
          ],
          "name": "stderr"
        },
        {
          "output_type": "stream",
          "text": [
            "\n",
            "Validation set: Average loss: 0.0127, Accuracy: 4292/10000 (42.92%)\n",
            "\n"
          ],
          "name": "stdout"
        },
        {
          "output_type": "stream",
          "text": [
            "Epoch= 1 Loss=1.3317559957504272 Batch_id=390 Accuracy=52.56: 100%|██████████| 391/391 [00:29<00:00, 14.35it/s]\n",
            "  0%|          | 0/391 [00:00<?, ?it/s]"
          ],
          "name": "stderr"
        },
        {
          "output_type": "stream",
          "text": [
            "\n",
            "Validation set: Average loss: 0.0105, Accuracy: 5418/10000 (54.18%)\n",
            "\n"
          ],
          "name": "stdout"
        },
        {
          "output_type": "stream",
          "text": [
            "Epoch= 2 Loss=1.103062391281128 Batch_id=390 Accuracy=60.91: 100%|██████████| 391/391 [00:29<00:00, 14.37it/s]\n",
            "  0%|          | 0/391 [00:00<?, ?it/s]"
          ],
          "name": "stderr"
        },
        {
          "output_type": "stream",
          "text": [
            "\n",
            "Validation set: Average loss: 0.0090, Accuracy: 5976/10000 (59.76%)\n",
            "\n"
          ],
          "name": "stdout"
        },
        {
          "output_type": "stream",
          "text": [
            "Epoch= 3 Loss=0.9203318357467651 Batch_id=390 Accuracy=66.85: 100%|██████████| 391/391 [00:29<00:00, 14.49it/s]\n",
            "  0%|          | 0/391 [00:00<?, ?it/s]"
          ],
          "name": "stderr"
        },
        {
          "output_type": "stream",
          "text": [
            "\n",
            "Validation set: Average loss: 0.0073, Accuracy: 6716/10000 (67.16%)\n",
            "\n"
          ],
          "name": "stdout"
        },
        {
          "output_type": "stream",
          "text": [
            "Epoch= 4 Loss=0.6818720698356628 Batch_id=390 Accuracy=70.91: 100%|██████████| 391/391 [00:29<00:00, 14.29it/s]\n",
            "  0%|          | 0/391 [00:00<?, ?it/s]"
          ],
          "name": "stderr"
        },
        {
          "output_type": "stream",
          "text": [
            "\n",
            "Validation set: Average loss: 0.0068, Accuracy: 7009/10000 (70.09%)\n",
            "\n"
          ],
          "name": "stdout"
        },
        {
          "output_type": "stream",
          "text": [
            "Epoch= 5 Loss=0.581041693687439 Batch_id=390 Accuracy=74.26: 100%|██████████| 391/391 [00:29<00:00, 14.27it/s]\n",
            "  0%|          | 0/391 [00:00<?, ?it/s]"
          ],
          "name": "stderr"
        },
        {
          "output_type": "stream",
          "text": [
            "\n",
            "Validation set: Average loss: 0.0057, Accuracy: 7496/10000 (74.96%)\n",
            "\n"
          ],
          "name": "stdout"
        },
        {
          "output_type": "stream",
          "text": [
            "Epoch= 6 Loss=0.5703283548355103 Batch_id=390 Accuracy=76.99: 100%|██████████| 391/391 [00:29<00:00, 14.39it/s]\n",
            "  0%|          | 0/391 [00:00<?, ?it/s]"
          ],
          "name": "stderr"
        },
        {
          "output_type": "stream",
          "text": [
            "\n",
            "Validation set: Average loss: 0.0057, Accuracy: 7518/10000 (75.18%)\n",
            "\n"
          ],
          "name": "stdout"
        },
        {
          "output_type": "stream",
          "text": [
            "Epoch= 7 Loss=0.704176664352417 Batch_id=390 Accuracy=79.50: 100%|██████████| 391/391 [00:29<00:00, 13.09it/s]\n",
            "  0%|          | 0/391 [00:00<?, ?it/s]"
          ],
          "name": "stderr"
        },
        {
          "output_type": "stream",
          "text": [
            "\n",
            "Validation set: Average loss: 0.0053, Accuracy: 7738/10000 (77.38%)\n",
            "\n"
          ],
          "name": "stdout"
        },
        {
          "output_type": "stream",
          "text": [
            "Epoch= 8 Loss=0.6354020833969116 Batch_id=390 Accuracy=81.26: 100%|██████████| 391/391 [00:29<00:00, 14.27it/s]\n",
            "  0%|          | 0/391 [00:00<?, ?it/s]"
          ],
          "name": "stderr"
        },
        {
          "output_type": "stream",
          "text": [
            "\n",
            "Validation set: Average loss: 0.0048, Accuracy: 7909/10000 (79.09%)\n",
            "\n"
          ],
          "name": "stdout"
        },
        {
          "output_type": "stream",
          "text": [
            "Epoch= 9 Loss=0.522931694984436 Batch_id=390 Accuracy=83.10: 100%|██████████| 391/391 [00:29<00:00, 14.32it/s]\n",
            "  0%|          | 0/391 [00:00<?, ?it/s]"
          ],
          "name": "stderr"
        },
        {
          "output_type": "stream",
          "text": [
            "\n",
            "Validation set: Average loss: 0.0053, Accuracy: 7812/10000 (78.12%)\n",
            "\n"
          ],
          "name": "stdout"
        },
        {
          "output_type": "stream",
          "text": [
            "Epoch= 10 Loss=0.48056840896606445 Batch_id=390 Accuracy=84.82: 100%|██████████| 391/391 [00:29<00:00, 14.26it/s]\n",
            "  0%|          | 0/391 [00:00<?, ?it/s]"
          ],
          "name": "stderr"
        },
        {
          "output_type": "stream",
          "text": [
            "\n",
            "Validation set: Average loss: 0.0048, Accuracy: 8007/10000 (80.07%)\n",
            "\n"
          ],
          "name": "stdout"
        },
        {
          "output_type": "stream",
          "text": [
            "Epoch= 11 Loss=0.4152646064758301 Batch_id=390 Accuracy=86.14: 100%|██████████| 391/391 [00:29<00:00, 14.26it/s]\n",
            "  0%|          | 0/391 [00:00<?, ?it/s]"
          ],
          "name": "stderr"
        },
        {
          "output_type": "stream",
          "text": [
            "\n",
            "Validation set: Average loss: 0.0046, Accuracy: 8092/10000 (80.92%)\n",
            "\n"
          ],
          "name": "stdout"
        },
        {
          "output_type": "stream",
          "text": [
            "Epoch= 12 Loss=0.4536201059818268 Batch_id=390 Accuracy=87.60: 100%|██████████| 391/391 [00:29<00:00, 14.19it/s]\n",
            "  0%|          | 0/391 [00:00<?, ?it/s]"
          ],
          "name": "stderr"
        },
        {
          "output_type": "stream",
          "text": [
            "\n",
            "Validation set: Average loss: 0.0049, Accuracy: 8070/10000 (80.70%)\n",
            "\n"
          ],
          "name": "stdout"
        },
        {
          "output_type": "stream",
          "text": [
            "Epoch= 13 Loss=0.3121715486049652 Batch_id=390 Accuracy=88.65: 100%|██████████| 391/391 [00:29<00:00, 14.37it/s]\n",
            "  0%|          | 0/391 [00:00<?, ?it/s]"
          ],
          "name": "stderr"
        },
        {
          "output_type": "stream",
          "text": [
            "\n",
            "Validation set: Average loss: 0.0046, Accuracy: 8162/10000 (81.62%)\n",
            "\n"
          ],
          "name": "stdout"
        },
        {
          "output_type": "stream",
          "text": [
            "Epoch= 14 Loss=0.15527306497097015 Batch_id=390 Accuracy=89.78: 100%|██████████| 391/391 [00:29<00:00, 14.39it/s]\n",
            "  0%|          | 0/391 [00:00<?, ?it/s]"
          ],
          "name": "stderr"
        },
        {
          "output_type": "stream",
          "text": [
            "\n",
            "Validation set: Average loss: 0.0046, Accuracy: 8179/10000 (81.79%)\n",
            "\n"
          ],
          "name": "stdout"
        },
        {
          "output_type": "stream",
          "text": [
            "Epoch= 15 Loss=0.21877889335155487 Batch_id=390 Accuracy=90.78: 100%|██████████| 391/391 [00:29<00:00, 13.11it/s]\n",
            "  0%|          | 0/391 [00:00<?, ?it/s]"
          ],
          "name": "stderr"
        },
        {
          "output_type": "stream",
          "text": [
            "\n",
            "Validation set: Average loss: 0.0047, Accuracy: 8203/10000 (82.03%)\n",
            "\n"
          ],
          "name": "stdout"
        },
        {
          "output_type": "stream",
          "text": [
            "Epoch= 16 Loss=0.13361617922782898 Batch_id=390 Accuracy=91.69: 100%|██████████| 391/391 [00:29<00:00, 14.21it/s]\n",
            "  0%|          | 0/391 [00:00<?, ?it/s]"
          ],
          "name": "stderr"
        },
        {
          "output_type": "stream",
          "text": [
            "\n",
            "Validation set: Average loss: 0.0045, Accuracy: 8280/10000 (82.80%)\n",
            "\n"
          ],
          "name": "stdout"
        },
        {
          "output_type": "stream",
          "text": [
            "Epoch= 17 Loss=0.3033001124858856 Batch_id=390 Accuracy=92.76: 100%|██████████| 391/391 [00:29<00:00, 14.31it/s]\n",
            "  0%|          | 0/391 [00:00<?, ?it/s]"
          ],
          "name": "stderr"
        },
        {
          "output_type": "stream",
          "text": [
            "\n",
            "Validation set: Average loss: 0.0052, Accuracy: 8130/10000 (81.30%)\n",
            "\n"
          ],
          "name": "stdout"
        },
        {
          "output_type": "stream",
          "text": [
            "Epoch= 18 Loss=0.21124267578125 Batch_id=390 Accuracy=93.72: 100%|██████████| 391/391 [00:29<00:00, 14.26it/s]\n",
            "  0%|          | 0/391 [00:00<?, ?it/s]"
          ],
          "name": "stderr"
        },
        {
          "output_type": "stream",
          "text": [
            "\n",
            "Validation set: Average loss: 0.0048, Accuracy: 8272/10000 (82.72%)\n",
            "\n"
          ],
          "name": "stdout"
        },
        {
          "output_type": "stream",
          "text": [
            "Epoch= 19 Loss=0.22130551934242249 Batch_id=390 Accuracy=93.99: 100%|██████████| 391/391 [00:29<00:00, 14.19it/s]\n",
            "  0%|          | 0/391 [00:00<?, ?it/s]"
          ],
          "name": "stderr"
        },
        {
          "output_type": "stream",
          "text": [
            "\n",
            "Validation set: Average loss: 0.0047, Accuracy: 8331/10000 (83.31%)\n",
            "\n"
          ],
          "name": "stdout"
        },
        {
          "output_type": "stream",
          "text": [
            "Epoch= 20 Loss=0.15852290391921997 Batch_id=390 Accuracy=94.81: 100%|██████████| 391/391 [00:29<00:00, 14.16it/s]\n",
            "  0%|          | 0/391 [00:00<?, ?it/s]"
          ],
          "name": "stderr"
        },
        {
          "output_type": "stream",
          "text": [
            "\n",
            "Validation set: Average loss: 0.0045, Accuracy: 8424/10000 (84.24%)\n",
            "\n"
          ],
          "name": "stdout"
        },
        {
          "output_type": "stream",
          "text": [
            "Epoch= 21 Loss=0.08679421246051788 Batch_id=390 Accuracy=95.28: 100%|██████████| 391/391 [00:29<00:00, 14.17it/s]\n",
            "  0%|          | 0/391 [00:00<?, ?it/s]"
          ],
          "name": "stderr"
        },
        {
          "output_type": "stream",
          "text": [
            "\n",
            "Validation set: Average loss: 0.0048, Accuracy: 8341/10000 (83.41%)\n",
            "\n"
          ],
          "name": "stdout"
        },
        {
          "output_type": "stream",
          "text": [
            "Epoch= 22 Loss=0.12165379524230957 Batch_id=390 Accuracy=96.04: 100%|██████████| 391/391 [00:29<00:00, 14.14it/s]\n",
            "  0%|          | 0/391 [00:00<?, ?it/s]"
          ],
          "name": "stderr"
        },
        {
          "output_type": "stream",
          "text": [
            "\n",
            "Validation set: Average loss: 0.0048, Accuracy: 8389/10000 (83.89%)\n",
            "\n"
          ],
          "name": "stdout"
        },
        {
          "output_type": "stream",
          "text": [
            "Epoch= 23 Loss=0.07524687051773071 Batch_id=390 Accuracy=96.51: 100%|██████████| 391/391 [00:29<00:00, 14.28it/s]\n",
            "  0%|          | 0/391 [00:00<?, ?it/s]"
          ],
          "name": "stderr"
        },
        {
          "output_type": "stream",
          "text": [
            "\n",
            "Validation set: Average loss: 0.0056, Accuracy: 8198/10000 (81.98%)\n",
            "\n"
          ],
          "name": "stdout"
        },
        {
          "output_type": "stream",
          "text": [
            "Epoch= 24 Loss=0.04025520011782646 Batch_id=390 Accuracy=96.83: 100%|██████████| 391/391 [00:29<00:00, 14.25it/s]\n",
            "  0%|          | 0/391 [00:00<?, ?it/s]"
          ],
          "name": "stderr"
        },
        {
          "output_type": "stream",
          "text": [
            "\n",
            "Validation set: Average loss: 0.0049, Accuracy: 8360/10000 (83.60%)\n",
            "\n"
          ],
          "name": "stdout"
        },
        {
          "output_type": "stream",
          "text": [
            "Epoch= 25 Loss=0.06884036958217621 Batch_id=390 Accuracy=97.17: 100%|██████████| 391/391 [00:29<00:00, 14.28it/s]\n",
            "  0%|          | 0/391 [00:00<?, ?it/s]"
          ],
          "name": "stderr"
        },
        {
          "output_type": "stream",
          "text": [
            "\n",
            "Validation set: Average loss: 0.0055, Accuracy: 8314/10000 (83.14%)\n",
            "\n"
          ],
          "name": "stdout"
        },
        {
          "output_type": "stream",
          "text": [
            "Epoch= 26 Loss=0.07055556774139404 Batch_id=390 Accuracy=97.34: 100%|██████████| 391/391 [00:29<00:00, 14.26it/s]\n",
            "  0%|          | 0/391 [00:00<?, ?it/s]"
          ],
          "name": "stderr"
        },
        {
          "output_type": "stream",
          "text": [
            "\n",
            "Validation set: Average loss: 0.0052, Accuracy: 8353/10000 (83.53%)\n",
            "\n"
          ],
          "name": "stdout"
        },
        {
          "output_type": "stream",
          "text": [
            "Epoch= 27 Loss=0.06834275275468826 Batch_id=390 Accuracy=97.71: 100%|██████████| 391/391 [00:29<00:00, 14.28it/s]\n",
            "  0%|          | 0/391 [00:00<?, ?it/s]"
          ],
          "name": "stderr"
        },
        {
          "output_type": "stream",
          "text": [
            "\n",
            "Validation set: Average loss: 0.0051, Accuracy: 8432/10000 (84.32%)\n",
            "\n"
          ],
          "name": "stdout"
        },
        {
          "output_type": "stream",
          "text": [
            "Epoch= 28 Loss=0.0754096508026123 Batch_id=390 Accuracy=98.01: 100%|██████████| 391/391 [00:29<00:00, 14.15it/s]\n",
            "  0%|          | 0/391 [00:00<?, ?it/s]"
          ],
          "name": "stderr"
        },
        {
          "output_type": "stream",
          "text": [
            "\n",
            "Validation set: Average loss: 0.0052, Accuracy: 8442/10000 (84.42%)\n",
            "\n"
          ],
          "name": "stdout"
        },
        {
          "output_type": "stream",
          "text": [
            "Epoch= 29 Loss=0.04887055233120918 Batch_id=390 Accuracy=98.08: 100%|██████████| 391/391 [00:29<00:00, 14.09it/s]\n",
            "  0%|          | 0/391 [00:00<?, ?it/s]"
          ],
          "name": "stderr"
        },
        {
          "output_type": "stream",
          "text": [
            "\n",
            "Validation set: Average loss: 0.0051, Accuracy: 8456/10000 (84.56%)\n",
            "\n"
          ],
          "name": "stdout"
        },
        {
          "output_type": "stream",
          "text": [
            "Epoch= 30 Loss=0.05170593410730362 Batch_id=390 Accuracy=98.32: 100%|██████████| 391/391 [00:29<00:00, 14.34it/s]\n",
            "  0%|          | 0/391 [00:00<?, ?it/s]"
          ],
          "name": "stderr"
        },
        {
          "output_type": "stream",
          "text": [
            "\n",
            "Validation set: Average loss: 0.0051, Accuracy: 8450/10000 (84.50%)\n",
            "\n"
          ],
          "name": "stdout"
        },
        {
          "output_type": "stream",
          "text": [
            "Epoch= 31 Loss=0.03558214753866196 Batch_id=390 Accuracy=98.40: 100%|██████████| 391/391 [00:29<00:00, 14.45it/s]\n",
            "  0%|          | 0/391 [00:00<?, ?it/s]"
          ],
          "name": "stderr"
        },
        {
          "output_type": "stream",
          "text": [
            "\n",
            "Validation set: Average loss: 0.0053, Accuracy: 8455/10000 (84.55%)\n",
            "\n"
          ],
          "name": "stdout"
        },
        {
          "output_type": "stream",
          "text": [
            "Epoch= 32 Loss=0.021075522527098656 Batch_id=390 Accuracy=98.40: 100%|██████████| 391/391 [00:29<00:00, 14.33it/s]\n",
            "  0%|          | 0/391 [00:00<?, ?it/s]"
          ],
          "name": "stderr"
        },
        {
          "output_type": "stream",
          "text": [
            "\n",
            "Validation set: Average loss: 0.0052, Accuracy: 8469/10000 (84.69%)\n",
            "\n"
          ],
          "name": "stdout"
        },
        {
          "output_type": "stream",
          "text": [
            "Epoch= 33 Loss=0.046602170914411545 Batch_id=390 Accuracy=98.60: 100%|██████████| 391/391 [00:29<00:00, 14.41it/s]\n",
            "  0%|          | 0/391 [00:00<?, ?it/s]"
          ],
          "name": "stderr"
        },
        {
          "output_type": "stream",
          "text": [
            "\n",
            "Validation set: Average loss: 0.0054, Accuracy: 8444/10000 (84.44%)\n",
            "\n"
          ],
          "name": "stdout"
        },
        {
          "output_type": "stream",
          "text": [
            "Epoch= 34 Loss=0.07567994296550751 Batch_id=390 Accuracy=98.62: 100%|██████████| 391/391 [00:29<00:00, 14.36it/s]\n",
            "  0%|          | 0/391 [00:00<?, ?it/s]"
          ],
          "name": "stderr"
        },
        {
          "output_type": "stream",
          "text": [
            "\n",
            "Validation set: Average loss: 0.0054, Accuracy: 8439/10000 (84.39%)\n",
            "\n"
          ],
          "name": "stdout"
        },
        {
          "output_type": "stream",
          "text": [
            "Epoch= 35 Loss=0.08648784458637238 Batch_id=390 Accuracy=98.74: 100%|██████████| 391/391 [00:29<00:00, 14.27it/s]\n",
            "  0%|          | 0/391 [00:00<?, ?it/s]"
          ],
          "name": "stderr"
        },
        {
          "output_type": "stream",
          "text": [
            "\n",
            "Validation set: Average loss: 0.0054, Accuracy: 8477/10000 (84.77%)\n",
            "\n"
          ],
          "name": "stdout"
        },
        {
          "output_type": "stream",
          "text": [
            "Epoch= 36 Loss=0.030871188268065453 Batch_id=390 Accuracy=98.88: 100%|██████████| 391/391 [00:29<00:00, 14.17it/s]\n",
            "  0%|          | 0/391 [00:00<?, ?it/s]"
          ],
          "name": "stderr"
        },
        {
          "output_type": "stream",
          "text": [
            "\n",
            "Validation set: Average loss: 0.0053, Accuracy: 8477/10000 (84.77%)\n",
            "\n"
          ],
          "name": "stdout"
        },
        {
          "output_type": "stream",
          "text": [
            "Epoch= 37 Loss=0.043158791959285736 Batch_id=390 Accuracy=98.92: 100%|██████████| 391/391 [00:29<00:00, 14.40it/s]\n",
            "  0%|          | 0/391 [00:00<?, ?it/s]"
          ],
          "name": "stderr"
        },
        {
          "output_type": "stream",
          "text": [
            "\n",
            "Validation set: Average loss: 0.0054, Accuracy: 8477/10000 (84.77%)\n",
            "\n"
          ],
          "name": "stdout"
        },
        {
          "output_type": "stream",
          "text": [
            "Epoch= 38 Loss=0.0097140371799469 Batch_id=390 Accuracy=98.96: 100%|██████████| 391/391 [00:29<00:00, 14.42it/s]\n",
            "  0%|          | 0/391 [00:00<?, ?it/s]"
          ],
          "name": "stderr"
        },
        {
          "output_type": "stream",
          "text": [
            "\n",
            "Validation set: Average loss: 0.0054, Accuracy: 8527/10000 (85.27%)\n",
            "\n"
          ],
          "name": "stdout"
        },
        {
          "output_type": "stream",
          "text": [
            "Epoch= 39 Loss=0.017518848180770874 Batch_id=390 Accuracy=99.02: 100%|██████████| 391/391 [00:29<00:00, 14.24it/s]\n",
            "  0%|          | 0/391 [00:00<?, ?it/s]"
          ],
          "name": "stderr"
        },
        {
          "output_type": "stream",
          "text": [
            "\n",
            "Validation set: Average loss: 0.0058, Accuracy: 8432/10000 (84.32%)\n",
            "\n"
          ],
          "name": "stdout"
        },
        {
          "output_type": "stream",
          "text": [
            "Epoch= 40 Loss=0.022932719439268112 Batch_id=390 Accuracy=99.10: 100%|██████████| 391/391 [00:29<00:00, 14.34it/s]\n",
            "  0%|          | 0/391 [00:00<?, ?it/s]"
          ],
          "name": "stderr"
        },
        {
          "output_type": "stream",
          "text": [
            "\n",
            "Validation set: Average loss: 0.0055, Accuracy: 8511/10000 (85.11%)\n",
            "\n"
          ],
          "name": "stdout"
        },
        {
          "output_type": "stream",
          "text": [
            "Epoch= 41 Loss=0.015419870615005493 Batch_id=390 Accuracy=99.17: 100%|██████████| 391/391 [00:29<00:00, 14.16it/s]\n",
            "  0%|          | 0/391 [00:00<?, ?it/s]"
          ],
          "name": "stderr"
        },
        {
          "output_type": "stream",
          "text": [
            "\n",
            "Validation set: Average loss: 0.0055, Accuracy: 8513/10000 (85.13%)\n",
            "\n"
          ],
          "name": "stdout"
        },
        {
          "output_type": "stream",
          "text": [
            "Epoch= 42 Loss=0.04857594519853592 Batch_id=390 Accuracy=99.13: 100%|██████████| 391/391 [00:29<00:00, 14.41it/s]\n",
            "  0%|          | 0/391 [00:00<?, ?it/s]"
          ],
          "name": "stderr"
        },
        {
          "output_type": "stream",
          "text": [
            "\n",
            "Validation set: Average loss: 0.0054, Accuracy: 8530/10000 (85.30%)\n",
            "\n"
          ],
          "name": "stdout"
        },
        {
          "output_type": "stream",
          "text": [
            "Epoch= 43 Loss=0.024329256266355515 Batch_id=390 Accuracy=99.23: 100%|██████████| 391/391 [00:29<00:00, 14.39it/s]\n",
            "  0%|          | 0/391 [00:00<?, ?it/s]"
          ],
          "name": "stderr"
        },
        {
          "output_type": "stream",
          "text": [
            "\n",
            "Validation set: Average loss: 0.0053, Accuracy: 8559/10000 (85.59%)\n",
            "\n"
          ],
          "name": "stdout"
        },
        {
          "output_type": "stream",
          "text": [
            "Epoch= 44 Loss=0.008673543110489845 Batch_id=390 Accuracy=99.26: 100%|██████████| 391/391 [00:29<00:00, 14.12it/s]\n",
            "  0%|          | 0/391 [00:00<?, ?it/s]"
          ],
          "name": "stderr"
        },
        {
          "output_type": "stream",
          "text": [
            "\n",
            "Validation set: Average loss: 0.0054, Accuracy: 8527/10000 (85.27%)\n",
            "\n"
          ],
          "name": "stdout"
        },
        {
          "output_type": "stream",
          "text": [
            "Epoch= 45 Loss=0.05539155751466751 Batch_id=390 Accuracy=99.41: 100%|██████████| 391/391 [00:29<00:00, 14.32it/s]\n",
            "  0%|          | 0/391 [00:00<?, ?it/s]"
          ],
          "name": "stderr"
        },
        {
          "output_type": "stream",
          "text": [
            "\n",
            "Validation set: Average loss: 0.0055, Accuracy: 8533/10000 (85.33%)\n",
            "\n"
          ],
          "name": "stdout"
        },
        {
          "output_type": "stream",
          "text": [
            "Epoch= 46 Loss=0.015536898747086525 Batch_id=390 Accuracy=99.30: 100%|██████████| 391/391 [00:29<00:00, 14.27it/s]\n",
            "  0%|          | 0/391 [00:00<?, ?it/s]"
          ],
          "name": "stderr"
        },
        {
          "output_type": "stream",
          "text": [
            "\n",
            "Validation set: Average loss: 0.0055, Accuracy: 8543/10000 (85.43%)\n",
            "\n"
          ],
          "name": "stdout"
        },
        {
          "output_type": "stream",
          "text": [
            "Epoch= 47 Loss=0.05209580808877945 Batch_id=390 Accuracy=99.42: 100%|██████████| 391/391 [00:29<00:00, 14.35it/s]\n",
            "  0%|          | 0/391 [00:00<?, ?it/s]"
          ],
          "name": "stderr"
        },
        {
          "output_type": "stream",
          "text": [
            "\n",
            "Validation set: Average loss: 0.0055, Accuracy: 8540/10000 (85.40%)\n",
            "\n"
          ],
          "name": "stdout"
        },
        {
          "output_type": "stream",
          "text": [
            "Epoch= 48 Loss=0.016224998980760574 Batch_id=390 Accuracy=99.40: 100%|██████████| 391/391 [00:29<00:00, 14.23it/s]\n",
            "  0%|          | 0/391 [00:00<?, ?it/s]"
          ],
          "name": "stderr"
        },
        {
          "output_type": "stream",
          "text": [
            "\n",
            "Validation set: Average loss: 0.0057, Accuracy: 8531/10000 (85.31%)\n",
            "\n"
          ],
          "name": "stdout"
        },
        {
          "output_type": "stream",
          "text": [
            "Epoch= 49 Loss=0.006104004569351673 Batch_id=390 Accuracy=99.35: 100%|██████████| 391/391 [00:29<00:00, 14.43it/s]\n"
          ],
          "name": "stderr"
        },
        {
          "output_type": "stream",
          "text": [
            "\n",
            "Validation set: Average loss: 0.0059, Accuracy: 8491/10000 (84.91%)\n",
            "\n"
          ],
          "name": "stdout"
        }
      ]
    },
    {
      "cell_type": "markdown",
      "metadata": {
        "colab_type": "text",
        "id": "nxYuUEDA5iV4"
      },
      "source": [
        "# Result visualization"
      ]
    },
    {
      "cell_type": "code",
      "metadata": {
        "colab_type": "code",
        "id": "x5YklhJu5nQc",
        "outputId": "f7e41981-d1fb-4d17-96de-48a47d1aa866",
        "colab": {
          "base_uri": "https://localhost:8080/",
          "height": 458
        }
      },
      "source": [
        "val_acc_fig, axs = plt.subplots(1,1,figsize=(10,7))\n",
        "axs.plot(test.test_acc)\n",
        "axs.set_title(\"Validation Accuracy\")\n",
        "axs.set_xlabel(\"Epoch\")\n",
        "axs.set_ylabel(\"Accuracy\")\n",
        "val_acc_fig.savefig('/content/gdrive/My Drive/Colab Notebooks/S8/validation_accuracy_change_plot.jpg')"
      ],
      "execution_count": 0,
      "outputs": [
        {
          "output_type": "display_data",
          "data": {
            "image/png": "[encoded data removed]",
            "text/plain": [
              "<Figure size 720x504 with 1 Axes>"
            ]
          },
          "metadata": {
            "tags": []
          }
        }
      ]
    },
    {
      "cell_type": "code",
      "metadata": {
        "colab_type": "code",
        "id": "LIkAWvNewpcm",
        "outputId": "325ecfd1-ff86-4d66-b985-5e008fd266a4",
        "colab": {
          "base_uri": "https://localhost:8080/",
          "height": 458
        }
      },
      "source": [
        "val_loss_fig, axs = plt.subplots(1,1,figsize=(10,7))\n",
        "\n",
        "axs.plot(test.test_losses)\n",
        "axs.set_title(\"Validation loss\")\n",
        "axs.set_xlabel(\"Epoch\")\n",
        "axs.set_ylabel(\"Loss\")\n",
        "val_loss_fig.savefig('/content/gdrive/My Drive/Colab Notebooks/S8/validation_loss_change_plot.jpg')"
      ],
      "execution_count": 0,
      "outputs": [
        {
          "output_type": "display_data",
          "data": {
            "image/png": "[encoded data removed]",
            "text/plain": [
              "<Figure size 720x504 with 1 Axes>"
            ]
          },
          "metadata": {
            "tags": []
          }
        }
      ]
    },
    {
      "cell_type": "code",
      "metadata": {
        "colab_type": "code",
        "id": "nizbsvw9poC6",
        "outputId": "c4efee65-a26f-4064-d7eb-5a6691c50965",
        "colab": {
          "base_uri": "https://localhost:8080/",
          "height": 174
        }
      },
      "source": [
        "dataiter = iter(loader.testloader_for_plot)\n",
        "images, labels = dataiter.next()\n",
        "\n",
        "# print images\n",
        "imshow(torchvision.utils.make_grid(images))\n",
        "print('GroundTruth: ', ' '.join('%5s' % classes[labels[j]] for j in range(4)))"
      ],
      "execution_count": 0,
      "outputs": [
        {
          "output_type": "stream",
          "text": [
            "Clipping input data to the valid range for imshow with RGB data ([0..1] for floats or [0..255] for integers).\n"
          ],
          "name": "stderr"
        },
        {
          "output_type": "stream",
          "text": [
            "GroundTruth:   frog  frog   dog plane\n"
          ],
          "name": "stdout"
        },
        {
          "output_type": "display_data",
          "data": {
            "image/png": "[encoded data removed]",
            "text/plain": [
              "<Figure size 432x288 with 1 Axes>"
            ]
          },
          "metadata": {
            "tags": []
          }
        }
      ]
    },
    {
      "cell_type": "markdown",
      "metadata": {
        "colab_type": "text",
        "id": "DAx4QPHVpoC8"
      },
      "source": [
        "Okay, now let us see what the neural network thinks these examples above are:\n",
        "\n"
      ]
    },
    {
      "cell_type": "code",
      "metadata": {
        "colab_type": "code",
        "id": "HVLjlssWpoC9",
        "colab": {}
      },
      "source": [
        "outputs = net(images.cuda())"
      ],
      "execution_count": 0,
      "outputs": []
    },
    {
      "cell_type": "markdown",
      "metadata": {
        "colab_type": "text",
        "id": "u8OTHZEApoC_"
      },
      "source": [
        "The outputs are energies for the 10 classes.\n",
        "Higher the energy for a class, the more the network\n",
        "thinks that the image is of the particular class.\n",
        "So, let's get the index of the highest energy:\n",
        "\n"
      ]
    },
    {
      "cell_type": "code",
      "metadata": {
        "colab_type": "code",
        "id": "ABRIDW3lpoDA",
        "outputId": "dbe1fa8d-1229-43f9-f832-7d1a25fef4fe",
        "colab": {
          "base_uri": "https://localhost:8080/",
          "height": 35
        }
      },
      "source": [
        "_, predicted = torch.max(outputs, 1)\n",
        "\n",
        "print('Predicted: ', ' '.join('%5s' % classes[predicted[j]]\n",
        "                              for j in range(4)))"
      ],
      "execution_count": 0,
      "outputs": [
        {
          "output_type": "stream",
          "text": [
            "Predicted:   frog  frog   dog plane\n"
          ],
          "name": "stdout"
        }
      ]
    },
    {
      "cell_type": "markdown",
      "metadata": {
        "colab_type": "text",
        "id": "eDdwPBl8poDF"
      },
      "source": [
        "That looks waaay better than chance, which is 10% accuracy (randomly picking\n",
        "a class out of 10 classes).\n",
        "Seems like the network learnt something.\n",
        "\n",
        "Hmmm, what are the classes that performed well, and the classes that did\n",
        "not perform well:\n",
        "\n"
      ]
    },
    {
      "cell_type": "code",
      "metadata": {
        "colab_type": "code",
        "id": "pDNFuDEDpoDG",
        "outputId": "ecc3c778-53f3-4032-9ca2-e408c4f8a33e",
        "colab": {
          "base_uri": "https://localhost:8080/",
          "height": 215
        }
      },
      "source": [
        "from tqdm import tqdm\n",
        "\n",
        "class_correct = list(0. for i in range(10))\n",
        "class_total = list(0. for i in range(10))\n",
        "with torch.no_grad():\n",
        "  pbar = tqdm(loader.testloader)\n",
        "  for i, (data, target) in enumerate(pbar):\n",
        "    data, target = data.to(device), target.to(device)\n",
        "    outputs = net(data)\n",
        "    _, predicted = torch.max(outputs, 1)\n",
        "    c = (predicted == target).squeeze()\n",
        "    for i in range(4):\n",
        "        label = target[i]\n",
        "        class_correct[label] += c[i].item()\n",
        "        class_total[label] += 1\n",
        "\n",
        "\n",
        "for i in range(10):\n",
        "  print('Accuracy of %5s : %2d %%' % (classes[i], 100 * class_correct[i] / class_total[i]))"
      ],
      "execution_count": 0,
      "outputs": [
        {
          "output_type": "stream",
          "text": [
            "100%|██████████| 79/79 [00:02<00:00, 38.13it/s]"
          ],
          "name": "stderr"
        },
        {
          "output_type": "stream",
          "text": [
            "Accuracy of plane : 86 %\n",
            "Accuracy of   car : 86 %\n",
            "Accuracy of  bird : 70 %\n",
            "Accuracy of   cat : 80 %\n",
            "Accuracy of  deer : 85 %\n",
            "Accuracy of   dog : 79 %\n",
            "Accuracy of  frog : 88 %\n",
            "Accuracy of horse : 88 %\n",
            "Accuracy of  ship : 82 %\n",
            "Accuracy of truck : 100 %\n"
          ],
          "name": "stdout"
        },
        {
          "output_type": "stream",
          "text": [
            "\n"
          ],
          "name": "stderr"
        }
      ]
    },
    {
      "cell_type": "code",
      "metadata": {
        "id": "vYXxZVwtcQn2",
        "colab_type": "code",
        "colab": {}
      },
      "source": [
        ""
      ],
      "execution_count": 0,
      "outputs": []
    }
  ]
}