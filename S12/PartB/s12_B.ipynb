{
 "cells": [
  {
   "cell_type": "code",
   "execution_count": 1,
   "metadata": {},
   "outputs": [],
   "source": [
    "import pandas as pd\n",
    "import json\n",
    "\n",
    "from matplotlib import pyplot as plt\n",
    "from sklearn.cluster import KMeans"
   ]
  },
  {
   "cell_type": "code",
   "execution_count": 2,
   "metadata": {},
   "outputs": [
    {
     "name": "stdout",
     "output_type": "stream",
     "text": [
      "dict_keys(['info', 'images', 'annotations', 'licenses', 'categories'])\n"
     ]
    }
   ],
   "source": [
    "fptr = open('via_export_coco.json')\n",
    "data = json.load(fptr)\n",
    "print(data.keys())"
   ]
  },
  {
   "cell_type": "code",
   "execution_count": 3,
   "metadata": {},
   "outputs": [
    {
     "data": {
      "text/html": [
       "<div>\n",
       "<style scoped>\n",
       "    .dataframe tbody tr th:only-of-type {\n",
       "        vertical-align: middle;\n",
       "    }\n",
       "\n",
       "    .dataframe tbody tr th {\n",
       "        vertical-align: top;\n",
       "    }\n",
       "\n",
       "    .dataframe thead th {\n",
       "        text-align: right;\n",
       "    }\n",
       "</style>\n",
       "<table border=\"1\" class=\"dataframe\">\n",
       "  <thead>\n",
       "    <tr style=\"text-align: right;\">\n",
       "      <th></th>\n",
       "      <th>id</th>\n",
       "      <th>width</th>\n",
       "      <th>height</th>\n",
       "      <th>file_name</th>\n",
       "      <th>license</th>\n",
       "      <th>date_captured</th>\n",
       "    </tr>\n",
       "  </thead>\n",
       "  <tbody>\n",
       "    <tr>\n",
       "      <th>0</th>\n",
       "      <td>0</td>\n",
       "      <td>259</td>\n",
       "      <td>194</td>\n",
       "      <td>dog1.jpeg</td>\n",
       "      <td>1</td>\n",
       "      <td></td>\n",
       "    </tr>\n",
       "    <tr>\n",
       "      <th>1</th>\n",
       "      <td>1</td>\n",
       "      <td>259</td>\n",
       "      <td>194</td>\n",
       "      <td>dog2.jpeg</td>\n",
       "      <td>1</td>\n",
       "      <td></td>\n",
       "    </tr>\n",
       "    <tr>\n",
       "      <th>2</th>\n",
       "      <td>2</td>\n",
       "      <td>300</td>\n",
       "      <td>168</td>\n",
       "      <td>dog3.jpeg</td>\n",
       "      <td>1</td>\n",
       "      <td></td>\n",
       "    </tr>\n",
       "    <tr>\n",
       "      <th>3</th>\n",
       "      <td>3</td>\n",
       "      <td>194</td>\n",
       "      <td>259</td>\n",
       "      <td>dog4.jpeg</td>\n",
       "      <td>1</td>\n",
       "      <td></td>\n",
       "    </tr>\n",
       "    <tr>\n",
       "      <th>4</th>\n",
       "      <td>4</td>\n",
       "      <td>267</td>\n",
       "      <td>189</td>\n",
       "      <td>dog5.jpeg</td>\n",
       "      <td>1</td>\n",
       "      <td></td>\n",
       "    </tr>\n",
       "  </tbody>\n",
       "</table>\n",
       "</div>"
      ],
      "text/plain": [
       "   id  width  height  file_name  license date_captured\n",
       "0   0    259     194  dog1.jpeg        1              \n",
       "1   1    259     194  dog2.jpeg        1              \n",
       "2   2    300     168  dog3.jpeg        1              \n",
       "3   3    194     259  dog4.jpeg        1              \n",
       "4   4    267     189  dog5.jpeg        1              "
      ]
     },
     "execution_count": 3,
     "metadata": {},
     "output_type": "execute_result"
    }
   ],
   "source": [
    "images_df = pd.DataFrame(data['images'], columns = data['images'][0].keys())\n",
    "annotations_df = pd.DataFrame(data['annotations'], columns = data['annotations'][0].keys())\n",
    "images_df.head()"
   ]
  },
  {
   "cell_type": "code",
   "execution_count": 4,
   "metadata": {},
   "outputs": [
    {
     "data": {
      "text/html": [
       "<div>\n",
       "<style scoped>\n",
       "    .dataframe tbody tr th:only-of-type {\n",
       "        vertical-align: middle;\n",
       "    }\n",
       "\n",
       "    .dataframe tbody tr th {\n",
       "        vertical-align: top;\n",
       "    }\n",
       "\n",
       "    .dataframe thead th {\n",
       "        text-align: right;\n",
       "    }\n",
       "</style>\n",
       "<table border=\"1\" class=\"dataframe\">\n",
       "  <thead>\n",
       "    <tr style=\"text-align: right;\">\n",
       "      <th></th>\n",
       "      <th>id</th>\n",
       "      <th>image_id</th>\n",
       "      <th>category_id</th>\n",
       "      <th>segmentation</th>\n",
       "      <th>area</th>\n",
       "      <th>bbox</th>\n",
       "      <th>iscrowd</th>\n",
       "    </tr>\n",
       "  </thead>\n",
       "  <tbody>\n",
       "    <tr>\n",
       "      <th>0</th>\n",
       "      <td>0</td>\n",
       "      <td>0</td>\n",
       "      <td>1</td>\n",
       "      <td>[11, 23, 238, 23, 238, 161, 11, 161]</td>\n",
       "      <td>31326</td>\n",
       "      <td>[11, 23, 227, 138]</td>\n",
       "      <td>0</td>\n",
       "    </tr>\n",
       "    <tr>\n",
       "      <th>1</th>\n",
       "      <td>1</td>\n",
       "      <td>1</td>\n",
       "      <td>1</td>\n",
       "      <td>[79, 16, 199, 16, 199, 189, 79, 189]</td>\n",
       "      <td>20760</td>\n",
       "      <td>[79, 16, 120, 173]</td>\n",
       "      <td>0</td>\n",
       "    </tr>\n",
       "    <tr>\n",
       "      <th>2</th>\n",
       "      <td>2</td>\n",
       "      <td>2</td>\n",
       "      <td>1</td>\n",
       "      <td>[55, 16, 262, 16, 262, 161, 55, 161]</td>\n",
       "      <td>30015</td>\n",
       "      <td>[55, 16, 207, 145]</td>\n",
       "      <td>0</td>\n",
       "    </tr>\n",
       "    <tr>\n",
       "      <th>3</th>\n",
       "      <td>3</td>\n",
       "      <td>3</td>\n",
       "      <td>1</td>\n",
       "      <td>[29, 48, 191, 48, 191, 255, 29, 255]</td>\n",
       "      <td>33534</td>\n",
       "      <td>[29, 48, 162, 207]</td>\n",
       "      <td>0</td>\n",
       "    </tr>\n",
       "    <tr>\n",
       "      <th>4</th>\n",
       "      <td>4</td>\n",
       "      <td>4</td>\n",
       "      <td>1</td>\n",
       "      <td>[54, 41, 260, 41, 260, 169, 54, 169]</td>\n",
       "      <td>26368</td>\n",
       "      <td>[54, 41, 206, 128]</td>\n",
       "      <td>0</td>\n",
       "    </tr>\n",
       "  </tbody>\n",
       "</table>\n",
       "</div>"
      ],
      "text/plain": [
       "   id image_id  category_id                          segmentation   area  \\\n",
       "0   0        0            1  [11, 23, 238, 23, 238, 161, 11, 161]  31326   \n",
       "1   1        1            1  [79, 16, 199, 16, 199, 189, 79, 189]  20760   \n",
       "2   2        2            1  [55, 16, 262, 16, 262, 161, 55, 161]  30015   \n",
       "3   3        3            1  [29, 48, 191, 48, 191, 255, 29, 255]  33534   \n",
       "4   4        4            1  [54, 41, 260, 41, 260, 169, 54, 169]  26368   \n",
       "\n",
       "                 bbox  iscrowd  \n",
       "0  [11, 23, 227, 138]        0  \n",
       "1  [79, 16, 120, 173]        0  \n",
       "2  [55, 16, 207, 145]        0  \n",
       "3  [29, 48, 162, 207]        0  \n",
       "4  [54, 41, 206, 128]        0  "
      ]
     },
     "execution_count": 4,
     "metadata": {},
     "output_type": "execute_result"
    }
   ],
   "source": [
    "annotations_df.head()"
   ]
  },
  {
   "cell_type": "code",
   "execution_count": 5,
   "metadata": {},
   "outputs": [
    {
     "data": {
      "text/html": [
       "<div>\n",
       "<style scoped>\n",
       "    .dataframe tbody tr th:only-of-type {\n",
       "        vertical-align: middle;\n",
       "    }\n",
       "\n",
       "    .dataframe tbody tr th {\n",
       "        vertical-align: top;\n",
       "    }\n",
       "\n",
       "    .dataframe thead th {\n",
       "        text-align: right;\n",
       "    }\n",
       "</style>\n",
       "<table border=\"1\" class=\"dataframe\">\n",
       "  <thead>\n",
       "    <tr style=\"text-align: right;\">\n",
       "      <th></th>\n",
       "      <th>file_name</th>\n",
       "      <th>width</th>\n",
       "      <th>height</th>\n",
       "      <th>x</th>\n",
       "      <th>y</th>\n",
       "      <th>box_width</th>\n",
       "      <th>box_height</th>\n",
       "    </tr>\n",
       "  </thead>\n",
       "  <tbody>\n",
       "    <tr>\n",
       "      <th>0</th>\n",
       "      <td>dog1.jpeg</td>\n",
       "      <td>259</td>\n",
       "      <td>194</td>\n",
       "      <td>11</td>\n",
       "      <td>23</td>\n",
       "      <td>227</td>\n",
       "      <td>138</td>\n",
       "    </tr>\n",
       "    <tr>\n",
       "      <th>1</th>\n",
       "      <td>dog2.jpeg</td>\n",
       "      <td>259</td>\n",
       "      <td>194</td>\n",
       "      <td>79</td>\n",
       "      <td>16</td>\n",
       "      <td>120</td>\n",
       "      <td>173</td>\n",
       "    </tr>\n",
       "    <tr>\n",
       "      <th>2</th>\n",
       "      <td>dog3.jpeg</td>\n",
       "      <td>300</td>\n",
       "      <td>168</td>\n",
       "      <td>55</td>\n",
       "      <td>16</td>\n",
       "      <td>207</td>\n",
       "      <td>145</td>\n",
       "    </tr>\n",
       "    <tr>\n",
       "      <th>3</th>\n",
       "      <td>dog4.jpeg</td>\n",
       "      <td>194</td>\n",
       "      <td>259</td>\n",
       "      <td>29</td>\n",
       "      <td>48</td>\n",
       "      <td>162</td>\n",
       "      <td>207</td>\n",
       "    </tr>\n",
       "    <tr>\n",
       "      <th>4</th>\n",
       "      <td>dog5.jpeg</td>\n",
       "      <td>267</td>\n",
       "      <td>189</td>\n",
       "      <td>54</td>\n",
       "      <td>41</td>\n",
       "      <td>206</td>\n",
       "      <td>128</td>\n",
       "    </tr>\n",
       "  </tbody>\n",
       "</table>\n",
       "</div>"
      ],
      "text/plain": [
       "   file_name  width  height   x   y  box_width  box_height\n",
       "0  dog1.jpeg    259     194  11  23        227         138\n",
       "1  dog2.jpeg    259     194  79  16        120         173\n",
       "2  dog3.jpeg    300     168  55  16        207         145\n",
       "3  dog4.jpeg    194     259  29  48        162         207\n",
       "4  dog5.jpeg    267     189  54  41        206         128"
      ]
     },
     "execution_count": 5,
     "metadata": {},
     "output_type": "execute_result"
    }
   ],
   "source": [
    "imp_df = pd.concat([images_df, annotations_df], 1)[['file_name', 'width', 'height', 'bbox']]\n",
    "x_ = []\n",
    "y_ = []\n",
    "w_ = []\n",
    "h_ = [] \n",
    "for row in range(imp_df.shape[0]):\n",
    "  x_.append(imp_df['bbox'][row][0])\n",
    "  y_.append(imp_df['bbox'][row][1])\n",
    "  w_.append(imp_df['bbox'][row][2])\n",
    "  h_.append(imp_df['bbox'][row][3])\n",
    "box_df = pd.DataFrame(list(zip(x_, y_, w_, h_)), columns =['x', 'y', 'box_width', 'box_height'])\n",
    "imp_df = pd.concat([imp_df, box_df], 1)\n",
    "imp_df = imp_df.drop('bbox', axis =1)\n",
    "imp_df.head()"
   ]
  },
  {
   "cell_type": "code",
   "execution_count": 6,
   "metadata": {},
   "outputs": [
    {
     "data": {
      "text/html": [
       "<div>\n",
       "<style scoped>\n",
       "    .dataframe tbody tr th:only-of-type {\n",
       "        vertical-align: middle;\n",
       "    }\n",
       "\n",
       "    .dataframe tbody tr th {\n",
       "        vertical-align: top;\n",
       "    }\n",
       "\n",
       "    .dataframe thead th {\n",
       "        text-align: right;\n",
       "    }\n",
       "</style>\n",
       "<table border=\"1\" class=\"dataframe\">\n",
       "  <thead>\n",
       "    <tr style=\"text-align: right;\">\n",
       "      <th></th>\n",
       "      <th>file_name</th>\n",
       "      <th>width</th>\n",
       "      <th>height</th>\n",
       "      <th>x</th>\n",
       "      <th>y</th>\n",
       "      <th>box_width</th>\n",
       "      <th>box_height</th>\n",
       "    </tr>\n",
       "  </thead>\n",
       "  <tbody>\n",
       "    <tr>\n",
       "      <th>0</th>\n",
       "      <td>dog1.jpeg</td>\n",
       "      <td>259</td>\n",
       "      <td>194</td>\n",
       "      <td>0.042471</td>\n",
       "      <td>0.118557</td>\n",
       "      <td>0.876448</td>\n",
       "      <td>0.711340</td>\n",
       "    </tr>\n",
       "    <tr>\n",
       "      <th>1</th>\n",
       "      <td>dog2.jpeg</td>\n",
       "      <td>259</td>\n",
       "      <td>194</td>\n",
       "      <td>0.305019</td>\n",
       "      <td>0.082474</td>\n",
       "      <td>0.463320</td>\n",
       "      <td>0.891753</td>\n",
       "    </tr>\n",
       "    <tr>\n",
       "      <th>2</th>\n",
       "      <td>dog3.jpeg</td>\n",
       "      <td>300</td>\n",
       "      <td>168</td>\n",
       "      <td>0.183333</td>\n",
       "      <td>0.095238</td>\n",
       "      <td>0.690000</td>\n",
       "      <td>0.863095</td>\n",
       "    </tr>\n",
       "    <tr>\n",
       "      <th>3</th>\n",
       "      <td>dog4.jpeg</td>\n",
       "      <td>194</td>\n",
       "      <td>259</td>\n",
       "      <td>0.149485</td>\n",
       "      <td>0.185328</td>\n",
       "      <td>0.835052</td>\n",
       "      <td>0.799228</td>\n",
       "    </tr>\n",
       "    <tr>\n",
       "      <th>4</th>\n",
       "      <td>dog5.jpeg</td>\n",
       "      <td>267</td>\n",
       "      <td>189</td>\n",
       "      <td>0.202247</td>\n",
       "      <td>0.216931</td>\n",
       "      <td>0.771536</td>\n",
       "      <td>0.677249</td>\n",
       "    </tr>\n",
       "  </tbody>\n",
       "</table>\n",
       "</div>"
      ],
      "text/plain": [
       "   file_name  width  height         x         y  box_width  box_height\n",
       "0  dog1.jpeg    259     194  0.042471  0.118557   0.876448    0.711340\n",
       "1  dog2.jpeg    259     194  0.305019  0.082474   0.463320    0.891753\n",
       "2  dog3.jpeg    300     168  0.183333  0.095238   0.690000    0.863095\n",
       "3  dog4.jpeg    194     259  0.149485  0.185328   0.835052    0.799228\n",
       "4  dog5.jpeg    267     189  0.202247  0.216931   0.771536    0.677249"
      ]
     },
     "execution_count": 6,
     "metadata": {},
     "output_type": "execute_result"
    }
   ],
   "source": [
    "imp_df['x'] = imp_df['x'] / imp_df['width']\n",
    "imp_df['y'] = imp_df['y'] / imp_df['height']\n",
    "imp_df['box_width'] = imp_df['box_width'] / imp_df['width']\n",
    "imp_df['box_height'] = imp_df['box_height'] / imp_df['height']\n",
    "imp_df.head()"
   ]
  },
  {
   "cell_type": "code",
   "execution_count": 7,
   "metadata": {},
   "outputs": [
    {
     "data": {
      "text/plain": [
       "<matplotlib.collections.PathCollection at 0x1ccd8458448>"
      ]
     },
     "execution_count": 7,
     "metadata": {},
     "output_type": "execute_result"
    },
    {
     "data": {
      "image/png": "[encoded data removed]",
      "text/plain": [
       "<Figure size 432x288 with 1 Axes>"
      ]
     },
     "metadata": {
      "needs_background": "light"
     },
     "output_type": "display_data"
    }
   ],
   "source": [
    "imp_stripped = imp_df[[\"box_width\", \"box_height\"]].to_numpy()\n",
    "plt.scatter(imp_stripped[:,0], imp_stripped[:,1])"
   ]
  },
  {
   "cell_type": "code",
   "execution_count": 8,
   "metadata": {},
   "outputs": [
    {
     "data": {
      "image/png": "[encoded data removed]",
      "text/plain": [
       "<Figure size 432x288 with 1 Axes>"
      ]
     },
     "metadata": {
      "needs_background": "light"
     },
     "output_type": "display_data"
    }
   ],
   "source": [
    "wcss = []\n",
    "for i in range(1, 11):\n",
    "    kmeans = KMeans(n_clusters=i, init='k-means++', max_iter=300, n_init=10, random_state=0)\n",
    "    kmeans.fit(imp_stripped)\n",
    "    wcss.append(kmeans.inertia_)\n",
    "plt.plot(range(1, 11), wcss)\n",
    "plt.title('Elbow Method')\n",
    "plt.xlabel('Number of clusters')\n",
    "plt.ylabel('WCSS')\n",
    "plt.show()"
   ]
  },
  {
   "cell_type": "code",
   "execution_count": 9,
   "metadata": {},
   "outputs": [
    {
     "data": {
      "image/png": "[encoded data removed]",
      "text/plain": [
       "<Figure size 432x288 with 1 Axes>"
      ]
     },
     "metadata": {
      "needs_background": "light"
     },
     "output_type": "display_data"
    }
   ],
   "source": [
    "kmeans = KMeans(n_clusters=4, init='k-means++', max_iter=300, n_init=10, random_state=0)\n",
    "pred_y = kmeans.fit_predict(imp_stripped)\n",
    "plt.scatter(imp_stripped[:,0], imp_stripped[:,1])\n",
    "plt.scatter(kmeans.cluster_centers_[:, 0], kmeans.cluster_centers_[:, 1], s=300, c='red')\n",
    "plt.show()"
   ]
  },
  {
   "cell_type": "code",
   "execution_count": null,
   "metadata": {},
   "outputs": [],
   "source": []
  }
 ],
 "metadata": {
  "kernelspec": {
   "display_name": "Python 3",
   "language": "python",
   "name": "python3"
  },
  "language_info": {
   "codemirror_mode": {
    "name": "ipython",
    "version": 3
   },
   "file_extension": ".py",
   "mimetype": "text/x-python",
   "name": "python",
   "nbconvert_exporter": "python",
   "pygments_lexer": "ipython3",
   "version": "3.7.6"
  }
 },
 "nbformat": 4,
 "nbformat_minor": 4
}
