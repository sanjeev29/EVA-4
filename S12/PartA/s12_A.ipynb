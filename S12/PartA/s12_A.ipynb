{
  "nbformat": 4,
  "nbformat_minor": 0,
  "metadata": {
    "accelerator": "GPU",
    "colab": {
      "name": "s12_A.ipynb",
      "provenance": [],
      "collapsed_sections": [],
      "include_colab_link": true
    },
    "kernelspec": {
      "display_name": "Python 3",
      "language": "python",
      "name": "python3"
    },
    "language_info": {
      "codemirror_mode": {
        "name": "ipython",
        "version": 3
      },
      "file_extension": ".py",
      "mimetype": "text/x-python",
      "name": "python",
      "nbconvert_exporter": "python",
      "pygments_lexer": "ipython3",
      "version": "3.7.6"
    }
  },
  "cells": [
    {
      "cell_type": "markdown",
      "metadata": {
        "id": "view-in-github",
        "colab_type": "text"
      },
      "source": [
        "<a href=\"https://colab.research.google.com/github/sanjeev29/EVA-4/blob/master/S12/PartA/s12_A.ipynb\" target=\"_parent\"><img src=\"https://colab.research.google.com/assets/colab-badge.svg\" alt=\"Open In Colab\"/></a>"
      ]
    },
    {
      "cell_type": "code",
      "metadata": {
        "colab_type": "code",
        "id": "HVBUfDYf8gD3",
        "outputId": "9c0a6dc2-67fe-44b4-c567-3ef1a78f8bb3",
        "colab": {
          "base_uri": "https://localhost:8080/",
          "height": 51
        }
      },
      "source": [
        "from google.colab import drive\n",
        "\n",
        "drive.mount('/content/gdrive')\n",
        "%cd /content/gdrive/My\\ Drive/Colab\\ Notebooks/"
      ],
      "execution_count": 12,
      "outputs": [
        {
          "output_type": "stream",
          "text": [
            "Drive already mounted at /content/gdrive; to attempt to forcibly remount, call drive.mount(\"/content/gdrive\", force_remount=True).\n",
            "/content/gdrive/My Drive/Colab Notebooks\n"
          ],
          "name": "stdout"
        }
      ]
    },
    {
      "cell_type": "code",
      "metadata": {
        "colab_type": "code",
        "id": "AltG-xk88aVY",
        "colab": {}
      },
      "source": [
        "%matplotlib inline\n",
        "import torch\n",
        "import torchvision\n",
        "import matplotlib.pyplot as plt\n",
        "import numpy as np"
      ],
      "execution_count": 0,
      "outputs": []
    },
    {
      "cell_type": "code",
      "metadata": {
        "colab_type": "code",
        "id": "iYDpXyDO8aVf",
        "outputId": "126bf7cb-5a16-44ed-e3f0-37be1be0e9f8",
        "colab": {
          "base_uri": "https://localhost:8080/",
          "height": 51
        }
      },
      "source": [
        "from models.utils.tiny_imagenet_loader import check_cuda, get_id_dictionary, get_train_test_data, get_data_loader\n",
        "\n",
        "check_cuda()\n",
        "\n",
        "test_split = 0.3\n",
        "train_data, train_labels, test_data, test_labels = get_train_test_data(get_id_dictionary(), test_split)\n",
        "\n",
        "trainloader, testloader = get_data_loader(train_data, train_labels, test_data, test_labels)"
      ],
      "execution_count": 14,
      "outputs": [
        {
          "output_type": "stream",
          "text": [
            "CUDA Available? True\n",
            "Finished loading data in 0.10375618934631348 seconds.\n"
          ],
          "name": "stdout"
        }
      ]
    },
    {
      "cell_type": "code",
      "metadata": {
        "colab_type": "code",
        "id": "F_qDc3zu8aVi",
        "colab": {}
      },
      "source": [
        "from models.resnet import ResNet18"
      ],
      "execution_count": 0,
      "outputs": []
    },
    {
      "cell_type": "code",
      "metadata": {
        "colab_type": "code",
        "id": "4FEnO01G8aVk",
        "outputId": "68b7f1f2-fbfa-48bf-abe3-5793565f0da9",
        "colab": {
          "base_uri": "https://localhost:8080/",
          "height": 1000
        }
      },
      "source": [
        "from torchsummary import summary\n",
        "use_cuda = torch.cuda.is_available()\n",
        "device = torch.device(\"cuda\" if use_cuda else \"cpu\")\n",
        "print(f\"Device: {device}\")\n",
        "net = ResNet18().to(device)\n",
        "summary(net, input_size=(3, 64, 64))"
      ],
      "execution_count": 16,
      "outputs": [
        {
          "output_type": "stream",
          "text": [
            "Device: cuda\n",
            "----------------------------------------------------------------\n",
            "        Layer (type)               Output Shape         Param #\n",
            "================================================================\n",
            "            Conv2d-1           [-1, 64, 64, 64]           1,728\n",
            "       BatchNorm2d-2           [-1, 64, 64, 64]             128\n",
            "            Conv2d-3           [-1, 64, 64, 64]          36,864\n",
            "       BatchNorm2d-4           [-1, 64, 64, 64]             128\n",
            "            Conv2d-5           [-1, 64, 64, 64]          36,864\n",
            "       BatchNorm2d-6           [-1, 64, 64, 64]             128\n",
            "        BasicBlock-7           [-1, 64, 64, 64]               0\n",
            "            Conv2d-8           [-1, 64, 64, 64]          36,864\n",
            "       BatchNorm2d-9           [-1, 64, 64, 64]             128\n",
            "           Conv2d-10           [-1, 64, 64, 64]          36,864\n",
            "      BatchNorm2d-11           [-1, 64, 64, 64]             128\n",
            "       BasicBlock-12           [-1, 64, 64, 64]               0\n",
            "           Conv2d-13          [-1, 128, 32, 32]          73,728\n",
            "      BatchNorm2d-14          [-1, 128, 32, 32]             256\n",
            "           Conv2d-15          [-1, 128, 32, 32]         147,456\n",
            "      BatchNorm2d-16          [-1, 128, 32, 32]             256\n",
            "           Conv2d-17          [-1, 128, 32, 32]           8,192\n",
            "      BatchNorm2d-18          [-1, 128, 32, 32]             256\n",
            "       BasicBlock-19          [-1, 128, 32, 32]               0\n",
            "           Conv2d-20          [-1, 128, 32, 32]         147,456\n",
            "      BatchNorm2d-21          [-1, 128, 32, 32]             256\n",
            "           Conv2d-22          [-1, 128, 32, 32]         147,456\n",
            "      BatchNorm2d-23          [-1, 128, 32, 32]             256\n",
            "       BasicBlock-24          [-1, 128, 32, 32]               0\n",
            "           Conv2d-25          [-1, 256, 16, 16]         294,912\n",
            "      BatchNorm2d-26          [-1, 256, 16, 16]             512\n",
            "           Conv2d-27          [-1, 256, 16, 16]         589,824\n",
            "      BatchNorm2d-28          [-1, 256, 16, 16]             512\n",
            "           Conv2d-29          [-1, 256, 16, 16]          32,768\n",
            "      BatchNorm2d-30          [-1, 256, 16, 16]             512\n",
            "       BasicBlock-31          [-1, 256, 16, 16]               0\n",
            "           Conv2d-32          [-1, 256, 16, 16]         589,824\n",
            "      BatchNorm2d-33          [-1, 256, 16, 16]             512\n",
            "           Conv2d-34          [-1, 256, 16, 16]         589,824\n",
            "      BatchNorm2d-35          [-1, 256, 16, 16]             512\n",
            "       BasicBlock-36          [-1, 256, 16, 16]               0\n",
            "           Conv2d-37            [-1, 512, 8, 8]       1,179,648\n",
            "      BatchNorm2d-38            [-1, 512, 8, 8]           1,024\n",
            "           Conv2d-39            [-1, 512, 8, 8]       2,359,296\n",
            "      BatchNorm2d-40            [-1, 512, 8, 8]           1,024\n",
            "           Conv2d-41            [-1, 512, 8, 8]         131,072\n",
            "      BatchNorm2d-42            [-1, 512, 8, 8]           1,024\n",
            "       BasicBlock-43            [-1, 512, 8, 8]               0\n",
            "           Conv2d-44            [-1, 512, 8, 8]       2,359,296\n",
            "      BatchNorm2d-45            [-1, 512, 8, 8]           1,024\n",
            "           Conv2d-46            [-1, 512, 8, 8]       2,359,296\n",
            "      BatchNorm2d-47            [-1, 512, 8, 8]           1,024\n",
            "       BasicBlock-48            [-1, 512, 8, 8]               0\n",
            "           Linear-49                  [-1, 200]         102,600\n",
            "================================================================\n",
            "Total params: 11,271,432\n",
            "Trainable params: 11,271,432\n",
            "Non-trainable params: 0\n",
            "----------------------------------------------------------------\n",
            "Input size (MB): 0.05\n",
            "Forward/backward pass size (MB): 45.00\n",
            "Params size (MB): 43.00\n",
            "Estimated Total Size (MB): 88.05\n",
            "----------------------------------------------------------------\n"
          ],
          "name": "stdout"
        }
      ]
    },
    {
      "cell_type": "code",
      "metadata": {
        "colab_type": "code",
        "id": "uky0RSpj8aVn",
        "colab": {}
      },
      "source": [
        "import torch.nn as nn\n",
        "import torch.optim as optim\n",
        "\n",
        "from torch.optim.lr_scheduler import StepLR\n",
        "\n",
        "criterion = nn.CrossEntropyLoss()\n",
        "optimizer = optim.SGD(net.parameters(), lr=0.01, momentum=0.9, weight_decay=0.0001)\n",
        "scheduler = StepLR(optimizer, step_size=6, gamma=0.5)"
      ],
      "execution_count": 0,
      "outputs": []
    },
    {
      "cell_type": "code",
      "metadata": {
        "colab_type": "code",
        "id": "hnwUX9A38aVq",
        "colab": {}
      },
      "source": [
        "from models.utils import train\n",
        "from models.utils import test"
      ],
      "execution_count": 0,
      "outputs": []
    },
    {
      "cell_type": "code",
      "metadata": {
        "colab_type": "code",
        "id": "x1UanF-78aVt",
        "outputId": "2fdfcb12-2096-449d-a54d-bc1c91eebbf5",
        "colab": {
          "base_uri": "https://localhost:8080/",
          "height": 1000
        }
      },
      "source": [
        "epochs = 50\n",
        "last_epoch = False\n",
        "\n",
        "train_losses = []\n",
        "train_acc = []\n",
        "test_acc = []\n",
        "test_losses = []\n",
        "\n",
        "for epoch in range(epochs):\n",
        "  train.train(net, device, trainloader, optimizer, criterion, epoch, train_acc, train_losses)\n",
        "  if epoch == epochs - 1:\n",
        "    last_epoch = True\n",
        "  test.test(net, device, testloader, criterion, last_epoch, test_acc, test_losses)\n",
        "  scheduler.step()"
      ],
      "execution_count": 9,
      "outputs": [
        {
          "output_type": "stream",
          "text": [
            "Epoch= 0 Loss=3.822248697280884 Batch_id=1203 Accuracy=7.25: 100%|██████████| 1204/1204 [11:17<00:00,  1.78it/s]\n",
            "  0%|          | 0/1204 [00:00<?, ?it/s]"
          ],
          "name": "stderr"
        },
        {
          "output_type": "stream",
          "text": [
            "\n",
            "Validation set: Average loss: 0.0623, Accuracy: 4266/33000 (12.93%)\n",
            "\n"
          ],
          "name": "stdout"
        },
        {
          "output_type": "stream",
          "text": [
            "Epoch= 1 Loss=3.599381446838379 Batch_id=1203 Accuracy=16.90: 100%|██████████| 1204/1204 [11:16<00:00,  1.78it/s]\n",
            "  0%|          | 0/1204 [00:00<?, ?it/s]"
          ],
          "name": "stderr"
        },
        {
          "output_type": "stream",
          "text": [
            "\n",
            "Validation set: Average loss: 0.0559, Accuracy: 6407/33000 (19.42%)\n",
            "\n"
          ],
          "name": "stdout"
        },
        {
          "output_type": "stream",
          "text": [
            "Epoch= 2 Loss=3.0005648136138916 Batch_id=1203 Accuracy=23.40: 100%|██████████| 1204/1204 [11:18<00:00,  1.77it/s]\n",
            "  0%|          | 0/1204 [00:00<?, ?it/s]"
          ],
          "name": "stderr"
        },
        {
          "output_type": "stream",
          "text": [
            "\n",
            "Validation set: Average loss: 0.0527, Accuracy: 7892/33000 (23.92%)\n",
            "\n"
          ],
          "name": "stdout"
        },
        {
          "output_type": "stream",
          "text": [
            "Epoch= 3 Loss=3.9535200595855713 Batch_id=1203 Accuracy=28.87: 100%|██████████| 1204/1204 [11:19<00:00,  1.77it/s]\n",
            "  0%|          | 0/1204 [00:00<?, ?it/s]"
          ],
          "name": "stderr"
        },
        {
          "output_type": "stream",
          "text": [
            "\n",
            "Validation set: Average loss: 0.0464, Accuracy: 10220/33000 (30.97%)\n",
            "\n"
          ],
          "name": "stdout"
        },
        {
          "output_type": "stream",
          "text": [
            "Epoch= 4 Loss=1.7930607795715332 Batch_id=1203 Accuracy=33.21: 100%|██████████| 1204/1204 [11:13<00:00,  1.79it/s]\n",
            "  0%|          | 0/1204 [00:00<?, ?it/s]"
          ],
          "name": "stderr"
        },
        {
          "output_type": "stream",
          "text": [
            "\n",
            "Validation set: Average loss: 0.0441, Accuracy: 11082/33000 (33.58%)\n",
            "\n"
          ],
          "name": "stdout"
        },
        {
          "output_type": "stream",
          "text": [
            "Epoch= 5 Loss=2.7868969440460205 Batch_id=1203 Accuracy=36.99: 100%|██████████| 1204/1204 [11:10<00:00,  1.79it/s]\n",
            "  0%|          | 0/1204 [00:00<?, ?it/s]"
          ],
          "name": "stderr"
        },
        {
          "output_type": "stream",
          "text": [
            "\n",
            "Validation set: Average loss: 0.0431, Accuracy: 11655/33000 (35.32%)\n",
            "\n"
          ],
          "name": "stdout"
        },
        {
          "output_type": "stream",
          "text": [
            "Epoch= 6 Loss=3.4959964752197266 Batch_id=1203 Accuracy=43.50: 100%|██████████| 1204/1204 [11:14<00:00,  1.79it/s]\n",
            "  0%|          | 0/1204 [00:00<?, ?it/s]"
          ],
          "name": "stderr"
        },
        {
          "output_type": "stream",
          "text": [
            "\n",
            "Validation set: Average loss: 0.0372, Accuracy: 14085/33000 (42.68%)\n",
            "\n"
          ],
          "name": "stdout"
        },
        {
          "output_type": "stream",
          "text": [
            "Epoch= 7 Loss=2.88293719291687 Batch_id=1203 Accuracy=45.71: 100%|██████████| 1204/1204 [11:08<00:00,  1.80it/s]\n",
            "  0%|          | 0/1204 [00:00<?, ?it/s]"
          ],
          "name": "stderr"
        },
        {
          "output_type": "stream",
          "text": [
            "\n",
            "Validation set: Average loss: 0.0361, Accuracy: 14528/33000 (44.02%)\n",
            "\n"
          ],
          "name": "stdout"
        },
        {
          "output_type": "stream",
          "text": [
            "Epoch= 8 Loss=2.585599422454834 Batch_id=1203 Accuracy=47.40: 100%|██████████| 1204/1204 [11:07<00:00,  1.80it/s]\n",
            "  0%|          | 0/1204 [00:00<?, ?it/s]"
          ],
          "name": "stderr"
        },
        {
          "output_type": "stream",
          "text": [
            "\n",
            "Validation set: Average loss: 0.0359, Accuracy: 14676/33000 (44.47%)\n",
            "\n"
          ],
          "name": "stdout"
        },
        {
          "output_type": "stream",
          "text": [
            "Epoch= 9 Loss=2.904338836669922 Batch_id=1203 Accuracy=48.84: 100%|██████████| 1204/1204 [11:10<00:00,  1.80it/s]\n",
            "  0%|          | 0/1204 [00:00<?, ?it/s]"
          ],
          "name": "stderr"
        },
        {
          "output_type": "stream",
          "text": [
            "\n",
            "Validation set: Average loss: 0.0344, Accuracy: 15291/33000 (46.34%)\n",
            "\n"
          ],
          "name": "stdout"
        },
        {
          "output_type": "stream",
          "text": [
            "Epoch= 10 Loss=1.7445697784423828 Batch_id=1203 Accuracy=50.41: 100%|██████████| 1204/1204 [11:13<00:00,  1.79it/s]\n",
            "  0%|          | 0/1204 [00:00<?, ?it/s]"
          ],
          "name": "stderr"
        },
        {
          "output_type": "stream",
          "text": [
            "\n",
            "Validation set: Average loss: 0.0340, Accuracy: 15510/33000 (47.00%)\n",
            "\n"
          ],
          "name": "stdout"
        },
        {
          "output_type": "stream",
          "text": [
            "Epoch= 11 Loss=4.5259318351745605 Batch_id=1203 Accuracy=52.13: 100%|██████████| 1204/1204 [11:10<00:00,  1.80it/s]\n",
            "  0%|          | 0/1204 [00:00<?, ?it/s]"
          ],
          "name": "stderr"
        },
        {
          "output_type": "stream",
          "text": [
            "\n",
            "Validation set: Average loss: 0.0343, Accuracy: 15585/33000 (47.23%)\n",
            "\n"
          ],
          "name": "stdout"
        },
        {
          "output_type": "stream",
          "text": [
            "Epoch= 12 Loss=1.7458250522613525 Batch_id=1203 Accuracy=57.21: 100%|██████████| 1204/1204 [11:10<00:00,  1.79it/s]\n",
            "  0%|          | 0/1204 [00:00<?, ?it/s]"
          ],
          "name": "stderr"
        },
        {
          "output_type": "stream",
          "text": [
            "\n",
            "Validation set: Average loss: 0.0312, Accuracy: 16923/33000 (51.28%)\n",
            "\n"
          ],
          "name": "stdout"
        },
        {
          "output_type": "stream",
          "text": [
            "Epoch= 13 Loss=1.9337791204452515 Batch_id=1203 Accuracy=58.70: 100%|██████████| 1204/1204 [11:08<00:00,  1.80it/s]\n",
            "  0%|          | 0/1204 [00:00<?, ?it/s]"
          ],
          "name": "stderr"
        },
        {
          "output_type": "stream",
          "text": [
            "\n",
            "Validation set: Average loss: 0.0311, Accuracy: 17021/33000 (51.58%)\n",
            "\n"
          ],
          "name": "stdout"
        },
        {
          "output_type": "stream",
          "text": [
            "Epoch= 14 Loss=2.0558040142059326 Batch_id=1203 Accuracy=59.63: 100%|██████████| 1204/1204 [11:06<00:00,  1.81it/s]\n",
            "  0%|          | 0/1204 [00:00<?, ?it/s]"
          ],
          "name": "stderr"
        },
        {
          "output_type": "stream",
          "text": [
            "\n",
            "Validation set: Average loss: 0.0306, Accuracy: 17261/33000 (52.31%)\n",
            "\n"
          ],
          "name": "stdout"
        },
        {
          "output_type": "stream",
          "text": [
            "Epoch= 15 Loss=2.517815589904785 Batch_id=1203 Accuracy=60.37: 100%|██████████| 1204/1204 [11:06<00:00,  1.81it/s]\n",
            "  0%|          | 0/1204 [00:00<?, ?it/s]"
          ],
          "name": "stderr"
        },
        {
          "output_type": "stream",
          "text": [
            "\n",
            "Validation set: Average loss: 0.0308, Accuracy: 17303/33000 (52.43%)\n",
            "\n"
          ],
          "name": "stdout"
        },
        {
          "output_type": "stream",
          "text": [
            "Epoch= 16 Loss=2.673092842102051 Batch_id=1203 Accuracy=61.84: 100%|██████████| 1204/1204 [11:03<00:00,  1.82it/s]\n",
            "  0%|          | 0/1204 [00:00<?, ?it/s]"
          ],
          "name": "stderr"
        },
        {
          "output_type": "stream",
          "text": [
            "\n",
            "Validation set: Average loss: 0.0310, Accuracy: 17220/33000 (52.18%)\n",
            "\n"
          ],
          "name": "stdout"
        },
        {
          "output_type": "stream",
          "text": [
            "Epoch= 17 Loss=1.7810940742492676 Batch_id=1203 Accuracy=62.44: 100%|██████████| 1204/1204 [11:08<00:00,  1.80it/s]\n",
            "  0%|          | 0/1204 [00:00<?, ?it/s]"
          ],
          "name": "stderr"
        },
        {
          "output_type": "stream",
          "text": [
            "\n",
            "Validation set: Average loss: 0.0310, Accuracy: 17273/33000 (52.34%)\n",
            "\n"
          ],
          "name": "stdout"
        },
        {
          "output_type": "stream",
          "text": [
            "Epoch= 18 Loss=1.8662004470825195 Batch_id=1203 Accuracy=66.95: 100%|██████████| 1204/1204 [11:07<00:00,  1.80it/s]\n",
            "  0%|          | 0/1204 [00:00<?, ?it/s]"
          ],
          "name": "stderr"
        },
        {
          "output_type": "stream",
          "text": [
            "\n",
            "Validation set: Average loss: 0.0289, Accuracy: 18203/33000 (55.16%)\n",
            "\n"
          ],
          "name": "stdout"
        },
        {
          "output_type": "stream",
          "text": [
            "Epoch= 19 Loss=1.8845713138580322 Batch_id=1203 Accuracy=68.09: 100%|██████████| 1204/1204 [11:12<00:00,  1.79it/s]\n",
            "  0%|          | 0/1204 [00:00<?, ?it/s]"
          ],
          "name": "stderr"
        },
        {
          "output_type": "stream",
          "text": [
            "\n",
            "Validation set: Average loss: 0.0292, Accuracy: 18134/33000 (54.95%)\n",
            "\n"
          ],
          "name": "stdout"
        },
        {
          "output_type": "stream",
          "text": [
            "Epoch= 20 Loss=1.2605667114257812 Batch_id=1203 Accuracy=68.81: 100%|██████████| 1204/1204 [11:11<00:00,  1.79it/s]\n",
            "  0%|          | 0/1204 [00:00<?, ?it/s]"
          ],
          "name": "stderr"
        },
        {
          "output_type": "stream",
          "text": [
            "\n",
            "Validation set: Average loss: 0.0291, Accuracy: 18100/33000 (54.85%)\n",
            "\n"
          ],
          "name": "stdout"
        },
        {
          "output_type": "stream",
          "text": [
            "Epoch= 21 Loss=1.924821376800537 Batch_id=1203 Accuracy=69.67: 100%|██████████| 1204/1204 [11:15<00:00,  1.78it/s]\n",
            "  0%|          | 0/1204 [00:00<?, ?it/s]"
          ],
          "name": "stderr"
        },
        {
          "output_type": "stream",
          "text": [
            "\n",
            "Validation set: Average loss: 0.0291, Accuracy: 18196/33000 (55.14%)\n",
            "\n"
          ],
          "name": "stdout"
        },
        {
          "output_type": "stream",
          "text": [
            "Epoch= 22 Loss=2.5904541015625 Batch_id=1203 Accuracy=70.35: 100%|██████████| 1204/1204 [11:14<00:00,  1.79it/s]\n",
            "  0%|          | 0/1204 [00:00<?, ?it/s]"
          ],
          "name": "stderr"
        },
        {
          "output_type": "stream",
          "text": [
            "\n",
            "Validation set: Average loss: 0.0292, Accuracy: 18316/33000 (55.50%)\n",
            "\n"
          ],
          "name": "stdout"
        },
        {
          "output_type": "stream",
          "text": [
            "Epoch= 23 Loss=1.1647833585739136 Batch_id=1203 Accuracy=70.95: 100%|██████████| 1204/1204 [11:16<00:00,  1.78it/s]\n",
            "  0%|          | 0/1204 [00:00<?, ?it/s]"
          ],
          "name": "stderr"
        },
        {
          "output_type": "stream",
          "text": [
            "\n",
            "Validation set: Average loss: 0.0295, Accuracy: 18153/33000 (55.01%)\n",
            "\n"
          ],
          "name": "stdout"
        },
        {
          "output_type": "stream",
          "text": [
            "Epoch= 24 Loss=1.1166940927505493 Batch_id=1203 Accuracy=74.18: 100%|██████████| 1204/1204 [11:18<00:00,  1.78it/s]\n",
            "  0%|          | 0/1204 [00:00<?, ?it/s]"
          ],
          "name": "stderr"
        },
        {
          "output_type": "stream",
          "text": [
            "\n",
            "Validation set: Average loss: 0.0283, Accuracy: 18588/33000 (56.33%)\n",
            "\n"
          ],
          "name": "stdout"
        },
        {
          "output_type": "stream",
          "text": [
            "Epoch= 25 Loss=1.276197910308838 Batch_id=1203 Accuracy=75.02: 100%|██████████| 1204/1204 [11:17<00:00,  1.78it/s]\n",
            "  0%|          | 0/1204 [00:00<?, ?it/s]"
          ],
          "name": "stderr"
        },
        {
          "output_type": "stream",
          "text": [
            "\n",
            "Validation set: Average loss: 0.0284, Accuracy: 18629/33000 (56.45%)\n",
            "\n"
          ],
          "name": "stdout"
        },
        {
          "output_type": "stream",
          "text": [
            "Epoch= 26 Loss=0.5672001838684082 Batch_id=1203 Accuracy=75.73: 100%|██████████| 1204/1204 [11:14<00:00,  1.79it/s]\n",
            "  0%|          | 0/1204 [00:00<?, ?it/s]"
          ],
          "name": "stderr"
        },
        {
          "output_type": "stream",
          "text": [
            "\n",
            "Validation set: Average loss: 0.0285, Accuracy: 18608/33000 (56.39%)\n",
            "\n"
          ],
          "name": "stdout"
        },
        {
          "output_type": "stream",
          "text": [
            "Epoch= 27 Loss=1.4255411624908447 Batch_id=1203 Accuracy=76.17: 100%|██████████| 1204/1204 [11:15<00:00,  1.78it/s]\n",
            "  0%|          | 0/1204 [00:00<?, ?it/s]"
          ],
          "name": "stderr"
        },
        {
          "output_type": "stream",
          "text": [
            "\n",
            "Validation set: Average loss: 0.0286, Accuracy: 18572/33000 (56.28%)\n",
            "\n"
          ],
          "name": "stdout"
        },
        {
          "output_type": "stream",
          "text": [
            "Epoch= 28 Loss=0.8491869568824768 Batch_id=95 Accuracy=77.70:   8%|▊         | 95/1204 [00:53<10:08,  1.82it/s]"
          ],
          "name": "stderr"
        },
        {
          "output_type": "stream",
          "text": [
            "Buffered data was truncated after reaching the output size limit."
          ],
          "name": "stdout"
        }
      ]
    },
    {
      "cell_type": "code",
      "metadata": {
        "colab_type": "code",
        "id": "xIA-70tqj93-",
        "colab": {
          "base_uri": "https://localhost:8080/",
          "height": 458
        },
        "outputId": "d5990d4a-f0df-47c8-e6ee-4e5e11c0ae26"
      },
      "source": [
        "acc_fig, axs = plt.subplots(1,1,figsize=(10,7))\n",
        "axs.set_xlim([-1, 50])\n",
        "axs.plot(train_acc, label='Train Accuracy')\n",
        "axs.plot(test_acc, label='Test Accuracy')\n",
        "axs.set_title(\"Accuracy Change Plot\")\n",
        "axs.set_xlabel(\"Epoch\")\n",
        "axs.set_ylabel(\"Accuracy\")\n",
        "axs.legend(loc='lower right', prop={'size': 18})\n",
        "acc_fig.savefig('/content/gdrive/My Drive/Colab Notebooks/accuracy_change_plot.jpg')"
      ],
      "execution_count": 11,
      "outputs": [
        {
          "output_type": "display_data",
          "data": {
            "image/png": "[encoded data removed]",
            "text/plain": [
              "<Figure size 720x504 with 1 Axes>"
            ]
          },
          "metadata": {
            "tags": [],
            "needs_background": "light"
          }
        }
      ]
    }
  ]
}