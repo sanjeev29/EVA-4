{
 "cells": [
  {
   "cell_type": "code",
   "execution_count": 1,
   "metadata": {},
   "outputs": [],
   "source": [
    "%matplotlib inline\n",
    "import torch\n",
    "import torchvision\n",
    "import matplotlib.pyplot as plt\n",
    "import numpy as np"
   ]
  },
  {
   "cell_type": "code",
   "execution_count": 2,
   "metadata": {},
   "outputs": [
    {
     "name": "stdout",
     "output_type": "stream",
     "text": [
      "Files already downloaded and verified\n",
      "Files already downloaded and verified\n",
      "Files already downloaded and verified\n",
      "CUDA Available? True\n"
     ]
    }
   ],
   "source": [
    "from models.utils import loader\n",
    "\n",
    "# Initialize CIFAR-10 classes\n",
    "classes = ('plane', 'car', 'bird', 'cat',\n",
    "           'deer', 'dog', 'frog', 'horse', 'ship', 'truck') "
   ]
  },
  {
   "cell_type": "code",
   "execution_count": 3,
   "metadata": {},
   "outputs": [
    {
     "name": "stderr",
     "output_type": "stream",
     "text": [
      "Clipping input data to the valid range for imshow with RGB data ([0..1] for floats or [0..255] for integers).\n"
     ]
    },
    {
     "name": "stdout",
     "output_type": "stream",
     "text": [
      "plane   dog  deer  deer\n"
     ]
    },
    {
     "data": {
      "image/png": "[encoded data removed]",
      "text/plain": [
       "<Figure size 432x288 with 1 Axes>"
      ]
     },
     "metadata": {
      "needs_background": "light"
     },
     "output_type": "display_data"
    }
   ],
   "source": [
    "# functions to show an image\n",
    "def imshow(img):\n",
    "    img = img / 2 + 0.5     # unnormalize\n",
    "    npimg = img.numpy()\n",
    "    plt.imshow(np.transpose(npimg, (1, 2, 0)))\n",
    "\n",
    "# get some random training images\n",
    "dataiter = iter(loader.trainloader_for_plot_alb)\n",
    "images, labels = dataiter.next()\n",
    "\n",
    "# show images\n",
    "imshow(torchvision.utils.make_grid(images))\n",
    "\n",
    "# print labels\n",
    "print(' '.join('%5s' % classes[labels[j]] for j in range(4)))"
   ]
  },
  {
   "cell_type": "code",
   "execution_count": 4,
   "metadata": {},
   "outputs": [],
   "source": [
    "from models.resnet import ResNet18"
   ]
  },
  {
   "cell_type": "code",
   "execution_count": 5,
   "metadata": {},
   "outputs": [
    {
     "name": "stdout",
     "output_type": "stream",
     "text": [
      "Device: cuda\n",
      "----------------------------------------------------------------\n",
      "        Layer (type)               Output Shape         Param #\n",
      "================================================================\n",
      "            Conv2d-1           [-1, 64, 32, 32]           1,728\n",
      "       BatchNorm2d-2           [-1, 64, 32, 32]             128\n",
      "            Conv2d-3           [-1, 64, 32, 32]          36,864\n",
      "       BatchNorm2d-4           [-1, 64, 32, 32]             128\n",
      "            Conv2d-5           [-1, 64, 32, 32]          36,864\n",
      "       BatchNorm2d-6           [-1, 64, 32, 32]             128\n",
      "        BasicBlock-7           [-1, 64, 32, 32]               0\n",
      "            Conv2d-8           [-1, 64, 32, 32]          36,864\n",
      "       BatchNorm2d-9           [-1, 64, 32, 32]             128\n",
      "           Conv2d-10           [-1, 64, 32, 32]          36,864\n",
      "      BatchNorm2d-11           [-1, 64, 32, 32]             128\n",
      "       BasicBlock-12           [-1, 64, 32, 32]               0\n",
      "           Conv2d-13          [-1, 128, 16, 16]          73,728\n",
      "      BatchNorm2d-14          [-1, 128, 16, 16]             256\n",
      "           Conv2d-15          [-1, 128, 16, 16]         147,456\n",
      "      BatchNorm2d-16          [-1, 128, 16, 16]             256\n",
      "           Conv2d-17          [-1, 128, 16, 16]           8,192\n",
      "      BatchNorm2d-18          [-1, 128, 16, 16]             256\n",
      "       BasicBlock-19          [-1, 128, 16, 16]               0\n",
      "           Conv2d-20          [-1, 128, 16, 16]         147,456\n",
      "      BatchNorm2d-21          [-1, 128, 16, 16]             256\n",
      "           Conv2d-22          [-1, 128, 16, 16]         147,456\n",
      "      BatchNorm2d-23          [-1, 128, 16, 16]             256\n",
      "       BasicBlock-24          [-1, 128, 16, 16]               0\n",
      "           Conv2d-25            [-1, 256, 8, 8]         294,912\n",
      "      BatchNorm2d-26            [-1, 256, 8, 8]             512\n",
      "           Conv2d-27            [-1, 256, 8, 8]         589,824\n",
      "      BatchNorm2d-28            [-1, 256, 8, 8]             512\n",
      "           Conv2d-29            [-1, 256, 8, 8]          32,768\n",
      "      BatchNorm2d-30            [-1, 256, 8, 8]             512\n",
      "       BasicBlock-31            [-1, 256, 8, 8]               0\n",
      "           Conv2d-32            [-1, 256, 8, 8]         589,824\n",
      "      BatchNorm2d-33            [-1, 256, 8, 8]             512\n",
      "           Conv2d-34            [-1, 256, 8, 8]         589,824\n",
      "      BatchNorm2d-35            [-1, 256, 8, 8]             512\n",
      "       BasicBlock-36            [-1, 256, 8, 8]               0\n",
      "           Conv2d-37            [-1, 512, 4, 4]       1,179,648\n",
      "      BatchNorm2d-38            [-1, 512, 4, 4]           1,024\n",
      "           Conv2d-39            [-1, 512, 4, 4]       2,359,296\n",
      "      BatchNorm2d-40            [-1, 512, 4, 4]           1,024\n",
      "           Conv2d-41            [-1, 512, 4, 4]         131,072\n",
      "      BatchNorm2d-42            [-1, 512, 4, 4]           1,024\n",
      "       BasicBlock-43            [-1, 512, 4, 4]               0\n",
      "           Conv2d-44            [-1, 512, 4, 4]       2,359,296\n",
      "      BatchNorm2d-45            [-1, 512, 4, 4]           1,024\n",
      "           Conv2d-46            [-1, 512, 4, 4]       2,359,296\n",
      "      BatchNorm2d-47            [-1, 512, 4, 4]           1,024\n",
      "       BasicBlock-48            [-1, 512, 4, 4]               0\n",
      "           Linear-49                   [-1, 10]           5,130\n",
      "================================================================\n",
      "Total params: 11,173,962\n",
      "Trainable params: 11,173,962\n",
      "Non-trainable params: 0\n",
      "----------------------------------------------------------------\n",
      "Input size (MB): 0.01\n",
      "Forward/backward pass size (MB): 11.25\n",
      "Params size (MB): 42.63\n",
      "Estimated Total Size (MB): 53.89\n",
      "----------------------------------------------------------------\n"
     ]
    }
   ],
   "source": [
    "from torchsummary import summary\n",
    "use_cuda = torch.cuda.is_available()\n",
    "device = torch.device(\"cuda\" if use_cuda else \"cpu\")\n",
    "print(f\"Device: {device}\")\n",
    "net = ResNet18().to(device)\n",
    "summary(net, input_size=(3, 32, 32))"
   ]
  },
  {
   "cell_type": "code",
   "execution_count": 6,
   "metadata": {},
   "outputs": [],
   "source": [
    "import torch.nn as nn\n",
    "import torch.optim as optim\n",
    "\n",
    "from torch.optim.lr_scheduler import ReduceLROnPlateau\n",
    "\n",
    "criterion = nn.CrossEntropyLoss()\n",
    "optimizer = optim.SGD(net.parameters(), lr=1e-7, momentum=0.9)"
   ]
  },
  {
   "cell_type": "code",
   "execution_count": 7,
   "metadata": {
    "scrolled": false
   },
   "outputs": [
    {
     "name": "stderr",
     "output_type": "stream",
     "text": [
      "WARNING:models.utils.lr_finder:To enable mixed precision training, please install `apex`. Or you can re-install this package by the following command:\n",
      "  pip install torch-lr-finder -v --global-option=\"amp\"\n"
     ]
    },
    {
     "data": {
      "application/vnd.jupyter.widget-view+json": {
       "model_id": "36dbe7b7815a4ec981804d46b2965d2a",
       "version_major": 2,
       "version_minor": 0
      },
      "text/plain": [
       "HBox(children=(FloatProgress(value=0.0, max=400.0), HTML(value='')))"
      ]
     },
     "metadata": {},
     "output_type": "display_data"
    },
    {
     "name": "stdout",
     "output_type": "stream",
     "text": [
      "\n",
      "Learning rate search finished. See the graph with {finder_name}.plot()\n"
     ]
    },
    {
     "data": {
      "image/png": "[encoded data removed]",
      "text/plain": [
       "<Figure size 432x288 with 1 Axes>"
      ]
     },
     "metadata": {
      "needs_background": "light"
     },
     "output_type": "display_data"
    },
    {
     "name": "stdout",
     "output_type": "stream",
     "text": [
      "Best LR: 0.024506370946974474\n"
     ]
    }
   ],
   "source": [
    "from models.utils import lr_finder\n",
    "\n",
    "lr_finder = lr_finder.LRFinder(net, optimizer, criterion, device=device)\n",
    "lr_finder.range_test(loader.trainloader_alb, end_lr=5, num_iter=400, step_mode=\"exp\")\n",
    "\n",
    "lr_finder.plot()\n",
    "\n",
    "best_loss = lr_finder.best_loss\n",
    "best_lr = lr_finder.history['lr'][lr_finder.history['loss'].index(best_loss)]\n",
    "\n",
    "print(f\"Best LR: {best_lr}\")\n",
    "\n",
    "lr_finder.reset()"
   ]
  },
  {
   "cell_type": "code",
   "execution_count": 8,
   "metadata": {},
   "outputs": [],
   "source": [
    "from models.utils import train\n",
    "from models.utils import test"
   ]
  },
  {
   "cell_type": "code",
   "execution_count": 9,
   "metadata": {},
   "outputs": [],
   "source": [
    "# Optimizer with best LR\n",
    "criterion = nn.CrossEntropyLoss()\n",
    "optimizer = optim.SGD(net.parameters(), lr=best_lr, momentum=0.9)\n",
    "scheduler = ReduceLROnPlateau(optimizer, min_lr=1e-4, factor=0.1, patience=2, verbose=True)"
   ]
  },
  {
   "cell_type": "code",
   "execution_count": 10,
   "metadata": {},
   "outputs": [
    {
     "name": "stderr",
     "output_type": "stream",
     "text": [
      "Epoch= 0 Loss=1.1405818462371826 Batch_id=390 Accuracy=42.08: 100%|██████████████████| 391/391 [01:53<00:00,  3.45it/s]\n",
      "  0%|                                                                                          | 0/391 [00:00<?, ?it/s]"
     ]
    },
    {
     "name": "stdout",
     "output_type": "stream",
     "text": [
      "\n",
      "Validation set: Average loss: 0.0100, Accuracy: 5651/10000 (56.51%)\n",
      "\n"
     ]
    },
    {
     "name": "stderr",
     "output_type": "stream",
     "text": [
      "Epoch= 1 Loss=0.9938163757324219 Batch_id=390 Accuracy=58.06: 100%|██████████████████| 391/391 [01:52<00:00,  3.47it/s]\n",
      "  0%|                                                                                          | 0/391 [00:00<?, ?it/s]"
     ]
    },
    {
     "name": "stdout",
     "output_type": "stream",
     "text": [
      "\n",
      "Validation set: Average loss: 0.0072, Accuracy: 6797/10000 (67.97%)\n",
      "\n"
     ]
    },
    {
     "name": "stderr",
     "output_type": "stream",
     "text": [
      "Epoch= 2 Loss=1.1522136926651 Batch_id=390 Accuracy=65.48: 100%|█████████████████████| 391/391 [01:53<00:00,  3.45it/s]\n",
      "  0%|                                                                                          | 0/391 [00:00<?, ?it/s]"
     ]
    },
    {
     "name": "stdout",
     "output_type": "stream",
     "text": [
      "\n",
      "Validation set: Average loss: 0.0066, Accuracy: 7159/10000 (71.59%)\n",
      "\n"
     ]
    },
    {
     "name": "stderr",
     "output_type": "stream",
     "text": [
      "Epoch= 3 Loss=0.7140182256698608 Batch_id=390 Accuracy=69.96: 100%|██████████████████| 391/391 [01:53<00:00,  3.45it/s]\n",
      "  0%|                                                                                          | 0/391 [00:00<?, ?it/s]"
     ]
    },
    {
     "name": "stdout",
     "output_type": "stream",
     "text": [
      "\n",
      "Validation set: Average loss: 0.0061, Accuracy: 7380/10000 (73.80%)\n",
      "\n"
     ]
    },
    {
     "name": "stderr",
     "output_type": "stream",
     "text": [
      "Epoch= 4 Loss=0.7351621985435486 Batch_id=390 Accuracy=73.32: 100%|██████████████████| 391/391 [01:53<00:00,  3.44it/s]\n",
      "  0%|                                                                                          | 0/391 [00:00<?, ?it/s]"
     ]
    },
    {
     "name": "stdout",
     "output_type": "stream",
     "text": [
      "\n",
      "Validation set: Average loss: 0.0048, Accuracy: 7905/10000 (79.05%)\n",
      "\n"
     ]
    },
    {
     "name": "stderr",
     "output_type": "stream",
     "text": [
      "Epoch= 5 Loss=0.6261884570121765 Batch_id=390 Accuracy=75.80: 100%|██████████████████| 391/391 [01:53<00:00,  3.45it/s]\n",
      "  0%|                                                                                          | 0/391 [00:00<?, ?it/s]"
     ]
    },
    {
     "name": "stdout",
     "output_type": "stream",
     "text": [
      "\n",
      "Validation set: Average loss: 0.0052, Accuracy: 7775/10000 (77.75%)\n",
      "\n"
     ]
    },
    {
     "name": "stderr",
     "output_type": "stream",
     "text": [
      "Epoch= 6 Loss=0.6035202145576477 Batch_id=390 Accuracy=77.49: 100%|██████████████████| 391/391 [01:52<00:00,  3.46it/s]\n",
      "  0%|                                                                                          | 0/391 [00:00<?, ?it/s]"
     ]
    },
    {
     "name": "stdout",
     "output_type": "stream",
     "text": [
      "\n",
      "Validation set: Average loss: 0.0054, Accuracy: 7861/10000 (78.61%)\n",
      "\n"
     ]
    },
    {
     "name": "stderr",
     "output_type": "stream",
     "text": [
      "Epoch= 7 Loss=0.654679000377655 Batch_id=390 Accuracy=79.16: 100%|███████████████████| 391/391 [01:53<00:00,  3.43it/s]\n",
      "  0%|                                                                                          | 0/391 [00:00<?, ?it/s]"
     ]
    },
    {
     "name": "stdout",
     "output_type": "stream",
     "text": [
      "\n",
      "Validation set: Average loss: 0.0038, Accuracy: 8336/10000 (83.36%)\n",
      "\n"
     ]
    },
    {
     "name": "stderr",
     "output_type": "stream",
     "text": [
      "Epoch= 8 Loss=0.35618433356285095 Batch_id=390 Accuracy=80.46: 100%|█████████████████| 391/391 [01:52<00:00,  3.46it/s]\n",
      "  0%|                                                                                          | 0/391 [00:00<?, ?it/s]"
     ]
    },
    {
     "name": "stdout",
     "output_type": "stream",
     "text": [
      "\n",
      "Validation set: Average loss: 0.0045, Accuracy: 8190/10000 (81.90%)\n",
      "\n"
     ]
    },
    {
     "name": "stderr",
     "output_type": "stream",
     "text": [
      "Epoch= 9 Loss=0.37582874298095703 Batch_id=390 Accuracy=81.68: 100%|█████████████████| 391/391 [01:53<00:00,  3.45it/s]\n",
      "  0%|                                                                                          | 0/391 [00:00<?, ?it/s]"
     ]
    },
    {
     "name": "stdout",
     "output_type": "stream",
     "text": [
      "\n",
      "Validation set: Average loss: 0.0036, Accuracy: 8504/10000 (85.04%)\n",
      "\n"
     ]
    },
    {
     "name": "stderr",
     "output_type": "stream",
     "text": [
      "Epoch= 10 Loss=0.41546574234962463 Batch_id=390 Accuracy=82.75: 100%|████████████████| 391/391 [01:52<00:00,  3.47it/s]\n",
      "  0%|                                                                                          | 0/391 [00:00<?, ?it/s]"
     ]
    },
    {
     "name": "stdout",
     "output_type": "stream",
     "text": [
      "\n",
      "Validation set: Average loss: 0.0033, Accuracy: 8587/10000 (85.87%)\n",
      "\n"
     ]
    },
    {
     "name": "stderr",
     "output_type": "stream",
     "text": [
      "Epoch= 11 Loss=0.553385853767395 Batch_id=390 Accuracy=83.92: 100%|██████████████████| 391/391 [01:53<00:00,  3.45it/s]\n",
      "  0%|                                                                                          | 0/391 [00:00<?, ?it/s]"
     ]
    },
    {
     "name": "stdout",
     "output_type": "stream",
     "text": [
      "\n",
      "Validation set: Average loss: 0.0048, Accuracy: 8099/10000 (80.99%)\n",
      "\n"
     ]
    },
    {
     "name": "stderr",
     "output_type": "stream",
     "text": [
      "Epoch= 12 Loss=0.3980424404144287 Batch_id=390 Accuracy=84.71: 100%|█████████████████| 391/391 [01:53<00:00,  3.44it/s]\n",
      "  0%|                                                                                          | 0/391 [00:00<?, ?it/s]"
     ]
    },
    {
     "name": "stdout",
     "output_type": "stream",
     "text": [
      "\n",
      "Validation set: Average loss: 0.0041, Accuracy: 8356/10000 (83.56%)\n",
      "\n"
     ]
    },
    {
     "name": "stderr",
     "output_type": "stream",
     "text": [
      "Epoch= 13 Loss=0.39091023802757263 Batch_id=390 Accuracy=85.53: 100%|████████████████| 391/391 [01:53<00:00,  3.45it/s]\n",
      "  0%|                                                                                          | 0/391 [00:00<?, ?it/s]"
     ]
    },
    {
     "name": "stdout",
     "output_type": "stream",
     "text": [
      "\n",
      "Validation set: Average loss: 0.0034, Accuracy: 8558/10000 (85.58%)\n",
      "\n",
      "Epoch    14: reducing learning rate of group 0 to 2.4506e-03.\n"
     ]
    },
    {
     "name": "stderr",
     "output_type": "stream",
     "text": [
      "Epoch= 14 Loss=0.23549464344978333 Batch_id=390 Accuracy=89.85: 100%|████████████████| 391/391 [01:52<00:00,  3.48it/s]\n",
      "  0%|                                                                                          | 0/391 [00:00<?, ?it/s]"
     ]
    },
    {
     "name": "stdout",
     "output_type": "stream",
     "text": [
      "\n",
      "Validation set: Average loss: 0.0028, Accuracy: 8849/10000 (88.49%)\n",
      "\n"
     ]
    },
    {
     "name": "stderr",
     "output_type": "stream",
     "text": [
      "Epoch= 15 Loss=0.26920804381370544 Batch_id=390 Accuracy=90.64: 100%|████████████████| 391/391 [01:53<00:00,  3.44it/s]\n",
      "  0%|                                                                                          | 0/391 [00:00<?, ?it/s]"
     ]
    },
    {
     "name": "stdout",
     "output_type": "stream",
     "text": [
      "\n",
      "Validation set: Average loss: 0.0027, Accuracy: 8867/10000 (88.67%)\n",
      "\n"
     ]
    },
    {
     "name": "stderr",
     "output_type": "stream",
     "text": [
      "Epoch= 16 Loss=0.2512708306312561 Batch_id=390 Accuracy=91.17: 100%|█████████████████| 391/391 [01:53<00:00,  3.44it/s]\n",
      "  0%|                                                                                          | 0/391 [00:00<?, ?it/s]"
     ]
    },
    {
     "name": "stdout",
     "output_type": "stream",
     "text": [
      "\n",
      "Validation set: Average loss: 0.0027, Accuracy: 8893/10000 (88.93%)\n",
      "\n"
     ]
    },
    {
     "name": "stderr",
     "output_type": "stream",
     "text": [
      "Epoch= 17 Loss=0.1661897748708725 Batch_id=390 Accuracy=91.82: 100%|█████████████████| 391/391 [01:52<00:00,  3.47it/s]\n",
      "  0%|                                                                                          | 0/391 [00:00<?, ?it/s]"
     ]
    },
    {
     "name": "stdout",
     "output_type": "stream",
     "text": [
      "\n",
      "Validation set: Average loss: 0.0028, Accuracy: 8920/10000 (89.20%)\n",
      "\n"
     ]
    },
    {
     "name": "stderr",
     "output_type": "stream",
     "text": [
      "Epoch= 18 Loss=0.145137220621109 Batch_id=390 Accuracy=91.98: 100%|██████████████████| 391/391 [01:51<00:00,  3.50it/s]\n",
      "  0%|                                                                                          | 0/391 [00:00<?, ?it/s]"
     ]
    },
    {
     "name": "stdout",
     "output_type": "stream",
     "text": [
      "\n",
      "Validation set: Average loss: 0.0029, Accuracy: 8914/10000 (89.14%)\n",
      "\n"
     ]
    },
    {
     "name": "stderr",
     "output_type": "stream",
     "text": [
      "Epoch= 19 Loss=0.23473353683948517 Batch_id=390 Accuracy=92.52: 100%|████████████████| 391/391 [01:52<00:00,  3.46it/s]\n",
      "  0%|                                                                                          | 0/391 [00:00<?, ?it/s]"
     ]
    },
    {
     "name": "stdout",
     "output_type": "stream",
     "text": [
      "\n",
      "Validation set: Average loss: 0.0028, Accuracy: 8917/10000 (89.17%)\n",
      "\n",
      "Epoch    20: reducing learning rate of group 0 to 2.4506e-04.\n"
     ]
    },
    {
     "name": "stderr",
     "output_type": "stream",
     "text": [
      "Epoch= 20 Loss=0.20901799201965332 Batch_id=390 Accuracy=93.23: 100%|████████████████| 391/391 [01:53<00:00,  3.44it/s]\n",
      "  0%|                                                                                          | 0/391 [00:00<?, ?it/s]"
     ]
    },
    {
     "name": "stdout",
     "output_type": "stream",
     "text": [
      "\n",
      "Validation set: Average loss: 0.0027, Accuracy: 8928/10000 (89.28%)\n",
      "\n"
     ]
    },
    {
     "name": "stderr",
     "output_type": "stream",
     "text": [
      "Epoch= 21 Loss=0.2607041895389557 Batch_id=390 Accuracy=93.35: 100%|█████████████████| 391/391 [01:53<00:00,  3.45it/s]\n",
      "  0%|                                                                                          | 0/391 [00:00<?, ?it/s]"
     ]
    },
    {
     "name": "stdout",
     "output_type": "stream",
     "text": [
      "\n",
      "Validation set: Average loss: 0.0028, Accuracy: 8935/10000 (89.35%)\n",
      "\n"
     ]
    },
    {
     "name": "stderr",
     "output_type": "stream",
     "text": [
      "Epoch= 22 Loss=0.0729900449514389 Batch_id=390 Accuracy=93.31: 100%|█████████████████| 391/391 [01:53<00:00,  3.46it/s]\n",
      "  0%|                                                                                          | 0/391 [00:00<?, ?it/s]"
     ]
    },
    {
     "name": "stdout",
     "output_type": "stream",
     "text": [
      "\n",
      "Validation set: Average loss: 0.0028, Accuracy: 8932/10000 (89.32%)\n",
      "\n",
      "Epoch    23: reducing learning rate of group 0 to 1.0000e-04.\n"
     ]
    },
    {
     "name": "stderr",
     "output_type": "stream",
     "text": [
      "Epoch= 23 Loss=0.1902758926153183 Batch_id=390 Accuracy=93.52: 100%|█████████████████| 391/391 [01:52<00:00,  3.48it/s]\n",
      "  0%|                                                                                          | 0/391 [00:00<?, ?it/s]"
     ]
    },
    {
     "name": "stdout",
     "output_type": "stream",
     "text": [
      "\n",
      "Validation set: Average loss: 0.0028, Accuracy: 8933/10000 (89.33%)\n",
      "\n"
     ]
    },
    {
     "name": "stderr",
     "output_type": "stream",
     "text": [
      "Epoch= 24 Loss=0.21016068756580353 Batch_id=390 Accuracy=93.44: 100%|████████████████| 391/391 [01:55<00:00,  3.39it/s]\n",
      "  0%|                                                                                          | 0/391 [00:00<?, ?it/s]"
     ]
    },
    {
     "name": "stdout",
     "output_type": "stream",
     "text": [
      "\n",
      "Validation set: Average loss: 0.0029, Accuracy: 8920/10000 (89.20%)\n",
      "\n"
     ]
    },
    {
     "name": "stderr",
     "output_type": "stream",
     "text": [
      "Epoch= 25 Loss=0.0971163660287857 Batch_id=390 Accuracy=93.54: 100%|█████████████████| 391/391 [01:57<00:00,  3.33it/s]\n",
      "  0%|                                                                                          | 0/391 [00:00<?, ?it/s]"
     ]
    },
    {
     "name": "stdout",
     "output_type": "stream",
     "text": [
      "\n",
      "Validation set: Average loss: 0.0028, Accuracy: 8940/10000 (89.40%)\n",
      "\n"
     ]
    },
    {
     "name": "stderr",
     "output_type": "stream",
     "text": [
      "Epoch= 26 Loss=0.06107982248067856 Batch_id=390 Accuracy=93.40: 100%|████████████████| 391/391 [01:53<00:00,  3.44it/s]\n",
      "  0%|                                                                                          | 0/391 [00:00<?, ?it/s]"
     ]
    },
    {
     "name": "stdout",
     "output_type": "stream",
     "text": [
      "\n",
      "Validation set: Average loss: 0.0027, Accuracy: 8929/10000 (89.29%)\n",
      "\n"
     ]
    },
    {
     "name": "stderr",
     "output_type": "stream",
     "text": [
      "Epoch= 27 Loss=0.2529658079147339 Batch_id=390 Accuracy=93.39: 100%|█████████████████| 391/391 [01:53<00:00,  3.44it/s]\n",
      "  0%|                                                                                          | 0/391 [00:00<?, ?it/s]"
     ]
    },
    {
     "name": "stdout",
     "output_type": "stream",
     "text": [
      "\n",
      "Validation set: Average loss: 0.0028, Accuracy: 8933/10000 (89.33%)\n",
      "\n"
     ]
    },
    {
     "name": "stderr",
     "output_type": "stream",
     "text": [
      "Epoch= 28 Loss=0.12319247424602509 Batch_id=390 Accuracy=93.62: 100%|████████████████| 391/391 [01:54<00:00,  3.42it/s]\n",
      "  0%|                                                                                          | 0/391 [00:00<?, ?it/s]"
     ]
    },
    {
     "name": "stdout",
     "output_type": "stream",
     "text": [
      "\n",
      "Validation set: Average loss: 0.0028, Accuracy: 8940/10000 (89.40%)\n",
      "\n"
     ]
    },
    {
     "name": "stderr",
     "output_type": "stream",
     "text": [
      "Epoch= 29 Loss=0.20989683270454407 Batch_id=390 Accuracy=93.46: 100%|████████████████| 391/391 [01:53<00:00,  3.44it/s]\n",
      "  0%|                                                                                          | 0/391 [00:00<?, ?it/s]"
     ]
    },
    {
     "name": "stdout",
     "output_type": "stream",
     "text": [
      "\n",
      "Validation set: Average loss: 0.0028, Accuracy: 8932/10000 (89.32%)\n",
      "\n"
     ]
    },
    {
     "name": "stderr",
     "output_type": "stream",
     "text": [
      "Epoch= 30 Loss=0.15605178475379944 Batch_id=390 Accuracy=93.37: 100%|████████████████| 391/391 [01:53<00:00,  3.44it/s]\n",
      "  0%|                                                                                          | 0/391 [00:00<?, ?it/s]"
     ]
    },
    {
     "name": "stdout",
     "output_type": "stream",
     "text": [
      "\n",
      "Validation set: Average loss: 0.0028, Accuracy: 8930/10000 (89.30%)\n",
      "\n"
     ]
    },
    {
     "name": "stderr",
     "output_type": "stream",
     "text": [
      "Epoch= 31 Loss=0.10221028327941895 Batch_id=390 Accuracy=93.54: 100%|████████████████| 391/391 [01:52<00:00,  3.46it/s]\n",
      "  0%|                                                                                          | 0/391 [00:00<?, ?it/s]"
     ]
    },
    {
     "name": "stdout",
     "output_type": "stream",
     "text": [
      "\n",
      "Validation set: Average loss: 0.0028, Accuracy: 8936/10000 (89.36%)\n",
      "\n"
     ]
    },
    {
     "name": "stderr",
     "output_type": "stream",
     "text": [
      "Epoch= 32 Loss=0.3246871829032898 Batch_id=390 Accuracy=93.58: 100%|█████████████████| 391/391 [01:53<00:00,  3.45it/s]\n",
      "  0%|                                                                                          | 0/391 [00:00<?, ?it/s]"
     ]
    },
    {
     "name": "stdout",
     "output_type": "stream",
     "text": [
      "\n",
      "Validation set: Average loss: 0.0028, Accuracy: 8941/10000 (89.41%)\n",
      "\n"
     ]
    },
    {
     "name": "stderr",
     "output_type": "stream",
     "text": [
      "Epoch= 33 Loss=0.18578125536441803 Batch_id=390 Accuracy=93.60: 100%|████████████████| 391/391 [01:54<00:00,  3.41it/s]\n",
      "  0%|                                                                                          | 0/391 [00:00<?, ?it/s]"
     ]
    },
    {
     "name": "stdout",
     "output_type": "stream",
     "text": [
      "\n",
      "Validation set: Average loss: 0.0028, Accuracy: 8940/10000 (89.40%)\n",
      "\n"
     ]
    },
    {
     "name": "stderr",
     "output_type": "stream",
     "text": [
      "Epoch= 34 Loss=0.18263757228851318 Batch_id=390 Accuracy=93.49: 100%|████████████████| 391/391 [01:53<00:00,  3.44it/s]\n",
      "  0%|                                                                                          | 0/391 [00:00<?, ?it/s]"
     ]
    },
    {
     "name": "stdout",
     "output_type": "stream",
     "text": [
      "\n",
      "Validation set: Average loss: 0.0028, Accuracy: 8945/10000 (89.45%)\n",
      "\n"
     ]
    },
    {
     "name": "stderr",
     "output_type": "stream",
     "text": [
      "Epoch= 35 Loss=0.14859190583229065 Batch_id=390 Accuracy=93.64: 100%|████████████████| 391/391 [01:54<00:00,  3.43it/s]\n",
      "  0%|                                                                                          | 0/391 [00:00<?, ?it/s]"
     ]
    },
    {
     "name": "stdout",
     "output_type": "stream",
     "text": [
      "\n",
      "Validation set: Average loss: 0.0028, Accuracy: 8933/10000 (89.33%)\n",
      "\n"
     ]
    },
    {
     "name": "stderr",
     "output_type": "stream",
     "text": [
      "Epoch= 36 Loss=0.2036881446838379 Batch_id=390 Accuracy=93.60: 100%|█████████████████| 391/391 [01:54<00:00,  3.42it/s]\n",
      "  0%|                                                                                          | 0/391 [00:00<?, ?it/s]"
     ]
    },
    {
     "name": "stdout",
     "output_type": "stream",
     "text": [
      "\n",
      "Validation set: Average loss: 0.0028, Accuracy: 8939/10000 (89.39%)\n",
      "\n"
     ]
    },
    {
     "name": "stderr",
     "output_type": "stream",
     "text": [
      "Epoch= 37 Loss=0.15256838500499725 Batch_id=390 Accuracy=93.69: 100%|████████████████| 391/391 [01:52<00:00,  3.46it/s]\n",
      "  0%|                                                                                          | 0/391 [00:00<?, ?it/s]"
     ]
    },
    {
     "name": "stdout",
     "output_type": "stream",
     "text": [
      "\n",
      "Validation set: Average loss: 0.0028, Accuracy: 8939/10000 (89.39%)\n",
      "\n"
     ]
    },
    {
     "name": "stderr",
     "output_type": "stream",
     "text": [
      "Epoch= 38 Loss=0.17536285519599915 Batch_id=390 Accuracy=93.76: 100%|████████████████| 391/391 [01:52<00:00,  3.47it/s]\n",
      "  0%|                                                                                          | 0/391 [00:00<?, ?it/s]"
     ]
    },
    {
     "name": "stdout",
     "output_type": "stream",
     "text": [
      "\n",
      "Validation set: Average loss: 0.0027, Accuracy: 8941/10000 (89.41%)\n",
      "\n"
     ]
    },
    {
     "name": "stderr",
     "output_type": "stream",
     "text": [
      "Epoch= 39 Loss=0.1719137728214264 Batch_id=390 Accuracy=93.68: 100%|█████████████████| 391/391 [01:53<00:00,  3.44it/s]\n",
      "  0%|                                                                                          | 0/391 [00:00<?, ?it/s]"
     ]
    },
    {
     "name": "stdout",
     "output_type": "stream",
     "text": [
      "\n",
      "Validation set: Average loss: 0.0028, Accuracy: 8941/10000 (89.41%)\n",
      "\n"
     ]
    },
    {
     "name": "stderr",
     "output_type": "stream",
     "text": [
      "Epoch= 40 Loss=0.11151695251464844 Batch_id=390 Accuracy=93.67: 100%|████████████████| 391/391 [01:53<00:00,  3.43it/s]\n",
      "  0%|                                                                                          | 0/391 [00:00<?, ?it/s]"
     ]
    },
    {
     "name": "stdout",
     "output_type": "stream",
     "text": [
      "\n",
      "Validation set: Average loss: 0.0028, Accuracy: 8934/10000 (89.34%)\n",
      "\n"
     ]
    },
    {
     "name": "stderr",
     "output_type": "stream",
     "text": [
      "Epoch= 41 Loss=0.17041555047035217 Batch_id=390 Accuracy=93.84: 100%|████████████████| 391/391 [01:53<00:00,  3.46it/s]\n",
      "  0%|                                                                                          | 0/391 [00:00<?, ?it/s]"
     ]
    },
    {
     "name": "stdout",
     "output_type": "stream",
     "text": [
      "\n",
      "Validation set: Average loss: 0.0028, Accuracy: 8933/10000 (89.33%)\n",
      "\n"
     ]
    },
    {
     "name": "stderr",
     "output_type": "stream",
     "text": [
      "Epoch= 42 Loss=0.10528914630413055 Batch_id=390 Accuracy=93.79: 100%|████████████████| 391/391 [01:53<00:00,  3.45it/s]\n",
      "  0%|                                                                                          | 0/391 [00:00<?, ?it/s]"
     ]
    },
    {
     "name": "stdout",
     "output_type": "stream",
     "text": [
      "\n",
      "Validation set: Average loss: 0.0028, Accuracy: 8943/10000 (89.43%)\n",
      "\n"
     ]
    },
    {
     "name": "stderr",
     "output_type": "stream",
     "text": [
      "Epoch= 43 Loss=0.34388071298599243 Batch_id=390 Accuracy=94.01: 100%|████████████████| 391/391 [01:53<00:00,  3.44it/s]\n",
      "  0%|                                                                                          | 0/391 [00:00<?, ?it/s]"
     ]
    },
    {
     "name": "stdout",
     "output_type": "stream",
     "text": [
      "\n",
      "Validation set: Average loss: 0.0028, Accuracy: 8936/10000 (89.36%)\n",
      "\n"
     ]
    },
    {
     "name": "stderr",
     "output_type": "stream",
     "text": [
      "Epoch= 44 Loss=0.20966430008411407 Batch_id=390 Accuracy=93.81: 100%|████████████████| 391/391 [01:53<00:00,  3.45it/s]\n",
      "  0%|                                                                                          | 0/391 [00:00<?, ?it/s]"
     ]
    },
    {
     "name": "stdout",
     "output_type": "stream",
     "text": [
      "\n",
      "Validation set: Average loss: 0.0028, Accuracy: 8940/10000 (89.40%)\n",
      "\n"
     ]
    },
    {
     "name": "stderr",
     "output_type": "stream",
     "text": [
      "Epoch= 45 Loss=0.1491837203502655 Batch_id=390 Accuracy=93.79: 100%|█████████████████| 391/391 [01:52<00:00,  3.48it/s]\n",
      "  0%|                                                                                          | 0/391 [00:00<?, ?it/s]"
     ]
    },
    {
     "name": "stdout",
     "output_type": "stream",
     "text": [
      "\n",
      "Validation set: Average loss: 0.0028, Accuracy: 8926/10000 (89.26%)\n",
      "\n"
     ]
    },
    {
     "name": "stderr",
     "output_type": "stream",
     "text": [
      "Epoch= 46 Loss=0.2426108568906784 Batch_id=390 Accuracy=93.78: 100%|█████████████████| 391/391 [01:53<00:00,  3.45it/s]\n",
      "  0%|                                                                                          | 0/391 [00:00<?, ?it/s]"
     ]
    },
    {
     "name": "stdout",
     "output_type": "stream",
     "text": [
      "\n",
      "Validation set: Average loss: 0.0029, Accuracy: 8930/10000 (89.30%)\n",
      "\n"
     ]
    },
    {
     "name": "stderr",
     "output_type": "stream",
     "text": [
      "Epoch= 47 Loss=0.203705832362175 Batch_id=390 Accuracy=94.06: 100%|██████████████████| 391/391 [01:53<00:00,  3.44it/s]\n",
      "  0%|                                                                                          | 0/391 [00:00<?, ?it/s]"
     ]
    },
    {
     "name": "stdout",
     "output_type": "stream",
     "text": [
      "\n",
      "Validation set: Average loss: 0.0028, Accuracy: 8934/10000 (89.34%)\n",
      "\n"
     ]
    },
    {
     "name": "stderr",
     "output_type": "stream",
     "text": [
      "Epoch= 48 Loss=0.17061229050159454 Batch_id=390 Accuracy=93.71: 100%|████████████████| 391/391 [01:53<00:00,  3.46it/s]\n",
      "  0%|                                                                                          | 0/391 [00:00<?, ?it/s]"
     ]
    },
    {
     "name": "stdout",
     "output_type": "stream",
     "text": [
      "\n",
      "Validation set: Average loss: 0.0028, Accuracy: 8929/10000 (89.29%)\n",
      "\n"
     ]
    },
    {
     "name": "stderr",
     "output_type": "stream",
     "text": [
      "Epoch= 49 Loss=0.1820249855518341 Batch_id=390 Accuracy=93.91: 100%|█████████████████| 391/391 [01:53<00:00,  3.44it/s]\n"
     ]
    },
    {
     "name": "stdout",
     "output_type": "stream",
     "text": [
      "\n",
      "Validation set: Average loss: 0.0028, Accuracy: 8941/10000 (89.41%)\n",
      "\n"
     ]
    }
   ],
   "source": [
    "epochs = 50\n",
    "last_epoch = False\n",
    "\n",
    "train_losses = []\n",
    "train_acc = []\n",
    "test_acc = []\n",
    "test_losses = []\n",
    "\n",
    "for epoch in range(epochs):\n",
    "    train.train(net, device, loader.trainloader_alb, optimizer, criterion, epoch, train_acc , train_losses)\n",
    "    if epoch == epochs - 1:\n",
    "        last_epoch = True\n",
    "    test.test(net, device, loader.testloader, criterion, last_epoch, test_acc, test_losses)\n",
    "    scheduler.step(test_losses[-1])"
   ]
  },
  {
   "cell_type": "code",
   "execution_count": 11,
   "metadata": {},
   "outputs": [
    {
     "data": {
      "image/png": "[encoded data removed]",
      "text/plain": [
       "<Figure size 720x504 with 1 Axes>"
      ]
     },
     "metadata": {
      "needs_background": "light"
     },
     "output_type": "display_data"
    }
   ],
   "source": [
    "acc_fig, axs = plt.subplots(1,1,figsize=(10,7))\n",
    "axs.set_xlim([-1, 50])\n",
    "axs.plot(train_acc, label='Train Accuracy')\n",
    "axs.plot(test_acc, label='Test Accuracy')\n",
    "axs.set_title(\"Accuracy Change Plot\")\n",
    "axs.set_xlabel(\"Epoch\")\n",
    "axs.set_ylabel(\"Accuracy\")\n",
    "axs.legend(loc='lower right', prop={'size': 18})\n",
    "\n",
    "acc_fig.savefig('accuracy_change_plot.jpg')"
   ]
  },
  {
   "cell_type": "code",
   "execution_count": 12,
   "metadata": {},
   "outputs": [
    {
     "name": "stderr",
     "output_type": "stream",
     "text": [
      "100%|██████████████████████████████████████████████████████████████████████████████████| 79/79 [00:11<00:00,  6.76it/s]"
     ]
    },
    {
     "name": "stdout",
     "output_type": "stream",
     "text": [
      "Accuracy of plane : 96 %\n",
      "Accuracy of   car : 96 %\n",
      "Accuracy of  bird : 73 %\n",
      "Accuracy of   cat : 77 %\n",
      "Accuracy of  deer : 89 %\n",
      "Accuracy of   dog : 89 %\n",
      "Accuracy of  frog : 93 %\n",
      "Accuracy of horse : 97 %\n",
      "Accuracy of  ship : 97 %\n",
      "Accuracy of truck : 85 %\n"
     ]
    },
    {
     "name": "stderr",
     "output_type": "stream",
     "text": [
      "\n"
     ]
    }
   ],
   "source": [
    "test.test_class_performance(net, device, loader.testloader, classes)"
   ]
  },
  {
   "cell_type": "code",
   "execution_count": null,
   "metadata": {},
   "outputs": [],
   "source": []
  }
 ],
 "metadata": {
  "kernelspec": {
   "display_name": "Python 3",
   "language": "python",
   "name": "python3"
  },
  "language_info": {
   "codemirror_mode": {
    "name": "ipython",
    "version": 3
   },
   "file_extension": ".py",
   "mimetype": "text/x-python",
   "name": "python",
   "nbconvert_exporter": "python",
   "pygments_lexer": "ipython3",
   "version": "3.7.6"
  }
 },
 "nbformat": 4,
 "nbformat_minor": 4
}
